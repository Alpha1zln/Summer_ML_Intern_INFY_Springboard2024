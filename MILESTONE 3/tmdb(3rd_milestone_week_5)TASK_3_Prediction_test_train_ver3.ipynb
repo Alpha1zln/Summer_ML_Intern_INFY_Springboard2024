{
  "nbformat": 4,
  "nbformat_minor": 0,
  "metadata": {
    "colab": {
      "provenance": []
    },
    "kernelspec": {
      "name": "python3",
      "display_name": "Python 3"
    },
    "language_info": {
      "name": "python"
    },
    "widgets": {
      "application/vnd.jupyter.widget-state+json": {
        "63f0770cbc9f4bb1aae3691bd45bf5ae": {
          "model_module": "@jupyter-widgets/controls",
          "model_name": "HBoxModel",
          "model_module_version": "1.5.0",
          "state": {
            "_dom_classes": [],
            "_model_module": "@jupyter-widgets/controls",
            "_model_module_version": "1.5.0",
            "_model_name": "HBoxModel",
            "_view_count": null,
            "_view_module": "@jupyter-widgets/controls",
            "_view_module_version": "1.5.0",
            "_view_name": "HBoxView",
            "box_style": "",
            "children": [
              "IPY_MODEL_a80257be46044cc898077f03469ad49d",
              "IPY_MODEL_6af7f08157614327818051c50550acc2",
              "IPY_MODEL_4d68f980f01a4361a31532412ec9da90"
            ],
            "layout": "IPY_MODEL_6f74a1ef3f8b40a399b0c7fab696921e"
          }
        },
        "a80257be46044cc898077f03469ad49d": {
          "model_module": "@jupyter-widgets/controls",
          "model_name": "HTMLModel",
          "model_module_version": "1.5.0",
          "state": {
            "_dom_classes": [],
            "_model_module": "@jupyter-widgets/controls",
            "_model_module_version": "1.5.0",
            "_model_name": "HTMLModel",
            "_view_count": null,
            "_view_module": "@jupyter-widgets/controls",
            "_view_module_version": "1.5.0",
            "_view_name": "HTMLView",
            "description": "",
            "description_tooltip": null,
            "layout": "IPY_MODEL_98686ac4cae44db8bf37088490fd5060",
            "placeholder": "​",
            "style": "IPY_MODEL_b0d2c3f7f2d54bd7ac0259de1c860230",
            "value": "Processing: 100%"
          }
        },
        "6af7f08157614327818051c50550acc2": {
          "model_module": "@jupyter-widgets/controls",
          "model_name": "FloatProgressModel",
          "model_module_version": "1.5.0",
          "state": {
            "_dom_classes": [],
            "_model_module": "@jupyter-widgets/controls",
            "_model_module_version": "1.5.0",
            "_model_name": "FloatProgressModel",
            "_view_count": null,
            "_view_module": "@jupyter-widgets/controls",
            "_view_module_version": "1.5.0",
            "_view_name": "ProgressView",
            "bar_style": "",
            "description": "",
            "description_tooltip": null,
            "layout": "IPY_MODEL_726917ff15d04ce2a6fc1d7e519efe57",
            "max": 90,
            "min": 0,
            "orientation": "horizontal",
            "style": "IPY_MODEL_378c2c97721d4b658c5476d7aa8fa270",
            "value": 90
          }
        },
        "4d68f980f01a4361a31532412ec9da90": {
          "model_module": "@jupyter-widgets/controls",
          "model_name": "HTMLModel",
          "model_module_version": "1.5.0",
          "state": {
            "_dom_classes": [],
            "_model_module": "@jupyter-widgets/controls",
            "_model_module_version": "1.5.0",
            "_model_name": "HTMLModel",
            "_view_count": null,
            "_view_module": "@jupyter-widgets/controls",
            "_view_module_version": "1.5.0",
            "_view_name": "HTMLView",
            "description": "",
            "description_tooltip": null,
            "layout": "IPY_MODEL_029da7bb5e0643d1827b1909d302724c",
            "placeholder": "​",
            "style": "IPY_MODEL_2cb4057a14e94396931b360f24e6da2b",
            "value": " 90/90 [04:44&lt;00:00,  2.61s/it]"
          }
        },
        "6f74a1ef3f8b40a399b0c7fab696921e": {
          "model_module": "@jupyter-widgets/base",
          "model_name": "LayoutModel",
          "model_module_version": "1.2.0",
          "state": {
            "_model_module": "@jupyter-widgets/base",
            "_model_module_version": "1.2.0",
            "_model_name": "LayoutModel",
            "_view_count": null,
            "_view_module": "@jupyter-widgets/base",
            "_view_module_version": "1.2.0",
            "_view_name": "LayoutView",
            "align_content": null,
            "align_items": null,
            "align_self": null,
            "border": null,
            "bottom": null,
            "display": null,
            "flex": null,
            "flex_flow": null,
            "grid_area": null,
            "grid_auto_columns": null,
            "grid_auto_flow": null,
            "grid_auto_rows": null,
            "grid_column": null,
            "grid_gap": null,
            "grid_row": null,
            "grid_template_areas": null,
            "grid_template_columns": null,
            "grid_template_rows": null,
            "height": null,
            "justify_content": null,
            "justify_items": null,
            "left": null,
            "margin": null,
            "max_height": null,
            "max_width": null,
            "min_height": null,
            "min_width": null,
            "object_fit": null,
            "object_position": null,
            "order": null,
            "overflow": null,
            "overflow_x": null,
            "overflow_y": null,
            "padding": null,
            "right": null,
            "top": null,
            "visibility": "hidden",
            "width": null
          }
        },
        "98686ac4cae44db8bf37088490fd5060": {
          "model_module": "@jupyter-widgets/base",
          "model_name": "LayoutModel",
          "model_module_version": "1.2.0",
          "state": {
            "_model_module": "@jupyter-widgets/base",
            "_model_module_version": "1.2.0",
            "_model_name": "LayoutModel",
            "_view_count": null,
            "_view_module": "@jupyter-widgets/base",
            "_view_module_version": "1.2.0",
            "_view_name": "LayoutView",
            "align_content": null,
            "align_items": null,
            "align_self": null,
            "border": null,
            "bottom": null,
            "display": null,
            "flex": null,
            "flex_flow": null,
            "grid_area": null,
            "grid_auto_columns": null,
            "grid_auto_flow": null,
            "grid_auto_rows": null,
            "grid_column": null,
            "grid_gap": null,
            "grid_row": null,
            "grid_template_areas": null,
            "grid_template_columns": null,
            "grid_template_rows": null,
            "height": null,
            "justify_content": null,
            "justify_items": null,
            "left": null,
            "margin": null,
            "max_height": null,
            "max_width": null,
            "min_height": null,
            "min_width": null,
            "object_fit": null,
            "object_position": null,
            "order": null,
            "overflow": null,
            "overflow_x": null,
            "overflow_y": null,
            "padding": null,
            "right": null,
            "top": null,
            "visibility": null,
            "width": null
          }
        },
        "b0d2c3f7f2d54bd7ac0259de1c860230": {
          "model_module": "@jupyter-widgets/controls",
          "model_name": "DescriptionStyleModel",
          "model_module_version": "1.5.0",
          "state": {
            "_model_module": "@jupyter-widgets/controls",
            "_model_module_version": "1.5.0",
            "_model_name": "DescriptionStyleModel",
            "_view_count": null,
            "_view_module": "@jupyter-widgets/base",
            "_view_module_version": "1.2.0",
            "_view_name": "StyleView",
            "description_width": ""
          }
        },
        "726917ff15d04ce2a6fc1d7e519efe57": {
          "model_module": "@jupyter-widgets/base",
          "model_name": "LayoutModel",
          "model_module_version": "1.2.0",
          "state": {
            "_model_module": "@jupyter-widgets/base",
            "_model_module_version": "1.2.0",
            "_model_name": "LayoutModel",
            "_view_count": null,
            "_view_module": "@jupyter-widgets/base",
            "_view_module_version": "1.2.0",
            "_view_name": "LayoutView",
            "align_content": null,
            "align_items": null,
            "align_self": null,
            "border": null,
            "bottom": null,
            "display": null,
            "flex": null,
            "flex_flow": null,
            "grid_area": null,
            "grid_auto_columns": null,
            "grid_auto_flow": null,
            "grid_auto_rows": null,
            "grid_column": null,
            "grid_gap": null,
            "grid_row": null,
            "grid_template_areas": null,
            "grid_template_columns": null,
            "grid_template_rows": null,
            "height": null,
            "justify_content": null,
            "justify_items": null,
            "left": null,
            "margin": null,
            "max_height": null,
            "max_width": null,
            "min_height": null,
            "min_width": null,
            "object_fit": null,
            "object_position": null,
            "order": null,
            "overflow": null,
            "overflow_x": null,
            "overflow_y": null,
            "padding": null,
            "right": null,
            "top": null,
            "visibility": null,
            "width": null
          }
        },
        "378c2c97721d4b658c5476d7aa8fa270": {
          "model_module": "@jupyter-widgets/controls",
          "model_name": "ProgressStyleModel",
          "model_module_version": "1.5.0",
          "state": {
            "_model_module": "@jupyter-widgets/controls",
            "_model_module_version": "1.5.0",
            "_model_name": "ProgressStyleModel",
            "_view_count": null,
            "_view_module": "@jupyter-widgets/base",
            "_view_module_version": "1.2.0",
            "_view_name": "StyleView",
            "bar_color": null,
            "description_width": ""
          }
        },
        "029da7bb5e0643d1827b1909d302724c": {
          "model_module": "@jupyter-widgets/base",
          "model_name": "LayoutModel",
          "model_module_version": "1.2.0",
          "state": {
            "_model_module": "@jupyter-widgets/base",
            "_model_module_version": "1.2.0",
            "_model_name": "LayoutModel",
            "_view_count": null,
            "_view_module": "@jupyter-widgets/base",
            "_view_module_version": "1.2.0",
            "_view_name": "LayoutView",
            "align_content": null,
            "align_items": null,
            "align_self": null,
            "border": null,
            "bottom": null,
            "display": null,
            "flex": null,
            "flex_flow": null,
            "grid_area": null,
            "grid_auto_columns": null,
            "grid_auto_flow": null,
            "grid_auto_rows": null,
            "grid_column": null,
            "grid_gap": null,
            "grid_row": null,
            "grid_template_areas": null,
            "grid_template_columns": null,
            "grid_template_rows": null,
            "height": null,
            "justify_content": null,
            "justify_items": null,
            "left": null,
            "margin": null,
            "max_height": null,
            "max_width": null,
            "min_height": null,
            "min_width": null,
            "object_fit": null,
            "object_position": null,
            "order": null,
            "overflow": null,
            "overflow_x": null,
            "overflow_y": null,
            "padding": null,
            "right": null,
            "top": null,
            "visibility": null,
            "width": null
          }
        },
        "2cb4057a14e94396931b360f24e6da2b": {
          "model_module": "@jupyter-widgets/controls",
          "model_name": "DescriptionStyleModel",
          "model_module_version": "1.5.0",
          "state": {
            "_model_module": "@jupyter-widgets/controls",
            "_model_module_version": "1.5.0",
            "_model_name": "DescriptionStyleModel",
            "_view_count": null,
            "_view_module": "@jupyter-widgets/base",
            "_view_module_version": "1.2.0",
            "_view_name": "StyleView",
            "description_width": ""
          }
        },
        "8af6fc1f8ad04524907b3e2fc46ac2d3": {
          "model_module": "@jupyter-widgets/controls",
          "model_name": "HBoxModel",
          "model_module_version": "1.5.0",
          "state": {
            "_dom_classes": [],
            "_model_module": "@jupyter-widgets/controls",
            "_model_module_version": "1.5.0",
            "_model_name": "HBoxModel",
            "_view_count": null,
            "_view_module": "@jupyter-widgets/controls",
            "_view_module_version": "1.5.0",
            "_view_name": "HBoxView",
            "box_style": "",
            "children": [
              "IPY_MODEL_862eb34a3732417786bf53747ef8b74e",
              "IPY_MODEL_238a66686fb943b6aeb0fa28225ba0ba",
              "IPY_MODEL_bae57212c8ce4029be04c8e84165acdc"
            ],
            "layout": "IPY_MODEL_8476b0b765eb464f8c0b28c341103d33"
          }
        },
        "862eb34a3732417786bf53747ef8b74e": {
          "model_module": "@jupyter-widgets/controls",
          "model_name": "HTMLModel",
          "model_module_version": "1.5.0",
          "state": {
            "_dom_classes": [],
            "_model_module": "@jupyter-widgets/controls",
            "_model_module_version": "1.5.0",
            "_model_name": "HTMLModel",
            "_view_count": null,
            "_view_module": "@jupyter-widgets/controls",
            "_view_module_version": "1.5.0",
            "_view_name": "HTMLView",
            "description": "",
            "description_tooltip": null,
            "layout": "IPY_MODEL_9be7a38d7228445c9b93c3cab7c822a6",
            "placeholder": "​",
            "style": "IPY_MODEL_6b7c606616bb44e38ea36bb64d70060d",
            "value": "Processing: 100%"
          }
        },
        "238a66686fb943b6aeb0fa28225ba0ba": {
          "model_module": "@jupyter-widgets/controls",
          "model_name": "FloatProgressModel",
          "model_module_version": "1.5.0",
          "state": {
            "_dom_classes": [],
            "_model_module": "@jupyter-widgets/controls",
            "_model_module_version": "1.5.0",
            "_model_name": "FloatProgressModel",
            "_view_count": null,
            "_view_module": "@jupyter-widgets/controls",
            "_view_module_version": "1.5.0",
            "_view_name": "ProgressView",
            "bar_style": "",
            "description": "",
            "description_tooltip": null,
            "layout": "IPY_MODEL_e6f9fe10eff54af7bdabd5929bc850a5",
            "max": 4,
            "min": 0,
            "orientation": "horizontal",
            "style": "IPY_MODEL_64c732b4c8ff4a16a307dcd073d4f3aa",
            "value": 4
          }
        },
        "bae57212c8ce4029be04c8e84165acdc": {
          "model_module": "@jupyter-widgets/controls",
          "model_name": "HTMLModel",
          "model_module_version": "1.5.0",
          "state": {
            "_dom_classes": [],
            "_model_module": "@jupyter-widgets/controls",
            "_model_module_version": "1.5.0",
            "_model_name": "HTMLModel",
            "_view_count": null,
            "_view_module": "@jupyter-widgets/controls",
            "_view_module_version": "1.5.0",
            "_view_name": "HTMLView",
            "description": "",
            "description_tooltip": null,
            "layout": "IPY_MODEL_5778b91bd0c444d3beda337e658bfd99",
            "placeholder": "​",
            "style": "IPY_MODEL_baccb7984b7e4fa188bca04ff3be3018",
            "value": " 4/4 [00:06&lt;00:00,  1.61s/it]"
          }
        },
        "8476b0b765eb464f8c0b28c341103d33": {
          "model_module": "@jupyter-widgets/base",
          "model_name": "LayoutModel",
          "model_module_version": "1.2.0",
          "state": {
            "_model_module": "@jupyter-widgets/base",
            "_model_module_version": "1.2.0",
            "_model_name": "LayoutModel",
            "_view_count": null,
            "_view_module": "@jupyter-widgets/base",
            "_view_module_version": "1.2.0",
            "_view_name": "LayoutView",
            "align_content": null,
            "align_items": null,
            "align_self": null,
            "border": null,
            "bottom": null,
            "display": null,
            "flex": null,
            "flex_flow": null,
            "grid_area": null,
            "grid_auto_columns": null,
            "grid_auto_flow": null,
            "grid_auto_rows": null,
            "grid_column": null,
            "grid_gap": null,
            "grid_row": null,
            "grid_template_areas": null,
            "grid_template_columns": null,
            "grid_template_rows": null,
            "height": null,
            "justify_content": null,
            "justify_items": null,
            "left": null,
            "margin": null,
            "max_height": null,
            "max_width": null,
            "min_height": null,
            "min_width": null,
            "object_fit": null,
            "object_position": null,
            "order": null,
            "overflow": null,
            "overflow_x": null,
            "overflow_y": null,
            "padding": null,
            "right": null,
            "top": null,
            "visibility": "hidden",
            "width": null
          }
        },
        "9be7a38d7228445c9b93c3cab7c822a6": {
          "model_module": "@jupyter-widgets/base",
          "model_name": "LayoutModel",
          "model_module_version": "1.2.0",
          "state": {
            "_model_module": "@jupyter-widgets/base",
            "_model_module_version": "1.2.0",
            "_model_name": "LayoutModel",
            "_view_count": null,
            "_view_module": "@jupyter-widgets/base",
            "_view_module_version": "1.2.0",
            "_view_name": "LayoutView",
            "align_content": null,
            "align_items": null,
            "align_self": null,
            "border": null,
            "bottom": null,
            "display": null,
            "flex": null,
            "flex_flow": null,
            "grid_area": null,
            "grid_auto_columns": null,
            "grid_auto_flow": null,
            "grid_auto_rows": null,
            "grid_column": null,
            "grid_gap": null,
            "grid_row": null,
            "grid_template_areas": null,
            "grid_template_columns": null,
            "grid_template_rows": null,
            "height": null,
            "justify_content": null,
            "justify_items": null,
            "left": null,
            "margin": null,
            "max_height": null,
            "max_width": null,
            "min_height": null,
            "min_width": null,
            "object_fit": null,
            "object_position": null,
            "order": null,
            "overflow": null,
            "overflow_x": null,
            "overflow_y": null,
            "padding": null,
            "right": null,
            "top": null,
            "visibility": null,
            "width": null
          }
        },
        "6b7c606616bb44e38ea36bb64d70060d": {
          "model_module": "@jupyter-widgets/controls",
          "model_name": "DescriptionStyleModel",
          "model_module_version": "1.5.0",
          "state": {
            "_model_module": "@jupyter-widgets/controls",
            "_model_module_version": "1.5.0",
            "_model_name": "DescriptionStyleModel",
            "_view_count": null,
            "_view_module": "@jupyter-widgets/base",
            "_view_module_version": "1.2.0",
            "_view_name": "StyleView",
            "description_width": ""
          }
        },
        "e6f9fe10eff54af7bdabd5929bc850a5": {
          "model_module": "@jupyter-widgets/base",
          "model_name": "LayoutModel",
          "model_module_version": "1.2.0",
          "state": {
            "_model_module": "@jupyter-widgets/base",
            "_model_module_version": "1.2.0",
            "_model_name": "LayoutModel",
            "_view_count": null,
            "_view_module": "@jupyter-widgets/base",
            "_view_module_version": "1.2.0",
            "_view_name": "LayoutView",
            "align_content": null,
            "align_items": null,
            "align_self": null,
            "border": null,
            "bottom": null,
            "display": null,
            "flex": null,
            "flex_flow": null,
            "grid_area": null,
            "grid_auto_columns": null,
            "grid_auto_flow": null,
            "grid_auto_rows": null,
            "grid_column": null,
            "grid_gap": null,
            "grid_row": null,
            "grid_template_areas": null,
            "grid_template_columns": null,
            "grid_template_rows": null,
            "height": null,
            "justify_content": null,
            "justify_items": null,
            "left": null,
            "margin": null,
            "max_height": null,
            "max_width": null,
            "min_height": null,
            "min_width": null,
            "object_fit": null,
            "object_position": null,
            "order": null,
            "overflow": null,
            "overflow_x": null,
            "overflow_y": null,
            "padding": null,
            "right": null,
            "top": null,
            "visibility": null,
            "width": null
          }
        },
        "64c732b4c8ff4a16a307dcd073d4f3aa": {
          "model_module": "@jupyter-widgets/controls",
          "model_name": "ProgressStyleModel",
          "model_module_version": "1.5.0",
          "state": {
            "_model_module": "@jupyter-widgets/controls",
            "_model_module_version": "1.5.0",
            "_model_name": "ProgressStyleModel",
            "_view_count": null,
            "_view_module": "@jupyter-widgets/base",
            "_view_module_version": "1.2.0",
            "_view_name": "StyleView",
            "bar_color": null,
            "description_width": ""
          }
        },
        "5778b91bd0c444d3beda337e658bfd99": {
          "model_module": "@jupyter-widgets/base",
          "model_name": "LayoutModel",
          "model_module_version": "1.2.0",
          "state": {
            "_model_module": "@jupyter-widgets/base",
            "_model_module_version": "1.2.0",
            "_model_name": "LayoutModel",
            "_view_count": null,
            "_view_module": "@jupyter-widgets/base",
            "_view_module_version": "1.2.0",
            "_view_name": "LayoutView",
            "align_content": null,
            "align_items": null,
            "align_self": null,
            "border": null,
            "bottom": null,
            "display": null,
            "flex": null,
            "flex_flow": null,
            "grid_area": null,
            "grid_auto_columns": null,
            "grid_auto_flow": null,
            "grid_auto_rows": null,
            "grid_column": null,
            "grid_gap": null,
            "grid_row": null,
            "grid_template_areas": null,
            "grid_template_columns": null,
            "grid_template_rows": null,
            "height": null,
            "justify_content": null,
            "justify_items": null,
            "left": null,
            "margin": null,
            "max_height": null,
            "max_width": null,
            "min_height": null,
            "min_width": null,
            "object_fit": null,
            "object_position": null,
            "order": null,
            "overflow": null,
            "overflow_x": null,
            "overflow_y": null,
            "padding": null,
            "right": null,
            "top": null,
            "visibility": null,
            "width": null
          }
        },
        "baccb7984b7e4fa188bca04ff3be3018": {
          "model_module": "@jupyter-widgets/controls",
          "model_name": "DescriptionStyleModel",
          "model_module_version": "1.5.0",
          "state": {
            "_model_module": "@jupyter-widgets/controls",
            "_model_module_version": "1.5.0",
            "_model_name": "DescriptionStyleModel",
            "_view_count": null,
            "_view_module": "@jupyter-widgets/base",
            "_view_module_version": "1.2.0",
            "_view_name": "StyleView",
            "description_width": ""
          }
        },
        "9cba7fbe5e0643b6ab1fdba2e7ea85d2": {
          "model_module": "@jupyter-widgets/controls",
          "model_name": "HBoxModel",
          "model_module_version": "1.5.0",
          "state": {
            "_dom_classes": [],
            "_model_module": "@jupyter-widgets/controls",
            "_model_module_version": "1.5.0",
            "_model_name": "HBoxModel",
            "_view_count": null,
            "_view_module": "@jupyter-widgets/controls",
            "_view_module_version": "1.5.0",
            "_view_name": "HBoxView",
            "box_style": "",
            "children": [
              "IPY_MODEL_11caabff893e43b192253d4c8ac052d9",
              "IPY_MODEL_a339cea6fdc44866b49f855e89064e83",
              "IPY_MODEL_0610f78f103e4871b2b696104068b71d"
            ],
            "layout": "IPY_MODEL_a2d4ebc07ce74b718357d81302e481ad"
          }
        },
        "11caabff893e43b192253d4c8ac052d9": {
          "model_module": "@jupyter-widgets/controls",
          "model_name": "HTMLModel",
          "model_module_version": "1.5.0",
          "state": {
            "_dom_classes": [],
            "_model_module": "@jupyter-widgets/controls",
            "_model_module_version": "1.5.0",
            "_model_name": "HTMLModel",
            "_view_count": null,
            "_view_module": "@jupyter-widgets/controls",
            "_view_module_version": "1.5.0",
            "_view_name": "HTMLView",
            "description": "",
            "description_tooltip": null,
            "layout": "IPY_MODEL_60f2f9bb40b8485b89e3c1ed75fa4d96",
            "placeholder": "​",
            "style": "IPY_MODEL_2f5f4d7e0d03486daa04f2419ad32d8b",
            "value": "Processing: 100%"
          }
        },
        "a339cea6fdc44866b49f855e89064e83": {
          "model_module": "@jupyter-widgets/controls",
          "model_name": "FloatProgressModel",
          "model_module_version": "1.5.0",
          "state": {
            "_dom_classes": [],
            "_model_module": "@jupyter-widgets/controls",
            "_model_module_version": "1.5.0",
            "_model_name": "FloatProgressModel",
            "_view_count": null,
            "_view_module": "@jupyter-widgets/controls",
            "_view_module_version": "1.5.0",
            "_view_name": "ProgressView",
            "bar_style": "",
            "description": "",
            "description_tooltip": null,
            "layout": "IPY_MODEL_3a8c9c632e7b426a8ada907ac8f26afe",
            "max": 7,
            "min": 0,
            "orientation": "horizontal",
            "style": "IPY_MODEL_e876547328f94bf6bfc58aa61eeb2aae",
            "value": 7
          }
        },
        "0610f78f103e4871b2b696104068b71d": {
          "model_module": "@jupyter-widgets/controls",
          "model_name": "HTMLModel",
          "model_module_version": "1.5.0",
          "state": {
            "_dom_classes": [],
            "_model_module": "@jupyter-widgets/controls",
            "_model_module_version": "1.5.0",
            "_model_name": "HTMLModel",
            "_view_count": null,
            "_view_module": "@jupyter-widgets/controls",
            "_view_module_version": "1.5.0",
            "_view_name": "HTMLView",
            "description": "",
            "description_tooltip": null,
            "layout": "IPY_MODEL_003317661d814741b0b9b3950de7838b",
            "placeholder": "​",
            "style": "IPY_MODEL_3c610c5aac20469080917a1eacf82410",
            "value": " 7/7 [01:19&lt;00:00,  8.84s/it]"
          }
        },
        "a2d4ebc07ce74b718357d81302e481ad": {
          "model_module": "@jupyter-widgets/base",
          "model_name": "LayoutModel",
          "model_module_version": "1.2.0",
          "state": {
            "_model_module": "@jupyter-widgets/base",
            "_model_module_version": "1.2.0",
            "_model_name": "LayoutModel",
            "_view_count": null,
            "_view_module": "@jupyter-widgets/base",
            "_view_module_version": "1.2.0",
            "_view_name": "LayoutView",
            "align_content": null,
            "align_items": null,
            "align_self": null,
            "border": null,
            "bottom": null,
            "display": null,
            "flex": null,
            "flex_flow": null,
            "grid_area": null,
            "grid_auto_columns": null,
            "grid_auto_flow": null,
            "grid_auto_rows": null,
            "grid_column": null,
            "grid_gap": null,
            "grid_row": null,
            "grid_template_areas": null,
            "grid_template_columns": null,
            "grid_template_rows": null,
            "height": null,
            "justify_content": null,
            "justify_items": null,
            "left": null,
            "margin": null,
            "max_height": null,
            "max_width": null,
            "min_height": null,
            "min_width": null,
            "object_fit": null,
            "object_position": null,
            "order": null,
            "overflow": null,
            "overflow_x": null,
            "overflow_y": null,
            "padding": null,
            "right": null,
            "top": null,
            "visibility": "hidden",
            "width": null
          }
        },
        "60f2f9bb40b8485b89e3c1ed75fa4d96": {
          "model_module": "@jupyter-widgets/base",
          "model_name": "LayoutModel",
          "model_module_version": "1.2.0",
          "state": {
            "_model_module": "@jupyter-widgets/base",
            "_model_module_version": "1.2.0",
            "_model_name": "LayoutModel",
            "_view_count": null,
            "_view_module": "@jupyter-widgets/base",
            "_view_module_version": "1.2.0",
            "_view_name": "LayoutView",
            "align_content": null,
            "align_items": null,
            "align_self": null,
            "border": null,
            "bottom": null,
            "display": null,
            "flex": null,
            "flex_flow": null,
            "grid_area": null,
            "grid_auto_columns": null,
            "grid_auto_flow": null,
            "grid_auto_rows": null,
            "grid_column": null,
            "grid_gap": null,
            "grid_row": null,
            "grid_template_areas": null,
            "grid_template_columns": null,
            "grid_template_rows": null,
            "height": null,
            "justify_content": null,
            "justify_items": null,
            "left": null,
            "margin": null,
            "max_height": null,
            "max_width": null,
            "min_height": null,
            "min_width": null,
            "object_fit": null,
            "object_position": null,
            "order": null,
            "overflow": null,
            "overflow_x": null,
            "overflow_y": null,
            "padding": null,
            "right": null,
            "top": null,
            "visibility": null,
            "width": null
          }
        },
        "2f5f4d7e0d03486daa04f2419ad32d8b": {
          "model_module": "@jupyter-widgets/controls",
          "model_name": "DescriptionStyleModel",
          "model_module_version": "1.5.0",
          "state": {
            "_model_module": "@jupyter-widgets/controls",
            "_model_module_version": "1.5.0",
            "_model_name": "DescriptionStyleModel",
            "_view_count": null,
            "_view_module": "@jupyter-widgets/base",
            "_view_module_version": "1.2.0",
            "_view_name": "StyleView",
            "description_width": ""
          }
        },
        "3a8c9c632e7b426a8ada907ac8f26afe": {
          "model_module": "@jupyter-widgets/base",
          "model_name": "LayoutModel",
          "model_module_version": "1.2.0",
          "state": {
            "_model_module": "@jupyter-widgets/base",
            "_model_module_version": "1.2.0",
            "_model_name": "LayoutModel",
            "_view_count": null,
            "_view_module": "@jupyter-widgets/base",
            "_view_module_version": "1.2.0",
            "_view_name": "LayoutView",
            "align_content": null,
            "align_items": null,
            "align_self": null,
            "border": null,
            "bottom": null,
            "display": null,
            "flex": null,
            "flex_flow": null,
            "grid_area": null,
            "grid_auto_columns": null,
            "grid_auto_flow": null,
            "grid_auto_rows": null,
            "grid_column": null,
            "grid_gap": null,
            "grid_row": null,
            "grid_template_areas": null,
            "grid_template_columns": null,
            "grid_template_rows": null,
            "height": null,
            "justify_content": null,
            "justify_items": null,
            "left": null,
            "margin": null,
            "max_height": null,
            "max_width": null,
            "min_height": null,
            "min_width": null,
            "object_fit": null,
            "object_position": null,
            "order": null,
            "overflow": null,
            "overflow_x": null,
            "overflow_y": null,
            "padding": null,
            "right": null,
            "top": null,
            "visibility": null,
            "width": null
          }
        },
        "e876547328f94bf6bfc58aa61eeb2aae": {
          "model_module": "@jupyter-widgets/controls",
          "model_name": "ProgressStyleModel",
          "model_module_version": "1.5.0",
          "state": {
            "_model_module": "@jupyter-widgets/controls",
            "_model_module_version": "1.5.0",
            "_model_name": "ProgressStyleModel",
            "_view_count": null,
            "_view_module": "@jupyter-widgets/base",
            "_view_module_version": "1.2.0",
            "_view_name": "StyleView",
            "bar_color": null,
            "description_width": ""
          }
        },
        "003317661d814741b0b9b3950de7838b": {
          "model_module": "@jupyter-widgets/base",
          "model_name": "LayoutModel",
          "model_module_version": "1.2.0",
          "state": {
            "_model_module": "@jupyter-widgets/base",
            "_model_module_version": "1.2.0",
            "_model_name": "LayoutModel",
            "_view_count": null,
            "_view_module": "@jupyter-widgets/base",
            "_view_module_version": "1.2.0",
            "_view_name": "LayoutView",
            "align_content": null,
            "align_items": null,
            "align_self": null,
            "border": null,
            "bottom": null,
            "display": null,
            "flex": null,
            "flex_flow": null,
            "grid_area": null,
            "grid_auto_columns": null,
            "grid_auto_flow": null,
            "grid_auto_rows": null,
            "grid_column": null,
            "grid_gap": null,
            "grid_row": null,
            "grid_template_areas": null,
            "grid_template_columns": null,
            "grid_template_rows": null,
            "height": null,
            "justify_content": null,
            "justify_items": null,
            "left": null,
            "margin": null,
            "max_height": null,
            "max_width": null,
            "min_height": null,
            "min_width": null,
            "object_fit": null,
            "object_position": null,
            "order": null,
            "overflow": null,
            "overflow_x": null,
            "overflow_y": null,
            "padding": null,
            "right": null,
            "top": null,
            "visibility": null,
            "width": null
          }
        },
        "3c610c5aac20469080917a1eacf82410": {
          "model_module": "@jupyter-widgets/controls",
          "model_name": "DescriptionStyleModel",
          "model_module_version": "1.5.0",
          "state": {
            "_model_module": "@jupyter-widgets/controls",
            "_model_module_version": "1.5.0",
            "_model_name": "DescriptionStyleModel",
            "_view_count": null,
            "_view_module": "@jupyter-widgets/base",
            "_view_module_version": "1.2.0",
            "_view_name": "StyleView",
            "description_width": ""
          }
        },
        "36ef165859ce4610b3a58c50dd5c783b": {
          "model_module": "@jupyter-widgets/controls",
          "model_name": "VBoxModel",
          "model_module_version": "1.5.0",
          "state": {
            "_dom_classes": [
              "widget-interact"
            ],
            "_model_module": "@jupyter-widgets/controls",
            "_model_module_version": "1.5.0",
            "_model_name": "VBoxModel",
            "_view_count": null,
            "_view_module": "@jupyter-widgets/controls",
            "_view_module_version": "1.5.0",
            "_view_name": "VBoxView",
            "box_style": "",
            "children": [
              "IPY_MODEL_f02cf526837a44e899cb2a27df0a3adb",
              "IPY_MODEL_219364ad6ef64c5fbb5f5dd1c1dcaa4c"
            ],
            "layout": "IPY_MODEL_e7a66b28aed9437aaaa3d3e13e2649a3"
          }
        },
        "f02cf526837a44e899cb2a27df0a3adb": {
          "model_module": "@jupyter-widgets/controls",
          "model_name": "ToggleButtonsModel",
          "model_module_version": "1.5.0",
          "state": {
            "_dom_classes": [],
            "_model_module": "@jupyter-widgets/controls",
            "_model_module_version": "1.5.0",
            "_model_name": "ToggleButtonsModel",
            "_options_labels": [
              "Pipeline Plot",
              "Hyperparameters",
              "Residuals",
              "Prediction Error",
              "Cooks Distance",
              "Feature Selection",
              "Learning Curve",
              "Manifold Learning",
              "Validation Curve",
              "Feature Importance",
              "Feature Importance (All)",
              "Decision Tree",
              "Interactive Residuals"
            ],
            "_view_count": null,
            "_view_module": "@jupyter-widgets/controls",
            "_view_module_version": "1.5.0",
            "_view_name": "ToggleButtonsView",
            "button_style": "",
            "description": "Plot Type:",
            "description_tooltip": null,
            "disabled": false,
            "icons": [
              ""
            ],
            "index": 0,
            "layout": "IPY_MODEL_99426f9253af4e7bb0ab1b06feaffacf",
            "style": "IPY_MODEL_101d49d5d16b450e92e9a105b9b95ae3",
            "tooltips": []
          }
        },
        "219364ad6ef64c5fbb5f5dd1c1dcaa4c": {
          "model_module": "@jupyter-widgets/output",
          "model_name": "OutputModel",
          "model_module_version": "1.0.0",
          "state": {
            "_dom_classes": [],
            "_model_module": "@jupyter-widgets/output",
            "_model_module_version": "1.0.0",
            "_model_name": "OutputModel",
            "_view_count": null,
            "_view_module": "@jupyter-widgets/output",
            "_view_module_version": "1.0.0",
            "_view_name": "OutputView",
            "layout": "IPY_MODEL_8d42598e85734133930793ec369d2955",
            "msg_id": "",
            "outputs": [
              {
                "output_type": "display_data",
                "data": {
                  "text/plain": "<Figure size 3200x600 with 1 Axes>",
                  "image/png": "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\n"
                },
                "metadata": {}
              }
            ]
          }
        },
        "e7a66b28aed9437aaaa3d3e13e2649a3": {
          "model_module": "@jupyter-widgets/base",
          "model_name": "LayoutModel",
          "model_module_version": "1.2.0",
          "state": {
            "_model_module": "@jupyter-widgets/base",
            "_model_module_version": "1.2.0",
            "_model_name": "LayoutModel",
            "_view_count": null,
            "_view_module": "@jupyter-widgets/base",
            "_view_module_version": "1.2.0",
            "_view_name": "LayoutView",
            "align_content": null,
            "align_items": null,
            "align_self": null,
            "border": null,
            "bottom": null,
            "display": null,
            "flex": null,
            "flex_flow": null,
            "grid_area": null,
            "grid_auto_columns": null,
            "grid_auto_flow": null,
            "grid_auto_rows": null,
            "grid_column": null,
            "grid_gap": null,
            "grid_row": null,
            "grid_template_areas": null,
            "grid_template_columns": null,
            "grid_template_rows": null,
            "height": null,
            "justify_content": null,
            "justify_items": null,
            "left": null,
            "margin": null,
            "max_height": null,
            "max_width": null,
            "min_height": null,
            "min_width": null,
            "object_fit": null,
            "object_position": null,
            "order": null,
            "overflow": null,
            "overflow_x": null,
            "overflow_y": null,
            "padding": null,
            "right": null,
            "top": null,
            "visibility": null,
            "width": null
          }
        },
        "99426f9253af4e7bb0ab1b06feaffacf": {
          "model_module": "@jupyter-widgets/base",
          "model_name": "LayoutModel",
          "model_module_version": "1.2.0",
          "state": {
            "_model_module": "@jupyter-widgets/base",
            "_model_module_version": "1.2.0",
            "_model_name": "LayoutModel",
            "_view_count": null,
            "_view_module": "@jupyter-widgets/base",
            "_view_module_version": "1.2.0",
            "_view_name": "LayoutView",
            "align_content": null,
            "align_items": null,
            "align_self": null,
            "border": null,
            "bottom": null,
            "display": null,
            "flex": null,
            "flex_flow": null,
            "grid_area": null,
            "grid_auto_columns": null,
            "grid_auto_flow": null,
            "grid_auto_rows": null,
            "grid_column": null,
            "grid_gap": null,
            "grid_row": null,
            "grid_template_areas": null,
            "grid_template_columns": null,
            "grid_template_rows": null,
            "height": null,
            "justify_content": null,
            "justify_items": null,
            "left": null,
            "margin": null,
            "max_height": null,
            "max_width": null,
            "min_height": null,
            "min_width": null,
            "object_fit": null,
            "object_position": null,
            "order": null,
            "overflow": null,
            "overflow_x": null,
            "overflow_y": null,
            "padding": null,
            "right": null,
            "top": null,
            "visibility": null,
            "width": null
          }
        },
        "101d49d5d16b450e92e9a105b9b95ae3": {
          "model_module": "@jupyter-widgets/controls",
          "model_name": "ToggleButtonsStyleModel",
          "model_module_version": "1.5.0",
          "state": {
            "_model_module": "@jupyter-widgets/controls",
            "_model_module_version": "1.5.0",
            "_model_name": "ToggleButtonsStyleModel",
            "_view_count": null,
            "_view_module": "@jupyter-widgets/base",
            "_view_module_version": "1.2.0",
            "_view_name": "StyleView",
            "button_width": "",
            "description_width": "",
            "font_weight": ""
          }
        },
        "8d42598e85734133930793ec369d2955": {
          "model_module": "@jupyter-widgets/base",
          "model_name": "LayoutModel",
          "model_module_version": "1.2.0",
          "state": {
            "_model_module": "@jupyter-widgets/base",
            "_model_module_version": "1.2.0",
            "_model_name": "LayoutModel",
            "_view_count": null,
            "_view_module": "@jupyter-widgets/base",
            "_view_module_version": "1.2.0",
            "_view_name": "LayoutView",
            "align_content": null,
            "align_items": null,
            "align_self": null,
            "border": null,
            "bottom": null,
            "display": null,
            "flex": null,
            "flex_flow": null,
            "grid_area": null,
            "grid_auto_columns": null,
            "grid_auto_flow": null,
            "grid_auto_rows": null,
            "grid_column": null,
            "grid_gap": null,
            "grid_row": null,
            "grid_template_areas": null,
            "grid_template_columns": null,
            "grid_template_rows": null,
            "height": null,
            "justify_content": null,
            "justify_items": null,
            "left": null,
            "margin": null,
            "max_height": null,
            "max_width": null,
            "min_height": null,
            "min_width": null,
            "object_fit": null,
            "object_position": null,
            "order": null,
            "overflow": null,
            "overflow_x": null,
            "overflow_y": null,
            "padding": null,
            "right": null,
            "top": null,
            "visibility": null,
            "width": null
          }
        }
      }
    }
  },
  "cells": [
    {
      "cell_type": "code",
      "source": [
        "from google.colab import drive\n",
        "drive.mount('/content/drive')"
      ],
      "metadata": {
        "colab": {
          "base_uri": "https://localhost:8080/"
        },
        "id": "O5N5HBdPOeRG",
        "outputId": "8ab3f8d5-d422-45ce-c177-ac2d3b1d1ded"
      },
      "execution_count": 3,
      "outputs": [
        {
          "output_type": "stream",
          "name": "stdout",
          "text": [
            "Mounted at /content/drive\n"
          ]
        }
      ]
    },
    {
      "cell_type": "code",
      "source": [
        "# QUES -\n",
        "\n",
        "# Q1* take  movie_id,revenue and prediction_label columns from the prediction you did for  training data and convert into csv file(if u have split the train data remove it)\n",
        "# Q2* read test data csv i have shared\n",
        "# Q3* do data normalization for test data\n",
        "# Q4* check for any missing columns in test data(compare with training data) and add missing columns with null values\n",
        "# Q5* take  movie_id, prediction_label columns from the prediction you did for  test data and convert into csv file\n",
        "# Q6* upload these two csv files to google drive before monday evening and to github - ipynb file"
      ],
      "metadata": {
        "id": "G-c2t_RnYjMB"
      },
      "execution_count": 4,
      "outputs": []
    },
    {
      "cell_type": "code",
      "source": [],
      "metadata": {
        "id": "ExI1g7F3YywY"
      },
      "execution_count": 4,
      "outputs": []
    },
    {
      "cell_type": "markdown",
      "source": [
        "# Q3* do data normalization for test data *"
      ],
      "metadata": {
        "id": "AIGSaKf1Y17x"
      }
    },
    {
      "cell_type": "code",
      "source": [
        "# ANS - OF Q3\n",
        "\n",
        "# IN BELOW PYTHON FILES\n",
        "# tmdb(3rd_milestone_week_5)TASK_1_Test_data_Cleaning.ipynb\n",
        "# tmdb(3rd_milestone_week_5)TASK_2_Test_data_1Hot_encoding.ipynb"
      ],
      "metadata": {
        "id": "sDEXaUsdZcSV"
      },
      "execution_count": 5,
      "outputs": []
    },
    {
      "cell_type": "code",
      "source": [
        "!pip install pycaret\n"
      ],
      "metadata": {
        "colab": {
          "base_uri": "https://localhost:8080/"
        },
        "id": "RbuuvsBmPHR5",
        "outputId": "b392e501-e317-44a1-e80c-93c3aa06a747"
      },
      "execution_count": 6,
      "outputs": [
        {
          "output_type": "stream",
          "name": "stdout",
          "text": [
            "Collecting pycaret\n",
            "  Downloading pycaret-3.3.2-py3-none-any.whl (486 kB)\n",
            "\u001b[2K     \u001b[90m━━━━━━━━━━━━━━━━━━━━━━━━━━━━━━━━━━━━━━━━\u001b[0m \u001b[32m486.1/486.1 kB\u001b[0m \u001b[31m3.3 MB/s\u001b[0m eta \u001b[36m0:00:00\u001b[0m\n",
            "\u001b[?25hRequirement already satisfied: ipython>=5.5.0 in /usr/local/lib/python3.10/dist-packages (from pycaret) (7.34.0)\n",
            "Requirement already satisfied: ipywidgets>=7.6.5 in /usr/local/lib/python3.10/dist-packages (from pycaret) (7.7.1)\n",
            "Requirement already satisfied: tqdm>=4.62.0 in /usr/local/lib/python3.10/dist-packages (from pycaret) (4.66.4)\n",
            "Requirement already satisfied: numpy<1.27,>=1.21 in /usr/local/lib/python3.10/dist-packages (from pycaret) (1.25.2)\n",
            "Requirement already satisfied: pandas<2.2.0 in /usr/local/lib/python3.10/dist-packages (from pycaret) (2.0.3)\n",
            "Requirement already satisfied: jinja2>=3 in /usr/local/lib/python3.10/dist-packages (from pycaret) (3.1.4)\n",
            "Requirement already satisfied: scipy<=1.11.4,>=1.6.1 in /usr/local/lib/python3.10/dist-packages (from pycaret) (1.11.4)\n",
            "Collecting joblib<1.4,>=1.2.0 (from pycaret)\n",
            "  Downloading joblib-1.3.2-py3-none-any.whl (302 kB)\n",
            "\u001b[2K     \u001b[90m━━━━━━━━━━━━━━━━━━━━━━━━━━━━━━━━━━━━━━━━\u001b[0m \u001b[32m302.2/302.2 kB\u001b[0m \u001b[31m20.6 MB/s\u001b[0m eta \u001b[36m0:00:00\u001b[0m\n",
            "\u001b[?25hCollecting scikit-learn>1.4.0 (from pycaret)\n",
            "  Downloading scikit_learn-1.5.1-cp310-cp310-manylinux_2_17_x86_64.manylinux2014_x86_64.whl (13.4 MB)\n",
            "\u001b[2K     \u001b[90m━━━━━━━━━━━━━━━━━━━━━━━━━━━━━━━━━━━━━━━━\u001b[0m \u001b[32m13.4/13.4 MB\u001b[0m \u001b[31m43.9 MB/s\u001b[0m eta \u001b[36m0:00:00\u001b[0m\n",
            "\u001b[?25hCollecting pyod>=1.1.3 (from pycaret)\n",
            "  Downloading pyod-2.0.1.tar.gz (163 kB)\n",
            "\u001b[2K     \u001b[90m━━━━━━━━━━━━━━━━━━━━━━━━━━━━━━━━━━━━━━━━\u001b[0m \u001b[32m163.8/163.8 kB\u001b[0m \u001b[31m15.9 MB/s\u001b[0m eta \u001b[36m0:00:00\u001b[0m\n",
            "\u001b[?25h  Preparing metadata (setup.py) ... \u001b[?25l\u001b[?25hdone\n",
            "Collecting imbalanced-learn>=0.12.0 (from pycaret)\n",
            "  Downloading imbalanced_learn-0.12.3-py3-none-any.whl (258 kB)\n",
            "\u001b[2K     \u001b[90m━━━━━━━━━━━━━━━━━━━━━━━━━━━━━━━━━━━━━━━━\u001b[0m \u001b[32m258.3/258.3 kB\u001b[0m \u001b[31m23.0 MB/s\u001b[0m eta \u001b[36m0:00:00\u001b[0m\n",
            "\u001b[?25hCollecting category-encoders>=2.4.0 (from pycaret)\n",
            "  Downloading category_encoders-2.6.3-py2.py3-none-any.whl (81 kB)\n",
            "\u001b[2K     \u001b[90m━━━━━━━━━━━━━━━━━━━━━━━━━━━━━━━━━━━━━━━━\u001b[0m \u001b[32m81.9/81.9 kB\u001b[0m \u001b[31m10.4 MB/s\u001b[0m eta \u001b[36m0:00:00\u001b[0m\n",
            "\u001b[?25hRequirement already satisfied: lightgbm>=3.0.0 in /usr/local/lib/python3.10/dist-packages (from pycaret) (4.1.0)\n",
            "Requirement already satisfied: numba>=0.55.0 in /usr/local/lib/python3.10/dist-packages (from pycaret) (0.58.1)\n",
            "Requirement already satisfied: requests>=2.27.1 in /usr/local/lib/python3.10/dist-packages (from pycaret) (2.31.0)\n",
            "Requirement already satisfied: psutil>=5.9.0 in /usr/local/lib/python3.10/dist-packages (from pycaret) (5.9.5)\n",
            "Requirement already satisfied: markupsafe>=2.0.1 in /usr/local/lib/python3.10/dist-packages (from pycaret) (2.1.5)\n",
            "Requirement already satisfied: importlib-metadata>=4.12.0 in /usr/local/lib/python3.10/dist-packages (from pycaret) (8.0.0)\n",
            "Requirement already satisfied: nbformat>=4.2.0 in /usr/local/lib/python3.10/dist-packages (from pycaret) (5.10.4)\n",
            "Requirement already satisfied: cloudpickle in /usr/local/lib/python3.10/dist-packages (from pycaret) (2.2.1)\n",
            "Collecting deprecation>=2.1.0 (from pycaret)\n",
            "  Downloading deprecation-2.1.0-py2.py3-none-any.whl (11 kB)\n",
            "Collecting xxhash (from pycaret)\n",
            "  Downloading xxhash-3.4.1-cp310-cp310-manylinux_2_17_x86_64.manylinux2014_x86_64.whl (194 kB)\n",
            "\u001b[2K     \u001b[90m━━━━━━━━━━━━━━━━━━━━━━━━━━━━━━━━━━━━━━━━\u001b[0m \u001b[32m194.1/194.1 kB\u001b[0m \u001b[31m21.1 MB/s\u001b[0m eta \u001b[36m0:00:00\u001b[0m\n",
            "\u001b[?25hRequirement already satisfied: matplotlib<3.8.0 in /usr/local/lib/python3.10/dist-packages (from pycaret) (3.7.1)\n",
            "Collecting scikit-plot>=0.3.7 (from pycaret)\n",
            "  Downloading scikit_plot-0.3.7-py3-none-any.whl (33 kB)\n",
            "Requirement already satisfied: yellowbrick>=1.4 in /usr/local/lib/python3.10/dist-packages (from pycaret) (1.5)\n",
            "Requirement already satisfied: plotly>=5.14.0 in /usr/local/lib/python3.10/dist-packages (from pycaret) (5.15.0)\n",
            "Collecting kaleido>=0.2.1 (from pycaret)\n",
            "  Downloading kaleido-0.2.1-py2.py3-none-manylinux1_x86_64.whl (79.9 MB)\n",
            "\u001b[2K     \u001b[90m━━━━━━━━━━━━━━━━━━━━━━━━━━━━━━━━━━━━━━━━\u001b[0m \u001b[32m79.9/79.9 MB\u001b[0m \u001b[31m7.9 MB/s\u001b[0m eta \u001b[36m0:00:00\u001b[0m\n",
            "\u001b[?25hCollecting schemdraw==0.15 (from pycaret)\n",
            "  Downloading schemdraw-0.15-py3-none-any.whl (106 kB)\n",
            "\u001b[2K     \u001b[90m━━━━━━━━━━━━━━━━━━━━━━━━━━━━━━━━━━━━━━━━\u001b[0m \u001b[32m106.8/106.8 kB\u001b[0m \u001b[31m10.2 MB/s\u001b[0m eta \u001b[36m0:00:00\u001b[0m\n",
            "\u001b[?25hCollecting plotly-resampler>=0.8.3.1 (from pycaret)\n",
            "  Downloading plotly_resampler-0.10.0-py3-none-any.whl (80 kB)\n",
            "\u001b[2K     \u001b[90m━━━━━━━━━━━━━━━━━━━━━━━━━━━━━━━━━━━━━━━━\u001b[0m \u001b[32m80.7/80.7 kB\u001b[0m \u001b[31m9.6 MB/s\u001b[0m eta \u001b[36m0:00:00\u001b[0m\n",
            "\u001b[?25hRequirement already satisfied: statsmodels>=0.12.1 in /usr/local/lib/python3.10/dist-packages (from pycaret) (0.14.2)\n",
            "Collecting sktime==0.26.0 (from pycaret)\n",
            "  Downloading sktime-0.26.0-py3-none-any.whl (21.8 MB)\n",
            "\u001b[2K     \u001b[90m━━━━━━━━━━━━━━━━━━━━━━━━━━━━━━━━━━━━━━━━\u001b[0m \u001b[32m21.8/21.8 MB\u001b[0m \u001b[31m41.4 MB/s\u001b[0m eta \u001b[36m0:00:00\u001b[0m\n",
            "\u001b[?25hCollecting tbats>=1.1.3 (from pycaret)\n",
            "  Downloading tbats-1.1.3-py3-none-any.whl (44 kB)\n",
            "\u001b[2K     \u001b[90m━━━━━━━━━━━━━━━━━━━━━━━━━━━━━━━━━━━━━━━━\u001b[0m \u001b[32m44.0/44.0 kB\u001b[0m \u001b[31m5.1 MB/s\u001b[0m eta \u001b[36m0:00:00\u001b[0m\n",
            "\u001b[?25hCollecting pmdarima>=2.0.4 (from pycaret)\n",
            "  Downloading pmdarima-2.0.4-cp310-cp310-manylinux_2_17_x86_64.manylinux2014_x86_64.manylinux_2_28_x86_64.whl (2.1 MB)\n",
            "\u001b[2K     \u001b[90m━━━━━━━━━━━━━━━━━━━━━━━━━━━━━━━━━━━━━━━━\u001b[0m \u001b[32m2.1/2.1 MB\u001b[0m \u001b[31m57.2 MB/s\u001b[0m eta \u001b[36m0:00:00\u001b[0m\n",
            "\u001b[?25hCollecting wurlitzer (from pycaret)\n",
            "  Downloading wurlitzer-3.1.1-py3-none-any.whl (8.6 kB)\n",
            "Requirement already satisfied: packaging in /usr/local/lib/python3.10/dist-packages (from sktime==0.26.0->pycaret) (24.1)\n",
            "Collecting scikit-base<0.8.0 (from sktime==0.26.0->pycaret)\n",
            "  Downloading scikit_base-0.7.8-py3-none-any.whl (130 kB)\n",
            "\u001b[2K     \u001b[90m━━━━━━━━━━━━━━━━━━━━━━━━━━━━━━━━━━━━━━━━\u001b[0m \u001b[32m130.1/130.1 kB\u001b[0m \u001b[31m14.2 MB/s\u001b[0m eta \u001b[36m0:00:00\u001b[0m\n",
            "\u001b[?25hCollecting scikit-learn>1.4.0 (from pycaret)\n",
            "  Downloading scikit_learn-1.4.2-cp310-cp310-manylinux_2_17_x86_64.manylinux2014_x86_64.whl (12.1 MB)\n",
            "\u001b[2K     \u001b[90m━━━━━━━━━━━━━━━━━━━━━━━━━━━━━━━━━━━━━━━━\u001b[0m \u001b[32m12.1/12.1 MB\u001b[0m \u001b[31m58.3 MB/s\u001b[0m eta \u001b[36m0:00:00\u001b[0m\n",
            "\u001b[?25hRequirement already satisfied: patsy>=0.5.1 in /usr/local/lib/python3.10/dist-packages (from category-encoders>=2.4.0->pycaret) (0.5.6)\n",
            "Requirement already satisfied: threadpoolctl>=2.0.0 in /usr/local/lib/python3.10/dist-packages (from imbalanced-learn>=0.12.0->pycaret) (3.5.0)\n",
            "Requirement already satisfied: zipp>=0.5 in /usr/local/lib/python3.10/dist-packages (from importlib-metadata>=4.12.0->pycaret) (3.19.2)\n",
            "Requirement already satisfied: setuptools>=18.5 in /usr/local/lib/python3.10/dist-packages (from ipython>=5.5.0->pycaret) (67.7.2)\n",
            "Collecting jedi>=0.16 (from ipython>=5.5.0->pycaret)\n",
            "  Downloading jedi-0.19.1-py2.py3-none-any.whl (1.6 MB)\n",
            "\u001b[2K     \u001b[90m━━━━━━━━━━━━━━━━━━━━━━━━━━━━━━━━━━━━━━━━\u001b[0m \u001b[32m1.6/1.6 MB\u001b[0m \u001b[31m64.1 MB/s\u001b[0m eta \u001b[36m0:00:00\u001b[0m\n",
            "\u001b[?25hRequirement already satisfied: decorator in /usr/local/lib/python3.10/dist-packages (from ipython>=5.5.0->pycaret) (4.4.2)\n",
            "Requirement already satisfied: pickleshare in /usr/local/lib/python3.10/dist-packages (from ipython>=5.5.0->pycaret) (0.7.5)\n",
            "Requirement already satisfied: traitlets>=4.2 in /usr/local/lib/python3.10/dist-packages (from ipython>=5.5.0->pycaret) (5.7.1)\n",
            "Requirement already satisfied: prompt-toolkit!=3.0.0,!=3.0.1,<3.1.0,>=2.0.0 in /usr/local/lib/python3.10/dist-packages (from ipython>=5.5.0->pycaret) (3.0.47)\n",
            "Requirement already satisfied: pygments in /usr/local/lib/python3.10/dist-packages (from ipython>=5.5.0->pycaret) (2.16.1)\n",
            "Requirement already satisfied: backcall in /usr/local/lib/python3.10/dist-packages (from ipython>=5.5.0->pycaret) (0.2.0)\n",
            "Requirement already satisfied: matplotlib-inline in /usr/local/lib/python3.10/dist-packages (from ipython>=5.5.0->pycaret) (0.1.7)\n",
            "Requirement already satisfied: pexpect>4.3 in /usr/local/lib/python3.10/dist-packages (from ipython>=5.5.0->pycaret) (4.9.0)\n",
            "Requirement already satisfied: ipykernel>=4.5.1 in /usr/local/lib/python3.10/dist-packages (from ipywidgets>=7.6.5->pycaret) (5.5.6)\n",
            "Requirement already satisfied: ipython-genutils~=0.2.0 in /usr/local/lib/python3.10/dist-packages (from ipywidgets>=7.6.5->pycaret) (0.2.0)\n",
            "Requirement already satisfied: widgetsnbextension~=3.6.0 in /usr/local/lib/python3.10/dist-packages (from ipywidgets>=7.6.5->pycaret) (3.6.6)\n",
            "Requirement already satisfied: jupyterlab-widgets>=1.0.0 in /usr/local/lib/python3.10/dist-packages (from ipywidgets>=7.6.5->pycaret) (3.0.11)\n",
            "Requirement already satisfied: contourpy>=1.0.1 in /usr/local/lib/python3.10/dist-packages (from matplotlib<3.8.0->pycaret) (1.2.1)\n",
            "Requirement already satisfied: cycler>=0.10 in /usr/local/lib/python3.10/dist-packages (from matplotlib<3.8.0->pycaret) (0.12.1)\n",
            "Requirement already satisfied: fonttools>=4.22.0 in /usr/local/lib/python3.10/dist-packages (from matplotlib<3.8.0->pycaret) (4.53.0)\n",
            "Requirement already satisfied: kiwisolver>=1.0.1 in /usr/local/lib/python3.10/dist-packages (from matplotlib<3.8.0->pycaret) (1.4.5)\n",
            "Requirement already satisfied: pillow>=6.2.0 in /usr/local/lib/python3.10/dist-packages (from matplotlib<3.8.0->pycaret) (9.4.0)\n",
            "Requirement already satisfied: pyparsing>=2.3.1 in /usr/local/lib/python3.10/dist-packages (from matplotlib<3.8.0->pycaret) (3.1.2)\n",
            "Requirement already satisfied: python-dateutil>=2.7 in /usr/local/lib/python3.10/dist-packages (from matplotlib<3.8.0->pycaret) (2.8.2)\n",
            "Requirement already satisfied: fastjsonschema>=2.15 in /usr/local/lib/python3.10/dist-packages (from nbformat>=4.2.0->pycaret) (2.20.0)\n",
            "Requirement already satisfied: jsonschema>=2.6 in /usr/local/lib/python3.10/dist-packages (from nbformat>=4.2.0->pycaret) (4.19.2)\n",
            "Requirement already satisfied: jupyter-core!=5.0.*,>=4.12 in /usr/local/lib/python3.10/dist-packages (from nbformat>=4.2.0->pycaret) (5.7.2)\n",
            "Requirement already satisfied: llvmlite<0.42,>=0.41.0dev0 in /usr/local/lib/python3.10/dist-packages (from numba>=0.55.0->pycaret) (0.41.1)\n",
            "Requirement already satisfied: pytz>=2020.1 in /usr/local/lib/python3.10/dist-packages (from pandas<2.2.0->pycaret) (2023.4)\n",
            "Requirement already satisfied: tzdata>=2022.1 in /usr/local/lib/python3.10/dist-packages (from pandas<2.2.0->pycaret) (2024.1)\n",
            "Requirement already satisfied: tenacity>=6.2.0 in /usr/local/lib/python3.10/dist-packages (from plotly>=5.14.0->pycaret) (8.4.2)\n",
            "Collecting dash>=2.9.0 (from plotly-resampler>=0.8.3.1->pycaret)\n",
            "  Downloading dash-2.17.1-py3-none-any.whl (7.5 MB)\n",
            "\u001b[2K     \u001b[90m━━━━━━━━━━━━━━━━━━━━━━━━━━━━━━━━━━━━━━━━\u001b[0m \u001b[32m7.5/7.5 MB\u001b[0m \u001b[31m68.7 MB/s\u001b[0m eta \u001b[36m0:00:00\u001b[0m\n",
            "\u001b[?25hCollecting orjson<4.0.0,>=3.8.0 (from plotly-resampler>=0.8.3.1->pycaret)\n",
            "  Downloading orjson-3.10.6-cp310-cp310-manylinux_2_17_x86_64.manylinux2014_x86_64.whl (141 kB)\n",
            "\u001b[2K     \u001b[90m━━━━━━━━━━━━━━━━━━━━━━━━━━━━━━━━━━━━━━━━\u001b[0m \u001b[32m141.1/141.1 kB\u001b[0m \u001b[31m15.1 MB/s\u001b[0m eta \u001b[36m0:00:00\u001b[0m\n",
            "\u001b[?25hCollecting tsdownsample>=0.1.3 (from plotly-resampler>=0.8.3.1->pycaret)\n",
            "  Downloading tsdownsample-0.1.3-cp310-cp310-manylinux_2_17_x86_64.manylinux2014_x86_64.whl (2.1 MB)\n",
            "\u001b[2K     \u001b[90m━━━━━━━━━━━━━━━━━━━━━━━━━━━━━━━━━━━━━━━━\u001b[0m \u001b[32m2.1/2.1 MB\u001b[0m \u001b[31m69.1 MB/s\u001b[0m eta \u001b[36m0:00:00\u001b[0m\n",
            "\u001b[?25hRequirement already satisfied: Cython!=0.29.18,!=0.29.31,>=0.29 in /usr/local/lib/python3.10/dist-packages (from pmdarima>=2.0.4->pycaret) (3.0.10)\n",
            "Requirement already satisfied: urllib3 in /usr/local/lib/python3.10/dist-packages (from pmdarima>=2.0.4->pycaret) (2.0.7)\n",
            "Requirement already satisfied: charset-normalizer<4,>=2 in /usr/local/lib/python3.10/dist-packages (from requests>=2.27.1->pycaret) (3.3.2)\n",
            "Requirement already satisfied: idna<4,>=2.5 in /usr/local/lib/python3.10/dist-packages (from requests>=2.27.1->pycaret) (3.7)\n",
            "Requirement already satisfied: certifi>=2017.4.17 in /usr/local/lib/python3.10/dist-packages (from requests>=2.27.1->pycaret) (2024.6.2)\n",
            "Requirement already satisfied: Flask<3.1,>=1.0.4 in /usr/local/lib/python3.10/dist-packages (from dash>=2.9.0->plotly-resampler>=0.8.3.1->pycaret) (2.2.5)\n",
            "Requirement already satisfied: Werkzeug<3.1 in /usr/local/lib/python3.10/dist-packages (from dash>=2.9.0->plotly-resampler>=0.8.3.1->pycaret) (3.0.3)\n",
            "Collecting dash-html-components==2.0.0 (from dash>=2.9.0->plotly-resampler>=0.8.3.1->pycaret)\n",
            "  Downloading dash_html_components-2.0.0-py3-none-any.whl (4.1 kB)\n",
            "Collecting dash-core-components==2.0.0 (from dash>=2.9.0->plotly-resampler>=0.8.3.1->pycaret)\n",
            "  Downloading dash_core_components-2.0.0-py3-none-any.whl (3.8 kB)\n",
            "Collecting dash-table==5.0.0 (from dash>=2.9.0->plotly-resampler>=0.8.3.1->pycaret)\n",
            "  Downloading dash_table-5.0.0-py3-none-any.whl (3.9 kB)\n",
            "Requirement already satisfied: typing-extensions>=4.1.1 in /usr/local/lib/python3.10/dist-packages (from dash>=2.9.0->plotly-resampler>=0.8.3.1->pycaret) (4.12.2)\n",
            "Collecting retrying (from dash>=2.9.0->plotly-resampler>=0.8.3.1->pycaret)\n",
            "  Downloading retrying-1.3.4-py3-none-any.whl (11 kB)\n",
            "Requirement already satisfied: nest-asyncio in /usr/local/lib/python3.10/dist-packages (from dash>=2.9.0->plotly-resampler>=0.8.3.1->pycaret) (1.6.0)\n",
            "Requirement already satisfied: jupyter-client in /usr/local/lib/python3.10/dist-packages (from ipykernel>=4.5.1->ipywidgets>=7.6.5->pycaret) (6.1.12)\n",
            "Requirement already satisfied: tornado>=4.2 in /usr/local/lib/python3.10/dist-packages (from ipykernel>=4.5.1->ipywidgets>=7.6.5->pycaret) (6.3.3)\n",
            "Requirement already satisfied: parso<0.9.0,>=0.8.3 in /usr/local/lib/python3.10/dist-packages (from jedi>=0.16->ipython>=5.5.0->pycaret) (0.8.4)\n",
            "Requirement already satisfied: attrs>=22.2.0 in /usr/local/lib/python3.10/dist-packages (from jsonschema>=2.6->nbformat>=4.2.0->pycaret) (23.2.0)\n",
            "Requirement already satisfied: jsonschema-specifications>=2023.03.6 in /usr/local/lib/python3.10/dist-packages (from jsonschema>=2.6->nbformat>=4.2.0->pycaret) (2023.12.1)\n",
            "Requirement already satisfied: referencing>=0.28.4 in /usr/local/lib/python3.10/dist-packages (from jsonschema>=2.6->nbformat>=4.2.0->pycaret) (0.35.1)\n",
            "Requirement already satisfied: rpds-py>=0.7.1 in /usr/local/lib/python3.10/dist-packages (from jsonschema>=2.6->nbformat>=4.2.0->pycaret) (0.18.1)\n",
            "Requirement already satisfied: platformdirs>=2.5 in /usr/local/lib/python3.10/dist-packages (from jupyter-core!=5.0.*,>=4.12->nbformat>=4.2.0->pycaret) (4.2.2)\n",
            "Requirement already satisfied: six in /usr/local/lib/python3.10/dist-packages (from patsy>=0.5.1->category-encoders>=2.4.0->pycaret) (1.16.0)\n",
            "Requirement already satisfied: ptyprocess>=0.5 in /usr/local/lib/python3.10/dist-packages (from pexpect>4.3->ipython>=5.5.0->pycaret) (0.7.0)\n",
            "Requirement already satisfied: wcwidth in /usr/local/lib/python3.10/dist-packages (from prompt-toolkit!=3.0.0,!=3.0.1,<3.1.0,>=2.0.0->ipython>=5.5.0->pycaret) (0.2.13)\n",
            "Requirement already satisfied: notebook>=4.4.1 in /usr/local/lib/python3.10/dist-packages (from widgetsnbextension~=3.6.0->ipywidgets>=7.6.5->pycaret) (6.5.5)\n",
            "Requirement already satisfied: itsdangerous>=2.0 in /usr/local/lib/python3.10/dist-packages (from Flask<3.1,>=1.0.4->dash>=2.9.0->plotly-resampler>=0.8.3.1->pycaret) (2.2.0)\n",
            "Requirement already satisfied: click>=8.0 in /usr/local/lib/python3.10/dist-packages (from Flask<3.1,>=1.0.4->dash>=2.9.0->plotly-resampler>=0.8.3.1->pycaret) (8.1.7)\n",
            "Requirement already satisfied: pyzmq<25,>=17 in /usr/local/lib/python3.10/dist-packages (from notebook>=4.4.1->widgetsnbextension~=3.6.0->ipywidgets>=7.6.5->pycaret) (24.0.1)\n",
            "Requirement already satisfied: argon2-cffi in /usr/local/lib/python3.10/dist-packages (from notebook>=4.4.1->widgetsnbextension~=3.6.0->ipywidgets>=7.6.5->pycaret) (23.1.0)\n",
            "Requirement already satisfied: nbconvert>=5 in /usr/local/lib/python3.10/dist-packages (from notebook>=4.4.1->widgetsnbextension~=3.6.0->ipywidgets>=7.6.5->pycaret) (6.5.4)\n",
            "Requirement already satisfied: Send2Trash>=1.8.0 in /usr/local/lib/python3.10/dist-packages (from notebook>=4.4.1->widgetsnbextension~=3.6.0->ipywidgets>=7.6.5->pycaret) (1.8.3)\n",
            "Requirement already satisfied: terminado>=0.8.3 in /usr/local/lib/python3.10/dist-packages (from notebook>=4.4.1->widgetsnbextension~=3.6.0->ipywidgets>=7.6.5->pycaret) (0.18.1)\n",
            "Requirement already satisfied: prometheus-client in /usr/local/lib/python3.10/dist-packages (from notebook>=4.4.1->widgetsnbextension~=3.6.0->ipywidgets>=7.6.5->pycaret) (0.20.0)\n",
            "Requirement already satisfied: nbclassic>=0.4.7 in /usr/local/lib/python3.10/dist-packages (from notebook>=4.4.1->widgetsnbextension~=3.6.0->ipywidgets>=7.6.5->pycaret) (1.1.0)\n",
            "Requirement already satisfied: notebook-shim>=0.2.3 in /usr/local/lib/python3.10/dist-packages (from nbclassic>=0.4.7->notebook>=4.4.1->widgetsnbextension~=3.6.0->ipywidgets>=7.6.5->pycaret) (0.2.4)\n",
            "Requirement already satisfied: lxml in /usr/local/lib/python3.10/dist-packages (from nbconvert>=5->notebook>=4.4.1->widgetsnbextension~=3.6.0->ipywidgets>=7.6.5->pycaret) (4.9.4)\n",
            "Requirement already satisfied: beautifulsoup4 in /usr/local/lib/python3.10/dist-packages (from nbconvert>=5->notebook>=4.4.1->widgetsnbextension~=3.6.0->ipywidgets>=7.6.5->pycaret) (4.12.3)\n",
            "Requirement already satisfied: bleach in /usr/local/lib/python3.10/dist-packages (from nbconvert>=5->notebook>=4.4.1->widgetsnbextension~=3.6.0->ipywidgets>=7.6.5->pycaret) (6.1.0)\n",
            "Requirement already satisfied: defusedxml in /usr/local/lib/python3.10/dist-packages (from nbconvert>=5->notebook>=4.4.1->widgetsnbextension~=3.6.0->ipywidgets>=7.6.5->pycaret) (0.7.1)\n",
            "Requirement already satisfied: entrypoints>=0.2.2 in /usr/local/lib/python3.10/dist-packages (from nbconvert>=5->notebook>=4.4.1->widgetsnbextension~=3.6.0->ipywidgets>=7.6.5->pycaret) (0.4)\n",
            "Requirement already satisfied: jupyterlab-pygments in /usr/local/lib/python3.10/dist-packages (from nbconvert>=5->notebook>=4.4.1->widgetsnbextension~=3.6.0->ipywidgets>=7.6.5->pycaret) (0.3.0)\n",
            "Requirement already satisfied: mistune<2,>=0.8.1 in /usr/local/lib/python3.10/dist-packages (from nbconvert>=5->notebook>=4.4.1->widgetsnbextension~=3.6.0->ipywidgets>=7.6.5->pycaret) (0.8.4)\n",
            "Requirement already satisfied: nbclient>=0.5.0 in /usr/local/lib/python3.10/dist-packages (from nbconvert>=5->notebook>=4.4.1->widgetsnbextension~=3.6.0->ipywidgets>=7.6.5->pycaret) (0.10.0)\n",
            "Requirement already satisfied: pandocfilters>=1.4.1 in /usr/local/lib/python3.10/dist-packages (from nbconvert>=5->notebook>=4.4.1->widgetsnbextension~=3.6.0->ipywidgets>=7.6.5->pycaret) (1.5.1)\n",
            "Requirement already satisfied: tinycss2 in /usr/local/lib/python3.10/dist-packages (from nbconvert>=5->notebook>=4.4.1->widgetsnbextension~=3.6.0->ipywidgets>=7.6.5->pycaret) (1.3.0)\n",
            "Requirement already satisfied: argon2-cffi-bindings in /usr/local/lib/python3.10/dist-packages (from argon2-cffi->notebook>=4.4.1->widgetsnbextension~=3.6.0->ipywidgets>=7.6.5->pycaret) (21.2.0)\n",
            "Requirement already satisfied: jupyter-server<3,>=1.8 in /usr/local/lib/python3.10/dist-packages (from notebook-shim>=0.2.3->nbclassic>=0.4.7->notebook>=4.4.1->widgetsnbextension~=3.6.0->ipywidgets>=7.6.5->pycaret) (1.24.0)\n",
            "Requirement already satisfied: cffi>=1.0.1 in /usr/local/lib/python3.10/dist-packages (from argon2-cffi-bindings->argon2-cffi->notebook>=4.4.1->widgetsnbextension~=3.6.0->ipywidgets>=7.6.5->pycaret) (1.16.0)\n",
            "Requirement already satisfied: soupsieve>1.2 in /usr/local/lib/python3.10/dist-packages (from beautifulsoup4->nbconvert>=5->notebook>=4.4.1->widgetsnbextension~=3.6.0->ipywidgets>=7.6.5->pycaret) (2.5)\n",
            "Requirement already satisfied: webencodings in /usr/local/lib/python3.10/dist-packages (from bleach->nbconvert>=5->notebook>=4.4.1->widgetsnbextension~=3.6.0->ipywidgets>=7.6.5->pycaret) (0.5.1)\n",
            "Requirement already satisfied: pycparser in /usr/local/lib/python3.10/dist-packages (from cffi>=1.0.1->argon2-cffi-bindings->argon2-cffi->notebook>=4.4.1->widgetsnbextension~=3.6.0->ipywidgets>=7.6.5->pycaret) (2.22)\n",
            "Requirement already satisfied: anyio<4,>=3.1.0 in /usr/local/lib/python3.10/dist-packages (from jupyter-server<3,>=1.8->notebook-shim>=0.2.3->nbclassic>=0.4.7->notebook>=4.4.1->widgetsnbextension~=3.6.0->ipywidgets>=7.6.5->pycaret) (3.7.1)\n",
            "Requirement already satisfied: websocket-client in /usr/local/lib/python3.10/dist-packages (from jupyter-server<3,>=1.8->notebook-shim>=0.2.3->nbclassic>=0.4.7->notebook>=4.4.1->widgetsnbextension~=3.6.0->ipywidgets>=7.6.5->pycaret) (1.8.0)\n",
            "Requirement already satisfied: sniffio>=1.1 in /usr/local/lib/python3.10/dist-packages (from anyio<4,>=3.1.0->jupyter-server<3,>=1.8->notebook-shim>=0.2.3->nbclassic>=0.4.7->notebook>=4.4.1->widgetsnbextension~=3.6.0->ipywidgets>=7.6.5->pycaret) (1.3.1)\n",
            "Requirement already satisfied: exceptiongroup in /usr/local/lib/python3.10/dist-packages (from anyio<4,>=3.1.0->jupyter-server<3,>=1.8->notebook-shim>=0.2.3->nbclassic>=0.4.7->notebook>=4.4.1->widgetsnbextension~=3.6.0->ipywidgets>=7.6.5->pycaret) (1.2.1)\n",
            "Building wheels for collected packages: pyod\n",
            "  Building wheel for pyod (setup.py) ... \u001b[?25l\u001b[?25hdone\n",
            "  Created wheel for pyod: filename=pyod-2.0.1-py3-none-any.whl size=193267 sha256=9bb8caf439d8df6935299691e6bd9e01ad0023e00379fc87bccdc31d2a045db2\n",
            "  Stored in directory: /root/.cache/pip/wheels/94/75/88/b853cf33b0053b0a001dca55b74d515048b7656e736364eb57\n",
            "Successfully built pyod\n",
            "Installing collected packages: kaleido, dash-table, dash-html-components, dash-core-components, xxhash, wurlitzer, tsdownsample, scikit-base, schemdraw, retrying, orjson, joblib, jedi, deprecation, scikit-learn, sktime, scikit-plot, pyod, imbalanced-learn, dash, pmdarima, plotly-resampler, category-encoders, tbats, pycaret\n",
            "  Attempting uninstall: joblib\n",
            "    Found existing installation: joblib 1.4.2\n",
            "    Uninstalling joblib-1.4.2:\n",
            "      Successfully uninstalled joblib-1.4.2\n",
            "  Attempting uninstall: scikit-learn\n",
            "    Found existing installation: scikit-learn 1.2.2\n",
            "    Uninstalling scikit-learn-1.2.2:\n",
            "      Successfully uninstalled scikit-learn-1.2.2\n",
            "  Attempting uninstall: imbalanced-learn\n",
            "    Found existing installation: imbalanced-learn 0.10.1\n",
            "    Uninstalling imbalanced-learn-0.10.1:\n",
            "      Successfully uninstalled imbalanced-learn-0.10.1\n",
            "Successfully installed category-encoders-2.6.3 dash-2.17.1 dash-core-components-2.0.0 dash-html-components-2.0.0 dash-table-5.0.0 deprecation-2.1.0 imbalanced-learn-0.12.3 jedi-0.19.1 joblib-1.3.2 kaleido-0.2.1 orjson-3.10.6 plotly-resampler-0.10.0 pmdarima-2.0.4 pycaret-3.3.2 pyod-2.0.1 retrying-1.3.4 schemdraw-0.15 scikit-base-0.7.8 scikit-learn-1.4.2 scikit-plot-0.3.7 sktime-0.26.0 tbats-1.1.3 tsdownsample-0.1.3 wurlitzer-3.1.1 xxhash-3.4.1\n"
          ]
        }
      ]
    },
    {
      "cell_type": "code",
      "source": [
        "import pandas as pd"
      ],
      "metadata": {
        "id": "kb_786d4PVNc"
      },
      "execution_count": 7,
      "outputs": []
    },
    {
      "cell_type": "code",
      "source": [
        "# Steps:\n",
        "\n",
        "# Import Libraries: Import necessary libraries including pandas, pycaret, matplotlib, and seaborn.\n",
        "# Load Data: Load training and test datasets from CSV files.\n",
        "# Handle Missing Columns: Identify columns in the training set that are not present in the test set and add them to the test set with None values.\n",
        "\n",
        "# Setup PyCaret: Set up the PyCaret environment for regression, ignoring irrelevant features and handling missing values.\n",
        "\n",
        "# Compare Models: Compare different models to find the best ones based on R2 score and print their names.\n",
        "\n",
        "# Create and Tune Model: Create and tune the best model found.\n",
        "\n",
        "# Plot Model Performance: Plot various metrics to evaluate the tuned model's performance.\n",
        "\n",
        "# Finalize Model: Finalize the model for deployment.\n",
        "\n",
        "# Evaluate Model: Evaluate the finalized model on the training set.\n",
        "\n",
        "# Make Predictions: Make predictions on both training and test sets.\n",
        "\n",
        "# Plot Predictions: Plot the budget vs. revenue for both actual and predicted values to assess the model's performance visually."
      ],
      "metadata": {
        "id": "PFR3C9iZ0Ux1"
      },
      "execution_count": 8,
      "outputs": []
    },
    {
      "cell_type": "code",
      "source": [
        "# train data csv file"
      ],
      "metadata": {
        "id": "cmbg1M7dftAg"
      },
      "execution_count": 9,
      "outputs": []
    },
    {
      "cell_type": "code",
      "source": [
        "file_path_train_data = '/content/drive/MyDrive/intern sy/infy_2024_ML/official/official submitted data sy/milestone 2/task3/tmdb_output(2nd milestone week 4)_csv_1Ht_encdg_169Cols_SY_Intern.csv'\n",
        "\n",
        "# Load your dataset into a pandas DataFrame\n",
        "df = pd.read_csv(file_path_train_data)\n",
        "\n",
        "df.head(2)\n",
        "\n",
        "df = df.rename(columns={'id': 'movie_id'})"
      ],
      "metadata": {
        "id": "N1T8_dXfOnOl"
      },
      "execution_count": 10,
      "outputs": []
    },
    {
      "cell_type": "code",
      "source": [
        "df.tail(1)"
      ],
      "metadata": {
        "colab": {
          "base_uri": "https://localhost:8080/",
          "height": 234
        },
        "id": "r-fNSri4J0Cc",
        "outputId": "935a5148-3ce2-4a6f-aed0-7fa52e9d2f37"
      },
      "execution_count": 11,
      "outputs": [
        {
          "output_type": "execute_result",
          "data": {
            "text/plain": [
              "      movie_id    budget                           movie_url     imdb_id  \\\n",
              "3972    882059  18000000  https://www.boykillsworldmovie.com  tt13923084   \n",
              "\n",
              "      original_language      movie_title  \\\n",
              "3972                  1  Boy Kills World   \n",
              "\n",
              "                                               overview  popularity  \\\n",
              "3972  When his family is murdered, a deaf-mute named...     934.001   \n",
              "\n",
              "                           poster_path  \\\n",
              "3972  /25JskXmchcYwj3jHRmcPm738MpB.jpg   \n",
              "\n",
              "                                   production_companies  ...  Horror  \\\n",
              "3972  Vertigo Entertainment, Hammerstone Studios, Nt...  ...       0   \n",
              "\n",
              "      Science Fiction Family Adventure Documentary Western Mystery  War  \\\n",
              "3972                1      0         0           0       0       0    0   \n",
              "\n",
              "      Drama  Comedy  \n",
              "3972      0       0  \n",
              "\n",
              "[1 rows x 169 columns]"
            ],
            "text/html": [
              "\n",
              "  <div id=\"df-5d5d451d-da96-4ede-922d-5cfed6e9f914\" class=\"colab-df-container\">\n",
              "    <div>\n",
              "<style scoped>\n",
              "    .dataframe tbody tr th:only-of-type {\n",
              "        vertical-align: middle;\n",
              "    }\n",
              "\n",
              "    .dataframe tbody tr th {\n",
              "        vertical-align: top;\n",
              "    }\n",
              "\n",
              "    .dataframe thead th {\n",
              "        text-align: right;\n",
              "    }\n",
              "</style>\n",
              "<table border=\"1\" class=\"dataframe\">\n",
              "  <thead>\n",
              "    <tr style=\"text-align: right;\">\n",
              "      <th></th>\n",
              "      <th>movie_id</th>\n",
              "      <th>budget</th>\n",
              "      <th>movie_url</th>\n",
              "      <th>imdb_id</th>\n",
              "      <th>original_language</th>\n",
              "      <th>movie_title</th>\n",
              "      <th>overview</th>\n",
              "      <th>popularity</th>\n",
              "      <th>poster_path</th>\n",
              "      <th>production_companies</th>\n",
              "      <th>...</th>\n",
              "      <th>Horror</th>\n",
              "      <th>Science Fiction</th>\n",
              "      <th>Family</th>\n",
              "      <th>Adventure</th>\n",
              "      <th>Documentary</th>\n",
              "      <th>Western</th>\n",
              "      <th>Mystery</th>\n",
              "      <th>War</th>\n",
              "      <th>Drama</th>\n",
              "      <th>Comedy</th>\n",
              "    </tr>\n",
              "  </thead>\n",
              "  <tbody>\n",
              "    <tr>\n",
              "      <th>3972</th>\n",
              "      <td>882059</td>\n",
              "      <td>18000000</td>\n",
              "      <td>https://www.boykillsworldmovie.com</td>\n",
              "      <td>tt13923084</td>\n",
              "      <td>1</td>\n",
              "      <td>Boy Kills World</td>\n",
              "      <td>When his family is murdered, a deaf-mute named...</td>\n",
              "      <td>934.001</td>\n",
              "      <td>/25JskXmchcYwj3jHRmcPm738MpB.jpg</td>\n",
              "      <td>Vertigo Entertainment, Hammerstone Studios, Nt...</td>\n",
              "      <td>...</td>\n",
              "      <td>0</td>\n",
              "      <td>1</td>\n",
              "      <td>0</td>\n",
              "      <td>0</td>\n",
              "      <td>0</td>\n",
              "      <td>0</td>\n",
              "      <td>0</td>\n",
              "      <td>0</td>\n",
              "      <td>0</td>\n",
              "      <td>0</td>\n",
              "    </tr>\n",
              "  </tbody>\n",
              "</table>\n",
              "<p>1 rows × 169 columns</p>\n",
              "</div>\n",
              "    <div class=\"colab-df-buttons\">\n",
              "\n",
              "  <div class=\"colab-df-container\">\n",
              "    <button class=\"colab-df-convert\" onclick=\"convertToInteractive('df-5d5d451d-da96-4ede-922d-5cfed6e9f914')\"\n",
              "            title=\"Convert this dataframe to an interactive table.\"\n",
              "            style=\"display:none;\">\n",
              "\n",
              "  <svg xmlns=\"http://www.w3.org/2000/svg\" height=\"24px\" viewBox=\"0 -960 960 960\">\n",
              "    <path d=\"M120-120v-720h720v720H120Zm60-500h600v-160H180v160Zm220 220h160v-160H400v160Zm0 220h160v-160H400v160ZM180-400h160v-160H180v160Zm440 0h160v-160H620v160ZM180-180h160v-160H180v160Zm440 0h160v-160H620v160Z\"/>\n",
              "  </svg>\n",
              "    </button>\n",
              "\n",
              "  <style>\n",
              "    .colab-df-container {\n",
              "      display:flex;\n",
              "      gap: 12px;\n",
              "    }\n",
              "\n",
              "    .colab-df-convert {\n",
              "      background-color: #E8F0FE;\n",
              "      border: none;\n",
              "      border-radius: 50%;\n",
              "      cursor: pointer;\n",
              "      display: none;\n",
              "      fill: #1967D2;\n",
              "      height: 32px;\n",
              "      padding: 0 0 0 0;\n",
              "      width: 32px;\n",
              "    }\n",
              "\n",
              "    .colab-df-convert:hover {\n",
              "      background-color: #E2EBFA;\n",
              "      box-shadow: 0px 1px 2px rgba(60, 64, 67, 0.3), 0px 1px 3px 1px rgba(60, 64, 67, 0.15);\n",
              "      fill: #174EA6;\n",
              "    }\n",
              "\n",
              "    .colab-df-buttons div {\n",
              "      margin-bottom: 4px;\n",
              "    }\n",
              "\n",
              "    [theme=dark] .colab-df-convert {\n",
              "      background-color: #3B4455;\n",
              "      fill: #D2E3FC;\n",
              "    }\n",
              "\n",
              "    [theme=dark] .colab-df-convert:hover {\n",
              "      background-color: #434B5C;\n",
              "      box-shadow: 0px 1px 3px 1px rgba(0, 0, 0, 0.15);\n",
              "      filter: drop-shadow(0px 1px 2px rgba(0, 0, 0, 0.3));\n",
              "      fill: #FFFFFF;\n",
              "    }\n",
              "  </style>\n",
              "\n",
              "    <script>\n",
              "      const buttonEl =\n",
              "        document.querySelector('#df-5d5d451d-da96-4ede-922d-5cfed6e9f914 button.colab-df-convert');\n",
              "      buttonEl.style.display =\n",
              "        google.colab.kernel.accessAllowed ? 'block' : 'none';\n",
              "\n",
              "      async function convertToInteractive(key) {\n",
              "        const element = document.querySelector('#df-5d5d451d-da96-4ede-922d-5cfed6e9f914');\n",
              "        const dataTable =\n",
              "          await google.colab.kernel.invokeFunction('convertToInteractive',\n",
              "                                                    [key], {});\n",
              "        if (!dataTable) return;\n",
              "\n",
              "        const docLinkHtml = 'Like what you see? Visit the ' +\n",
              "          '<a target=\"_blank\" href=https://colab.research.google.com/notebooks/data_table.ipynb>data table notebook</a>'\n",
              "          + ' to learn more about interactive tables.';\n",
              "        element.innerHTML = '';\n",
              "        dataTable['output_type'] = 'display_data';\n",
              "        await google.colab.output.renderOutput(dataTable, element);\n",
              "        const docLink = document.createElement('div');\n",
              "        docLink.innerHTML = docLinkHtml;\n",
              "        element.appendChild(docLink);\n",
              "      }\n",
              "    </script>\n",
              "  </div>\n",
              "\n",
              "\n",
              "    </div>\n",
              "  </div>\n"
            ],
            "application/vnd.google.colaboratory.intrinsic+json": {
              "type": "dataframe"
            }
          },
          "metadata": {},
          "execution_count": 11
        }
      ]
    },
    {
      "cell_type": "code",
      "source": [
        "df.shape"
      ],
      "metadata": {
        "colab": {
          "base_uri": "https://localhost:8080/"
        },
        "id": "1q8vMVtIy_RW",
        "outputId": "3db00bdc-d7c5-4a5f-a8f3-3ddc6e312dcf"
      },
      "execution_count": 12,
      "outputs": [
        {
          "output_type": "execute_result",
          "data": {
            "text/plain": [
              "(3973, 169)"
            ]
          },
          "metadata": {},
          "execution_count": 12
        }
      ]
    },
    {
      "cell_type": "code",
      "source": [
        "df.columns"
      ],
      "metadata": {
        "id": "h7HKWmbhPdp5",
        "colab": {
          "base_uri": "https://localhost:8080/"
        },
        "outputId": "e573b830-69ad-4a2d-9f21-eaa5ef12f04b"
      },
      "execution_count": 13,
      "outputs": [
        {
          "output_type": "execute_result",
          "data": {
            "text/plain": [
              "Index(['movie_id', 'budget', 'movie_url', 'imdb_id', 'original_language',\n",
              "       'movie_title', 'overview', 'popularity', 'poster_path',\n",
              "       'production_companies',\n",
              "       ...\n",
              "       'Horror', 'Science Fiction', 'Family', 'Adventure', 'Documentary',\n",
              "       'Western', 'Mystery', 'War', 'Drama', 'Comedy'],\n",
              "      dtype='object', length=169)"
            ]
          },
          "metadata": {},
          "execution_count": 13
        }
      ]
    },
    {
      "cell_type": "code",
      "source": [
        "df.info()"
      ],
      "metadata": {
        "id": "E2j_wy96QqwB",
        "colab": {
          "base_uri": "https://localhost:8080/"
        },
        "outputId": "55714e8d-3124-4440-c1b1-8e77252d65a5"
      },
      "execution_count": 14,
      "outputs": [
        {
          "output_type": "stream",
          "name": "stdout",
          "text": [
            "<class 'pandas.core.frame.DataFrame'>\n",
            "RangeIndex: 3973 entries, 0 to 3972\n",
            "Columns: 169 entries, movie_id to Comedy\n",
            "dtypes: float64(1), int64(157), object(11)\n",
            "memory usage: 5.1+ MB\n"
          ]
        }
      ]
    },
    {
      "cell_type": "code",
      "source": [
        "# ANS OF Q4"
      ],
      "metadata": {
        "id": "ofSvIT9e2gAW"
      },
      "execution_count": 15,
      "outputs": []
    },
    {
      "cell_type": "code",
      "source": [
        "# # Convert columns to lists\n",
        "# train_columns = df.columns.tolist()\n",
        "# test_columns = df_test.columns.tolist()\n",
        "\n",
        "# # Remove 'revenue' from train columns if present\n",
        "# if 'revenue' in train_columns:\n",
        "#     train_columns.remove('revenue')\n",
        "\n",
        "\n",
        "# # train data missing cols\n",
        "# # Find columns in test data that are not in train data\n",
        "# missing_columns_in_train = [col for col in test_columns if col not in train_columns]\n",
        "\n",
        "# missing_columns_in_train"
      ],
      "metadata": {
        "id": "WlNLFc5z2gDA"
      },
      "execution_count": 16,
      "outputs": []
    },
    {
      "cell_type": "code",
      "source": [
        "# len(missing_columns_in_train)"
      ],
      "metadata": {
        "id": "qmDM0Qs12gFM"
      },
      "execution_count": 17,
      "outputs": []
    },
    {
      "cell_type": "code",
      "source": [
        "# # Add missing columns to train data with None values\n",
        "# for col in missing_columns_in_train:\n",
        "#     df[col] = None"
      ],
      "metadata": {
        "id": "VuF1a4kR2gHi"
      },
      "execution_count": 18,
      "outputs": []
    },
    {
      "cell_type": "code",
      "source": [
        "# df.shape"
      ],
      "metadata": {
        "id": "jYjDK8MH2gKL"
      },
      "execution_count": 19,
      "outputs": []
    },
    {
      "cell_type": "code",
      "source": [
        "# # missing cols in test data\n",
        "# # Find columns in train data that are not in test data\n",
        "# missing_columns_in_test = [col for col in train_columns if col not in test_columns]\n",
        "\n",
        "# missing_columns_in_test"
      ],
      "metadata": {
        "id": "W8sNDxlw2gMh"
      },
      "execution_count": 20,
      "outputs": []
    },
    {
      "cell_type": "code",
      "source": [],
      "metadata": {
        "id": "5glSLLwU2gPJ"
      },
      "execution_count": 20,
      "outputs": []
    },
    {
      "cell_type": "code",
      "source": [],
      "metadata": {
        "id": "VqBVSyHx2gRr"
      },
      "execution_count": 20,
      "outputs": []
    },
    {
      "cell_type": "code",
      "source": [],
      "metadata": {
        "id": "ulWolGsI2gUF"
      },
      "execution_count": 20,
      "outputs": []
    },
    {
      "cell_type": "code",
      "source": [
        "first_row_dict = df.iloc[0].to_dict()\n",
        "first_row_dict"
      ],
      "metadata": {
        "colab": {
          "base_uri": "https://localhost:8080/"
        },
        "id": "Ck3EFpfPdtL5",
        "outputId": "8bd8afe9-bbf0-427b-9947-32a9f9a7e857"
      },
      "execution_count": 21,
      "outputs": [
        {
          "output_type": "execute_result",
          "data": {
            "text/plain": [
              "{'movie_id': 653346,\n",
              " 'budget': 160000000,\n",
              " 'movie_url': 'https://www.20thcenturystudios.com/movies/kingdom-of-the-planet-of-the-apes',\n",
              " 'imdb_id': 'tt11389872',\n",
              " 'original_language': 1,\n",
              " 'movie_title': 'Kingdom of the Planet of the Apes',\n",
              " 'overview': \"Several generations in the future following Caesar's reign, apes are now the dominant species and live harmoniously while humans have been reduced to living in the shadows. As a new tyrannical ape leader builds his empire, one young ape undertakes a harrowing journey that will cause him to question all that he has known about the past and to make choices that will define a future for apes and humans alike.\",\n",
              " 'popularity': 6245.898,\n",
              " 'poster_path': '/gKkl37BQuKTanygYQG1pyYgLVgf.jpg',\n",
              " 'production_companies': '20th Century Studios, Oddball Entertainment, Jason T. Reed Productions',\n",
              " 'runtime': 145,\n",
              " 'status': 3,\n",
              " 'tagline': 'No one can stop the reign.',\n",
              " 'title': 'Kingdom of the Planet of the Apes',\n",
              " 'keywords': 'empire, kingdom, gorilla, dystopia, eagle, sequel, anthropomorphism, distant future, ape, orangutan, evolution, chimpanzee, primate, sign languages, journey, cgi-live action hybrid, clan, post-apocalyptic, evil tyrant, bold',\n",
              " 'cast': \"Owen Teague, Freya Allan, Kevin Durand, Peter Macon, William H. Macy, Eka Darville, Travis Jeffery, Lydia Peckham, Neil Sandilands, Ras-Samuel Welda'abzgi, Sara Wiseman, Kaden Hartcher, Andy McPhee, Nina Gallas, Samuel Falé, Dichen Lachman, Virginie Laverdure, Markus Hamilton, Benjamin Scott, Nirish Bhat Surambadka, Frances Berry, Peter Hayes, Sheree da Costa, Souleymane Diasse, Olga Miller, Dmitriy Miller, Anastasia Miller, Michael Spudic, Karin Konoval\",\n",
              " 'crew': 'Wes Ball, Joe Hartwick Jr., Peter Chernin, Rick Jaffa, Amanda Silver, Jason Reed, Jenno Topping, Daniel T. Dorrance, Gyula Pados, Dan Zimmerman, Mayes C. Rubeo, Rick Jaffa, Amanda Silver, Wes Ball, Erik Winquist, John Paesano, Dirk Westervelt, Josh Friedman, Julia Neighly, Patrick Neighly, Debra Zane, Dylan Jury, Jennifer Cornwell, Justin Muller, Jon Mallard, Glenn Suter',\n",
              " 'revenue': 359039904,\n",
              " 'release_day': 8,\n",
              " 'release_month': 5,\n",
              " 'release_year': 2024,\n",
              " 'Venezuela': 0,\n",
              " 'Botswana': 0,\n",
              " 'Kuwait': 0,\n",
              " 'Australia': 0,\n",
              " 'Malta': 0,\n",
              " 'Portugal': 0,\n",
              " 'Slovakia': 0,\n",
              " 'Japan': 0,\n",
              " 'Ireland': 0,\n",
              " 'Colombia': 0,\n",
              " 'Belgium': 0,\n",
              " 'Cyprus': 0,\n",
              " 'Canada': 0,\n",
              " 'Luxembourg': 0,\n",
              " 'Lebanon': 0,\n",
              " 'Bahamas': 0,\n",
              " 'Peru': 0,\n",
              " 'Singapore': 0,\n",
              " 'Hong Kong': 0,\n",
              " 'Saudi Arabia': 0,\n",
              " 'Bulgaria': 0,\n",
              " 'South Korea': 0,\n",
              " 'South Africa': 0,\n",
              " 'Norway': 0,\n",
              " 'Taiwan': 0,\n",
              " 'Israel': 0,\n",
              " 'Thailand': 0,\n",
              " 'Libyan Arab Jamahiriya': 0,\n",
              " 'Aruba': 0,\n",
              " 'Mexico': 0,\n",
              " 'Finland': 0,\n",
              " 'Zimbabwe': 0,\n",
              " 'Puerto Rico': 0,\n",
              " 'Turkey': 0,\n",
              " 'United Arab Emirates': 0,\n",
              " 'Slovenia': 0,\n",
              " 'Russia': 0,\n",
              " 'Soviet Union': 0,\n",
              " 'Netherlands': 0,\n",
              " 'Brazil': 0,\n",
              " 'Spain': 0,\n",
              " 'Hungary': 0,\n",
              " 'Italy': 0,\n",
              " 'Dominican Republic': 0,\n",
              " 'Malaysia': 0,\n",
              " 'Kenya': 0,\n",
              " 'Sweden': 0,\n",
              " 'Poland': 0,\n",
              " 'Greece': 0,\n",
              " 'Jamaica': 0,\n",
              " 'France': 0,\n",
              " 'Denmark': 0,\n",
              " 'Czech Republic': 0,\n",
              " 'New Zealand': 0,\n",
              " 'Indonesia': 0,\n",
              " 'Chile': 0,\n",
              " 'Switzerland': 0,\n",
              " 'Serbia': 0,\n",
              " 'Germany': 0,\n",
              " 'China': 0,\n",
              " 'Romania': 0,\n",
              " 'India': 0,\n",
              " 'Iceland': 0,\n",
              " 'Ukraine': 0,\n",
              " 'Morocco': 0,\n",
              " 'Montenegro': 0,\n",
              " 'Austria': 0,\n",
              " 'United Kingdom': 0,\n",
              " 'United States of America': 1,\n",
              " 'Unnamed: 90': 0,\n",
              " 'Español': 0,\n",
              " 'Norsk': 0,\n",
              " 'ქართული': 0,\n",
              " 'Português': 0,\n",
              " 'Pусский': 0,\n",
              " 'Català': 0,\n",
              " 'Cymraeg': 0,\n",
              " '普通话': 0,\n",
              " 'ਪੰਜਾਬੀ': 0,\n",
              " 'Bosanski': 0,\n",
              " 'Magyar': 0,\n",
              " 'Nederlands': 0,\n",
              " 'සිංහල': 0,\n",
              " 'български език': 0,\n",
              " 'English': 1,\n",
              " 'اردو': 0,\n",
              " 'Afrikaans': 0,\n",
              " '广州话 / 廣州話': 0,\n",
              " 'Esperanto': 0,\n",
              " 'Hrvatski': 0,\n",
              " 'हिन्दी': 0,\n",
              " 'Bahasa indonesia': 0,\n",
              " 'Український': 0,\n",
              " 'No Language': 0,\n",
              " '한국어/조선말': 0,\n",
              " 'العربية': 0,\n",
              " 'Bahasa melayu': 0,\n",
              " 'Latin': 0,\n",
              " '日本語': 0,\n",
              " 'Fulfulde': 0,\n",
              " 'isiZulu': 0,\n",
              " 'Gaeilge': 0,\n",
              " 'Tiếng Việt': 0,\n",
              " 'Türkçe': 0,\n",
              " 'Dansk': 0,\n",
              " 'Kiswahili': 0,\n",
              " 'Íslenska': 0,\n",
              " 'Polski': 0,\n",
              " 'shqip': 0,\n",
              " 'euskera': 0,\n",
              " 'Slovenčina': 0,\n",
              " 'suomi': 0,\n",
              " 'தமிழ்': 0,\n",
              " 'ελληνικά': 0,\n",
              " 'Deutsch': 0,\n",
              " 'فارسی': 0,\n",
              " 'Srpski': 0,\n",
              " 'עִבְרִית': 0,\n",
              " 'Lietuvių': 0,\n",
              " 'پښتو': 0,\n",
              " 'Italiano': 0,\n",
              " 'Český': 0,\n",
              " 'ภาษาไทย': 0,\n",
              " 'Français': 0,\n",
              " 'Română': 0,\n",
              " 'Eesti': 0,\n",
              " 'svenska': 0,\n",
              " 'বাংলা': 0,\n",
              " 'Somali': 0,\n",
              " 'Action': 1,\n",
              " 'Romance': 0,\n",
              " 'History': 0,\n",
              " 'Crime': 0,\n",
              " 'Fantasy': 0,\n",
              " 'Thriller': 0,\n",
              " 'Animation': 0,\n",
              " 'TV Movie': 0,\n",
              " 'Music': 0,\n",
              " 'Horror': 0,\n",
              " 'Science Fiction': 1,\n",
              " 'Family': 0,\n",
              " 'Adventure': 1,\n",
              " 'Documentary': 0,\n",
              " 'Western': 0,\n",
              " 'Mystery': 0,\n",
              " 'War': 0,\n",
              " 'Drama': 0,\n",
              " 'Comedy': 0}"
            ]
          },
          "metadata": {},
          "execution_count": 21
        }
      ]
    },
    {
      "cell_type": "code",
      "source": [
        "# Check the distribution of your target variable\n",
        "print(df['revenue'].value_counts())"
      ],
      "metadata": {
        "id": "AEJlPt4dM6No",
        "colab": {
          "base_uri": "https://localhost:8080/"
        },
        "outputId": "427dd6c3-b0db-4a27-fc7e-7abc15a61cfa"
      },
      "execution_count": 22,
      "outputs": [
        {
          "output_type": "stream",
          "name": "stdout",
          "text": [
            "revenue\n",
            "144454984    316\n",
            "10000000       9\n",
            "8000000        8\n",
            "2000000        7\n",
            "7000000        7\n",
            "            ... \n",
            "93600000       1\n",
            "147880543      1\n",
            "149200000      1\n",
            "169837010      1\n",
            "46442528       1\n",
            "Name: count, Length: 3348, dtype: int64\n"
          ]
        }
      ]
    },
    {
      "cell_type": "code",
      "source": [
        "# Import the necessary PyCaret module for regression\n",
        "from pycaret.regression import setup, compare_models, create_model, tune_model, plot_model, predict_model, finalize_model, evaluate_model"
      ],
      "metadata": {
        "id": "N87N9HB-Sa-T"
      },
      "execution_count": 23,
      "outputs": []
    },
    {
      "cell_type": "code",
      "source": [
        "# Ensure the 'revenue' column has no missing values\n",
        "df = df.dropna(subset=['revenue'])\n",
        "\n",
        "df.head(1)"
      ],
      "metadata": {
        "colab": {
          "base_uri": "https://localhost:8080/",
          "height": 234
        },
        "id": "CabQyeFRSb9A",
        "outputId": "5a3b6ba7-b8c3-47ef-ffe4-22ff0249b8b4"
      },
      "execution_count": 24,
      "outputs": [
        {
          "output_type": "execute_result",
          "data": {
            "text/plain": [
              "   movie_id     budget                                          movie_url  \\\n",
              "0    653346  160000000  https://www.20thcenturystudios.com/movies/king...   \n",
              "\n",
              "      imdb_id  original_language                        movie_title  \\\n",
              "0  tt11389872                  1  Kingdom of the Planet of the Apes   \n",
              "\n",
              "                                            overview  popularity  \\\n",
              "0  Several generations in the future following Ca...    6245.898   \n",
              "\n",
              "                        poster_path  \\\n",
              "0  /gKkl37BQuKTanygYQG1pyYgLVgf.jpg   \n",
              "\n",
              "                                production_companies  ...  Horror  \\\n",
              "0  20th Century Studios, Oddball Entertainment, J...  ...       0   \n",
              "\n",
              "   Science Fiction Family Adventure Documentary Western Mystery  War  Drama  \\\n",
              "0                1      0         1           0       0       0    0      0   \n",
              "\n",
              "   Comedy  \n",
              "0       0  \n",
              "\n",
              "[1 rows x 169 columns]"
            ],
            "text/html": [
              "\n",
              "  <div id=\"df-e9db2fc3-0345-4aea-8b8a-74b8b36a2412\" class=\"colab-df-container\">\n",
              "    <div>\n",
              "<style scoped>\n",
              "    .dataframe tbody tr th:only-of-type {\n",
              "        vertical-align: middle;\n",
              "    }\n",
              "\n",
              "    .dataframe tbody tr th {\n",
              "        vertical-align: top;\n",
              "    }\n",
              "\n",
              "    .dataframe thead th {\n",
              "        text-align: right;\n",
              "    }\n",
              "</style>\n",
              "<table border=\"1\" class=\"dataframe\">\n",
              "  <thead>\n",
              "    <tr style=\"text-align: right;\">\n",
              "      <th></th>\n",
              "      <th>movie_id</th>\n",
              "      <th>budget</th>\n",
              "      <th>movie_url</th>\n",
              "      <th>imdb_id</th>\n",
              "      <th>original_language</th>\n",
              "      <th>movie_title</th>\n",
              "      <th>overview</th>\n",
              "      <th>popularity</th>\n",
              "      <th>poster_path</th>\n",
              "      <th>production_companies</th>\n",
              "      <th>...</th>\n",
              "      <th>Horror</th>\n",
              "      <th>Science Fiction</th>\n",
              "      <th>Family</th>\n",
              "      <th>Adventure</th>\n",
              "      <th>Documentary</th>\n",
              "      <th>Western</th>\n",
              "      <th>Mystery</th>\n",
              "      <th>War</th>\n",
              "      <th>Drama</th>\n",
              "      <th>Comedy</th>\n",
              "    </tr>\n",
              "  </thead>\n",
              "  <tbody>\n",
              "    <tr>\n",
              "      <th>0</th>\n",
              "      <td>653346</td>\n",
              "      <td>160000000</td>\n",
              "      <td>https://www.20thcenturystudios.com/movies/king...</td>\n",
              "      <td>tt11389872</td>\n",
              "      <td>1</td>\n",
              "      <td>Kingdom of the Planet of the Apes</td>\n",
              "      <td>Several generations in the future following Ca...</td>\n",
              "      <td>6245.898</td>\n",
              "      <td>/gKkl37BQuKTanygYQG1pyYgLVgf.jpg</td>\n",
              "      <td>20th Century Studios, Oddball Entertainment, J...</td>\n",
              "      <td>...</td>\n",
              "      <td>0</td>\n",
              "      <td>1</td>\n",
              "      <td>0</td>\n",
              "      <td>1</td>\n",
              "      <td>0</td>\n",
              "      <td>0</td>\n",
              "      <td>0</td>\n",
              "      <td>0</td>\n",
              "      <td>0</td>\n",
              "      <td>0</td>\n",
              "    </tr>\n",
              "  </tbody>\n",
              "</table>\n",
              "<p>1 rows × 169 columns</p>\n",
              "</div>\n",
              "    <div class=\"colab-df-buttons\">\n",
              "\n",
              "  <div class=\"colab-df-container\">\n",
              "    <button class=\"colab-df-convert\" onclick=\"convertToInteractive('df-e9db2fc3-0345-4aea-8b8a-74b8b36a2412')\"\n",
              "            title=\"Convert this dataframe to an interactive table.\"\n",
              "            style=\"display:none;\">\n",
              "\n",
              "  <svg xmlns=\"http://www.w3.org/2000/svg\" height=\"24px\" viewBox=\"0 -960 960 960\">\n",
              "    <path d=\"M120-120v-720h720v720H120Zm60-500h600v-160H180v160Zm220 220h160v-160H400v160Zm0 220h160v-160H400v160ZM180-400h160v-160H180v160Zm440 0h160v-160H620v160ZM180-180h160v-160H180v160Zm440 0h160v-160H620v160Z\"/>\n",
              "  </svg>\n",
              "    </button>\n",
              "\n",
              "  <style>\n",
              "    .colab-df-container {\n",
              "      display:flex;\n",
              "      gap: 12px;\n",
              "    }\n",
              "\n",
              "    .colab-df-convert {\n",
              "      background-color: #E8F0FE;\n",
              "      border: none;\n",
              "      border-radius: 50%;\n",
              "      cursor: pointer;\n",
              "      display: none;\n",
              "      fill: #1967D2;\n",
              "      height: 32px;\n",
              "      padding: 0 0 0 0;\n",
              "      width: 32px;\n",
              "    }\n",
              "\n",
              "    .colab-df-convert:hover {\n",
              "      background-color: #E2EBFA;\n",
              "      box-shadow: 0px 1px 2px rgba(60, 64, 67, 0.3), 0px 1px 3px 1px rgba(60, 64, 67, 0.15);\n",
              "      fill: #174EA6;\n",
              "    }\n",
              "\n",
              "    .colab-df-buttons div {\n",
              "      margin-bottom: 4px;\n",
              "    }\n",
              "\n",
              "    [theme=dark] .colab-df-convert {\n",
              "      background-color: #3B4455;\n",
              "      fill: #D2E3FC;\n",
              "    }\n",
              "\n",
              "    [theme=dark] .colab-df-convert:hover {\n",
              "      background-color: #434B5C;\n",
              "      box-shadow: 0px 1px 3px 1px rgba(0, 0, 0, 0.15);\n",
              "      filter: drop-shadow(0px 1px 2px rgba(0, 0, 0, 0.3));\n",
              "      fill: #FFFFFF;\n",
              "    }\n",
              "  </style>\n",
              "\n",
              "    <script>\n",
              "      const buttonEl =\n",
              "        document.querySelector('#df-e9db2fc3-0345-4aea-8b8a-74b8b36a2412 button.colab-df-convert');\n",
              "      buttonEl.style.display =\n",
              "        google.colab.kernel.accessAllowed ? 'block' : 'none';\n",
              "\n",
              "      async function convertToInteractive(key) {\n",
              "        const element = document.querySelector('#df-e9db2fc3-0345-4aea-8b8a-74b8b36a2412');\n",
              "        const dataTable =\n",
              "          await google.colab.kernel.invokeFunction('convertToInteractive',\n",
              "                                                    [key], {});\n",
              "        if (!dataTable) return;\n",
              "\n",
              "        const docLinkHtml = 'Like what you see? Visit the ' +\n",
              "          '<a target=\"_blank\" href=https://colab.research.google.com/notebooks/data_table.ipynb>data table notebook</a>'\n",
              "          + ' to learn more about interactive tables.';\n",
              "        element.innerHTML = '';\n",
              "        dataTable['output_type'] = 'display_data';\n",
              "        await google.colab.output.renderOutput(dataTable, element);\n",
              "        const docLink = document.createElement('div');\n",
              "        docLink.innerHTML = docLinkHtml;\n",
              "        element.appendChild(docLink);\n",
              "      }\n",
              "    </script>\n",
              "  </div>\n",
              "\n",
              "\n",
              "    </div>\n",
              "  </div>\n"
            ],
            "application/vnd.google.colaboratory.intrinsic+json": {
              "type": "dataframe",
              "variable_name": "df"
            }
          },
          "metadata": {},
          "execution_count": 24
        }
      ]
    },
    {
      "cell_type": "code",
      "source": [
        "col = ['movie_id', 'budget', 'revenue']\n",
        "df[col].head(1)"
      ],
      "metadata": {
        "colab": {
          "base_uri": "https://localhost:8080/",
          "height": 80
        },
        "id": "Qz3UvASRz2GH",
        "outputId": "63f1daa1-da51-40c5-bda1-60f570c27369"
      },
      "execution_count": 25,
      "outputs": [
        {
          "output_type": "execute_result",
          "data": {
            "text/plain": [
              "   movie_id     budget    revenue\n",
              "0    653346  160000000  359039904"
            ],
            "text/html": [
              "\n",
              "  <div id=\"df-3eb66350-fbc0-476b-a8ee-5770b3d12dff\" class=\"colab-df-container\">\n",
              "    <div>\n",
              "<style scoped>\n",
              "    .dataframe tbody tr th:only-of-type {\n",
              "        vertical-align: middle;\n",
              "    }\n",
              "\n",
              "    .dataframe tbody tr th {\n",
              "        vertical-align: top;\n",
              "    }\n",
              "\n",
              "    .dataframe thead th {\n",
              "        text-align: right;\n",
              "    }\n",
              "</style>\n",
              "<table border=\"1\" class=\"dataframe\">\n",
              "  <thead>\n",
              "    <tr style=\"text-align: right;\">\n",
              "      <th></th>\n",
              "      <th>movie_id</th>\n",
              "      <th>budget</th>\n",
              "      <th>revenue</th>\n",
              "    </tr>\n",
              "  </thead>\n",
              "  <tbody>\n",
              "    <tr>\n",
              "      <th>0</th>\n",
              "      <td>653346</td>\n",
              "      <td>160000000</td>\n",
              "      <td>359039904</td>\n",
              "    </tr>\n",
              "  </tbody>\n",
              "</table>\n",
              "</div>\n",
              "    <div class=\"colab-df-buttons\">\n",
              "\n",
              "  <div class=\"colab-df-container\">\n",
              "    <button class=\"colab-df-convert\" onclick=\"convertToInteractive('df-3eb66350-fbc0-476b-a8ee-5770b3d12dff')\"\n",
              "            title=\"Convert this dataframe to an interactive table.\"\n",
              "            style=\"display:none;\">\n",
              "\n",
              "  <svg xmlns=\"http://www.w3.org/2000/svg\" height=\"24px\" viewBox=\"0 -960 960 960\">\n",
              "    <path d=\"M120-120v-720h720v720H120Zm60-500h600v-160H180v160Zm220 220h160v-160H400v160Zm0 220h160v-160H400v160ZM180-400h160v-160H180v160Zm440 0h160v-160H620v160ZM180-180h160v-160H180v160Zm440 0h160v-160H620v160Z\"/>\n",
              "  </svg>\n",
              "    </button>\n",
              "\n",
              "  <style>\n",
              "    .colab-df-container {\n",
              "      display:flex;\n",
              "      gap: 12px;\n",
              "    }\n",
              "\n",
              "    .colab-df-convert {\n",
              "      background-color: #E8F0FE;\n",
              "      border: none;\n",
              "      border-radius: 50%;\n",
              "      cursor: pointer;\n",
              "      display: none;\n",
              "      fill: #1967D2;\n",
              "      height: 32px;\n",
              "      padding: 0 0 0 0;\n",
              "      width: 32px;\n",
              "    }\n",
              "\n",
              "    .colab-df-convert:hover {\n",
              "      background-color: #E2EBFA;\n",
              "      box-shadow: 0px 1px 2px rgba(60, 64, 67, 0.3), 0px 1px 3px 1px rgba(60, 64, 67, 0.15);\n",
              "      fill: #174EA6;\n",
              "    }\n",
              "\n",
              "    .colab-df-buttons div {\n",
              "      margin-bottom: 4px;\n",
              "    }\n",
              "\n",
              "    [theme=dark] .colab-df-convert {\n",
              "      background-color: #3B4455;\n",
              "      fill: #D2E3FC;\n",
              "    }\n",
              "\n",
              "    [theme=dark] .colab-df-convert:hover {\n",
              "      background-color: #434B5C;\n",
              "      box-shadow: 0px 1px 3px 1px rgba(0, 0, 0, 0.15);\n",
              "      filter: drop-shadow(0px 1px 2px rgba(0, 0, 0, 0.3));\n",
              "      fill: #FFFFFF;\n",
              "    }\n",
              "  </style>\n",
              "\n",
              "    <script>\n",
              "      const buttonEl =\n",
              "        document.querySelector('#df-3eb66350-fbc0-476b-a8ee-5770b3d12dff button.colab-df-convert');\n",
              "      buttonEl.style.display =\n",
              "        google.colab.kernel.accessAllowed ? 'block' : 'none';\n",
              "\n",
              "      async function convertToInteractive(key) {\n",
              "        const element = document.querySelector('#df-3eb66350-fbc0-476b-a8ee-5770b3d12dff');\n",
              "        const dataTable =\n",
              "          await google.colab.kernel.invokeFunction('convertToInteractive',\n",
              "                                                    [key], {});\n",
              "        if (!dataTable) return;\n",
              "\n",
              "        const docLinkHtml = 'Like what you see? Visit the ' +\n",
              "          '<a target=\"_blank\" href=https://colab.research.google.com/notebooks/data_table.ipynb>data table notebook</a>'\n",
              "          + ' to learn more about interactive tables.';\n",
              "        element.innerHTML = '';\n",
              "        dataTable['output_type'] = 'display_data';\n",
              "        await google.colab.output.renderOutput(dataTable, element);\n",
              "        const docLink = document.createElement('div');\n",
              "        docLink.innerHTML = docLinkHtml;\n",
              "        element.appendChild(docLink);\n",
              "      }\n",
              "    </script>\n",
              "  </div>\n",
              "\n",
              "\n",
              "    </div>\n",
              "  </div>\n"
            ],
            "application/vnd.google.colaboratory.intrinsic+json": {
              "type": "dataframe",
              "summary": "{\n  \"name\": \"df[col]\",\n  \"rows\": 1,\n  \"fields\": [\n    {\n      \"column\": \"movie_id\",\n      \"properties\": {\n        \"dtype\": \"number\",\n        \"std\": null,\n        \"min\": 653346,\n        \"max\": 653346,\n        \"num_unique_values\": 1,\n        \"samples\": [\n          653346\n        ],\n        \"semantic_type\": \"\",\n        \"description\": \"\"\n      }\n    },\n    {\n      \"column\": \"budget\",\n      \"properties\": {\n        \"dtype\": \"number\",\n        \"std\": null,\n        \"min\": 160000000,\n        \"max\": 160000000,\n        \"num_unique_values\": 1,\n        \"samples\": [\n          160000000\n        ],\n        \"semantic_type\": \"\",\n        \"description\": \"\"\n      }\n    },\n    {\n      \"column\": \"revenue\",\n      \"properties\": {\n        \"dtype\": \"number\",\n        \"std\": null,\n        \"min\": 359039904,\n        \"max\": 359039904,\n        \"num_unique_values\": 1,\n        \"samples\": [\n          359039904\n        ],\n        \"semantic_type\": \"\",\n        \"description\": \"\"\n      }\n    }\n  ]\n}"
            }
          },
          "metadata": {},
          "execution_count": 25
        }
      ]
    },
    {
      "cell_type": "code",
      "source": [
        "df.shape"
      ],
      "metadata": {
        "colab": {
          "base_uri": "https://localhost:8080/"
        },
        "id": "oJqAq4TWStLv",
        "outputId": "f5b819ad-1708-47bb-ba89-d03617848a55"
      },
      "execution_count": 26,
      "outputs": [
        {
          "output_type": "execute_result",
          "data": {
            "text/plain": [
              "(3973, 169)"
            ]
          },
          "metadata": {},
          "execution_count": 26
        }
      ]
    },
    {
      "cell_type": "markdown",
      "source": [
        "# Q2* read test data csv i have shared *"
      ],
      "metadata": {
        "id": "SpTPo2TMaYdN"
      }
    },
    {
      "cell_type": "code",
      "source": [
        "# ANS OF Q2\n",
        "# test"
      ],
      "metadata": {
        "id": "SX61IlIq6Nx7"
      },
      "execution_count": 27,
      "outputs": []
    },
    {
      "cell_type": "code",
      "source": [
        "# test data csv file\n",
        "\n",
        "file_path_test_data = '/content/drive/MyDrive/intern sy/infy_2024_ML/official/official submitted data sy/milestone new/2 t/test_df_normalization_131_cols.csv'\n",
        "\n",
        "# Load your dataset into a pandas DataFrame\n",
        "df_test = pd.read_csv(file_path_test_data)\n",
        "\n",
        "df_test.tail(2)\n"
      ],
      "metadata": {
        "colab": {
          "base_uri": "https://localhost:8080/",
          "height": 387
        },
        "id": "HKsQX4tu0VH7",
        "outputId": "8e8721f0-0bd8-4932-e344-a2d3abdbc1aa"
      },
      "execution_count": 28,
      "outputs": [
        {
          "output_type": "execute_result",
          "data": {
            "text/plain": [
              "      movie_id    budget                                movie_url    imdb_id  \\\n",
              "1001    256924  10000000  https://www.themoviedb.org/movie/256924  tt1772288   \n",
              "1002      1665   5000000    https://www.themoviedb.org/movie/1665  tt0403217   \n",
              "\n",
              "      original_language    movie_title  \\\n",
              "1001                  0  Danny Collins   \n",
              "1002                  0      Last Days   \n",
              "\n",
              "                                               overview  popularity  \\\n",
              "1001  An ageing hard-living 1970s rock star decides ...      18.035   \n",
              "1002  The life and struggles of a notorious rock mus...      14.124   \n",
              "\n",
              "                           poster_path  \\\n",
              "1001  /sf9ndc9l6alP9DhJF1ZpKz1PaXK.jpg   \n",
              "1002  /btbp47CHXgLhw30kyDoVfNFLB3g.jpg   \n",
              "\n",
              "                                   production_companies  ...  Comedy  Crime  \\\n",
              "1001  Shivhans Pictures, Big Indie Pictures, Handwri...  ...       1      0   \n",
              "1002                                  Meno Film Company  ...       0      0   \n",
              "\n",
              "     Mystery Western Documentary War Action  Thriller  Fantasy  Family  \n",
              "1001       0       0           0   0      0         0        0       0  \n",
              "1002       0       0           0   0      0         0        0       0  \n",
              "\n",
              "[2 rows x 131 columns]"
            ],
            "text/html": [
              "\n",
              "  <div id=\"df-1395c4d4-2085-4c24-b4e9-3dcdcd6c8c7d\" class=\"colab-df-container\">\n",
              "    <div>\n",
              "<style scoped>\n",
              "    .dataframe tbody tr th:only-of-type {\n",
              "        vertical-align: middle;\n",
              "    }\n",
              "\n",
              "    .dataframe tbody tr th {\n",
              "        vertical-align: top;\n",
              "    }\n",
              "\n",
              "    .dataframe thead th {\n",
              "        text-align: right;\n",
              "    }\n",
              "</style>\n",
              "<table border=\"1\" class=\"dataframe\">\n",
              "  <thead>\n",
              "    <tr style=\"text-align: right;\">\n",
              "      <th></th>\n",
              "      <th>movie_id</th>\n",
              "      <th>budget</th>\n",
              "      <th>movie_url</th>\n",
              "      <th>imdb_id</th>\n",
              "      <th>original_language</th>\n",
              "      <th>movie_title</th>\n",
              "      <th>overview</th>\n",
              "      <th>popularity</th>\n",
              "      <th>poster_path</th>\n",
              "      <th>production_companies</th>\n",
              "      <th>...</th>\n",
              "      <th>Comedy</th>\n",
              "      <th>Crime</th>\n",
              "      <th>Mystery</th>\n",
              "      <th>Western</th>\n",
              "      <th>Documentary</th>\n",
              "      <th>War</th>\n",
              "      <th>Action</th>\n",
              "      <th>Thriller</th>\n",
              "      <th>Fantasy</th>\n",
              "      <th>Family</th>\n",
              "    </tr>\n",
              "  </thead>\n",
              "  <tbody>\n",
              "    <tr>\n",
              "      <th>1001</th>\n",
              "      <td>256924</td>\n",
              "      <td>10000000</td>\n",
              "      <td>https://www.themoviedb.org/movie/256924</td>\n",
              "      <td>tt1772288</td>\n",
              "      <td>0</td>\n",
              "      <td>Danny Collins</td>\n",
              "      <td>An ageing hard-living 1970s rock star decides ...</td>\n",
              "      <td>18.035</td>\n",
              "      <td>/sf9ndc9l6alP9DhJF1ZpKz1PaXK.jpg</td>\n",
              "      <td>Shivhans Pictures, Big Indie Pictures, Handwri...</td>\n",
              "      <td>...</td>\n",
              "      <td>1</td>\n",
              "      <td>0</td>\n",
              "      <td>0</td>\n",
              "      <td>0</td>\n",
              "      <td>0</td>\n",
              "      <td>0</td>\n",
              "      <td>0</td>\n",
              "      <td>0</td>\n",
              "      <td>0</td>\n",
              "      <td>0</td>\n",
              "    </tr>\n",
              "    <tr>\n",
              "      <th>1002</th>\n",
              "      <td>1665</td>\n",
              "      <td>5000000</td>\n",
              "      <td>https://www.themoviedb.org/movie/1665</td>\n",
              "      <td>tt0403217</td>\n",
              "      <td>0</td>\n",
              "      <td>Last Days</td>\n",
              "      <td>The life and struggles of a notorious rock mus...</td>\n",
              "      <td>14.124</td>\n",
              "      <td>/btbp47CHXgLhw30kyDoVfNFLB3g.jpg</td>\n",
              "      <td>Meno Film Company</td>\n",
              "      <td>...</td>\n",
              "      <td>0</td>\n",
              "      <td>0</td>\n",
              "      <td>0</td>\n",
              "      <td>0</td>\n",
              "      <td>0</td>\n",
              "      <td>0</td>\n",
              "      <td>0</td>\n",
              "      <td>0</td>\n",
              "      <td>0</td>\n",
              "      <td>0</td>\n",
              "    </tr>\n",
              "  </tbody>\n",
              "</table>\n",
              "<p>2 rows × 131 columns</p>\n",
              "</div>\n",
              "    <div class=\"colab-df-buttons\">\n",
              "\n",
              "  <div class=\"colab-df-container\">\n",
              "    <button class=\"colab-df-convert\" onclick=\"convertToInteractive('df-1395c4d4-2085-4c24-b4e9-3dcdcd6c8c7d')\"\n",
              "            title=\"Convert this dataframe to an interactive table.\"\n",
              "            style=\"display:none;\">\n",
              "\n",
              "  <svg xmlns=\"http://www.w3.org/2000/svg\" height=\"24px\" viewBox=\"0 -960 960 960\">\n",
              "    <path d=\"M120-120v-720h720v720H120Zm60-500h600v-160H180v160Zm220 220h160v-160H400v160Zm0 220h160v-160H400v160ZM180-400h160v-160H180v160Zm440 0h160v-160H620v160ZM180-180h160v-160H180v160Zm440 0h160v-160H620v160Z\"/>\n",
              "  </svg>\n",
              "    </button>\n",
              "\n",
              "  <style>\n",
              "    .colab-df-container {\n",
              "      display:flex;\n",
              "      gap: 12px;\n",
              "    }\n",
              "\n",
              "    .colab-df-convert {\n",
              "      background-color: #E8F0FE;\n",
              "      border: none;\n",
              "      border-radius: 50%;\n",
              "      cursor: pointer;\n",
              "      display: none;\n",
              "      fill: #1967D2;\n",
              "      height: 32px;\n",
              "      padding: 0 0 0 0;\n",
              "      width: 32px;\n",
              "    }\n",
              "\n",
              "    .colab-df-convert:hover {\n",
              "      background-color: #E2EBFA;\n",
              "      box-shadow: 0px 1px 2px rgba(60, 64, 67, 0.3), 0px 1px 3px 1px rgba(60, 64, 67, 0.15);\n",
              "      fill: #174EA6;\n",
              "    }\n",
              "\n",
              "    .colab-df-buttons div {\n",
              "      margin-bottom: 4px;\n",
              "    }\n",
              "\n",
              "    [theme=dark] .colab-df-convert {\n",
              "      background-color: #3B4455;\n",
              "      fill: #D2E3FC;\n",
              "    }\n",
              "\n",
              "    [theme=dark] .colab-df-convert:hover {\n",
              "      background-color: #434B5C;\n",
              "      box-shadow: 0px 1px 3px 1px rgba(0, 0, 0, 0.15);\n",
              "      filter: drop-shadow(0px 1px 2px rgba(0, 0, 0, 0.3));\n",
              "      fill: #FFFFFF;\n",
              "    }\n",
              "  </style>\n",
              "\n",
              "    <script>\n",
              "      const buttonEl =\n",
              "        document.querySelector('#df-1395c4d4-2085-4c24-b4e9-3dcdcd6c8c7d button.colab-df-convert');\n",
              "      buttonEl.style.display =\n",
              "        google.colab.kernel.accessAllowed ? 'block' : 'none';\n",
              "\n",
              "      async function convertToInteractive(key) {\n",
              "        const element = document.querySelector('#df-1395c4d4-2085-4c24-b4e9-3dcdcd6c8c7d');\n",
              "        const dataTable =\n",
              "          await google.colab.kernel.invokeFunction('convertToInteractive',\n",
              "                                                    [key], {});\n",
              "        if (!dataTable) return;\n",
              "\n",
              "        const docLinkHtml = 'Like what you see? Visit the ' +\n",
              "          '<a target=\"_blank\" href=https://colab.research.google.com/notebooks/data_table.ipynb>data table notebook</a>'\n",
              "          + ' to learn more about interactive tables.';\n",
              "        element.innerHTML = '';\n",
              "        dataTable['output_type'] = 'display_data';\n",
              "        await google.colab.output.renderOutput(dataTable, element);\n",
              "        const docLink = document.createElement('div');\n",
              "        docLink.innerHTML = docLinkHtml;\n",
              "        element.appendChild(docLink);\n",
              "      }\n",
              "    </script>\n",
              "  </div>\n",
              "\n",
              "\n",
              "<div id=\"df-2a4cfd11-7c29-45a6-8712-26e008fe2006\">\n",
              "  <button class=\"colab-df-quickchart\" onclick=\"quickchart('df-2a4cfd11-7c29-45a6-8712-26e008fe2006')\"\n",
              "            title=\"Suggest charts\"\n",
              "            style=\"display:none;\">\n",
              "\n",
              "<svg xmlns=\"http://www.w3.org/2000/svg\" height=\"24px\"viewBox=\"0 0 24 24\"\n",
              "     width=\"24px\">\n",
              "    <g>\n",
              "        <path d=\"M19 3H5c-1.1 0-2 .9-2 2v14c0 1.1.9 2 2 2h14c1.1 0 2-.9 2-2V5c0-1.1-.9-2-2-2zM9 17H7v-7h2v7zm4 0h-2V7h2v10zm4 0h-2v-4h2v4z\"/>\n",
              "    </g>\n",
              "</svg>\n",
              "  </button>\n",
              "\n",
              "<style>\n",
              "  .colab-df-quickchart {\n",
              "      --bg-color: #E8F0FE;\n",
              "      --fill-color: #1967D2;\n",
              "      --hover-bg-color: #E2EBFA;\n",
              "      --hover-fill-color: #174EA6;\n",
              "      --disabled-fill-color: #AAA;\n",
              "      --disabled-bg-color: #DDD;\n",
              "  }\n",
              "\n",
              "  [theme=dark] .colab-df-quickchart {\n",
              "      --bg-color: #3B4455;\n",
              "      --fill-color: #D2E3FC;\n",
              "      --hover-bg-color: #434B5C;\n",
              "      --hover-fill-color: #FFFFFF;\n",
              "      --disabled-bg-color: #3B4455;\n",
              "      --disabled-fill-color: #666;\n",
              "  }\n",
              "\n",
              "  .colab-df-quickchart {\n",
              "    background-color: var(--bg-color);\n",
              "    border: none;\n",
              "    border-radius: 50%;\n",
              "    cursor: pointer;\n",
              "    display: none;\n",
              "    fill: var(--fill-color);\n",
              "    height: 32px;\n",
              "    padding: 0;\n",
              "    width: 32px;\n",
              "  }\n",
              "\n",
              "  .colab-df-quickchart:hover {\n",
              "    background-color: var(--hover-bg-color);\n",
              "    box-shadow: 0 1px 2px rgba(60, 64, 67, 0.3), 0 1px 3px 1px rgba(60, 64, 67, 0.15);\n",
              "    fill: var(--button-hover-fill-color);\n",
              "  }\n",
              "\n",
              "  .colab-df-quickchart-complete:disabled,\n",
              "  .colab-df-quickchart-complete:disabled:hover {\n",
              "    background-color: var(--disabled-bg-color);\n",
              "    fill: var(--disabled-fill-color);\n",
              "    box-shadow: none;\n",
              "  }\n",
              "\n",
              "  .colab-df-spinner {\n",
              "    border: 2px solid var(--fill-color);\n",
              "    border-color: transparent;\n",
              "    border-bottom-color: var(--fill-color);\n",
              "    animation:\n",
              "      spin 1s steps(1) infinite;\n",
              "  }\n",
              "\n",
              "  @keyframes spin {\n",
              "    0% {\n",
              "      border-color: transparent;\n",
              "      border-bottom-color: var(--fill-color);\n",
              "      border-left-color: var(--fill-color);\n",
              "    }\n",
              "    20% {\n",
              "      border-color: transparent;\n",
              "      border-left-color: var(--fill-color);\n",
              "      border-top-color: var(--fill-color);\n",
              "    }\n",
              "    30% {\n",
              "      border-color: transparent;\n",
              "      border-left-color: var(--fill-color);\n",
              "      border-top-color: var(--fill-color);\n",
              "      border-right-color: var(--fill-color);\n",
              "    }\n",
              "    40% {\n",
              "      border-color: transparent;\n",
              "      border-right-color: var(--fill-color);\n",
              "      border-top-color: var(--fill-color);\n",
              "    }\n",
              "    60% {\n",
              "      border-color: transparent;\n",
              "      border-right-color: var(--fill-color);\n",
              "    }\n",
              "    80% {\n",
              "      border-color: transparent;\n",
              "      border-right-color: var(--fill-color);\n",
              "      border-bottom-color: var(--fill-color);\n",
              "    }\n",
              "    90% {\n",
              "      border-color: transparent;\n",
              "      border-bottom-color: var(--fill-color);\n",
              "    }\n",
              "  }\n",
              "</style>\n",
              "\n",
              "  <script>\n",
              "    async function quickchart(key) {\n",
              "      const quickchartButtonEl =\n",
              "        document.querySelector('#' + key + ' button');\n",
              "      quickchartButtonEl.disabled = true;  // To prevent multiple clicks.\n",
              "      quickchartButtonEl.classList.add('colab-df-spinner');\n",
              "      try {\n",
              "        const charts = await google.colab.kernel.invokeFunction(\n",
              "            'suggestCharts', [key], {});\n",
              "      } catch (error) {\n",
              "        console.error('Error during call to suggestCharts:', error);\n",
              "      }\n",
              "      quickchartButtonEl.classList.remove('colab-df-spinner');\n",
              "      quickchartButtonEl.classList.add('colab-df-quickchart-complete');\n",
              "    }\n",
              "    (() => {\n",
              "      let quickchartButtonEl =\n",
              "        document.querySelector('#df-2a4cfd11-7c29-45a6-8712-26e008fe2006 button');\n",
              "      quickchartButtonEl.style.display =\n",
              "        google.colab.kernel.accessAllowed ? 'block' : 'none';\n",
              "    })();\n",
              "  </script>\n",
              "</div>\n",
              "\n",
              "    </div>\n",
              "  </div>\n"
            ],
            "application/vnd.google.colaboratory.intrinsic+json": {
              "type": "dataframe"
            }
          },
          "metadata": {},
          "execution_count": 28
        }
      ]
    },
    {
      "cell_type": "code",
      "source": [
        "df_test.shape"
      ],
      "metadata": {
        "colab": {
          "base_uri": "https://localhost:8080/"
        },
        "id": "PswqgYyz0VKz",
        "outputId": "f0fb3b28-69ba-43c0-b0a7-d555e3c160ec"
      },
      "execution_count": 29,
      "outputs": [
        {
          "output_type": "execute_result",
          "data": {
            "text/plain": [
              "(1003, 131)"
            ]
          },
          "metadata": {},
          "execution_count": 29
        }
      ]
    },
    {
      "cell_type": "code",
      "source": [
        "df_test.info()"
      ],
      "metadata": {
        "colab": {
          "base_uri": "https://localhost:8080/"
        },
        "id": "0D_TSIhR0VNq",
        "outputId": "5dc3ceac-a9ce-42e0-acfd-3fe245f43c10"
      },
      "execution_count": 30,
      "outputs": [
        {
          "output_type": "stream",
          "name": "stdout",
          "text": [
            "<class 'pandas.core.frame.DataFrame'>\n",
            "RangeIndex: 1003 entries, 0 to 1002\n",
            "Columns: 131 entries, movie_id to Family\n",
            "dtypes: float64(1), int64(119), object(11)\n",
            "memory usage: 1.0+ MB\n"
          ]
        }
      ]
    },
    {
      "cell_type": "code",
      "source": [
        "df_test.columns"
      ],
      "metadata": {
        "colab": {
          "base_uri": "https://localhost:8080/"
        },
        "id": "my5tyFAO0bJD",
        "outputId": "3b4a660d-ec1f-4b68-8442-7446add6564f"
      },
      "execution_count": 31,
      "outputs": [
        {
          "output_type": "execute_result",
          "data": {
            "text/plain": [
              "Index(['movie_id', 'budget', 'movie_url', 'imdb_id', 'original_language',\n",
              "       'movie_title', 'overview', 'popularity', 'poster_path',\n",
              "       'production_companies',\n",
              "       ...\n",
              "       'Comedy', 'Crime', 'Mystery', 'Western', 'Documentary', 'War', 'Action',\n",
              "       'Thriller', 'Fantasy', 'Family'],\n",
              "      dtype='object', length=131)"
            ]
          },
          "metadata": {},
          "execution_count": 31
        }
      ]
    },
    {
      "cell_type": "code",
      "source": [
        "# first_row_dict_test = df_test.iloc[0].to_dict()\n",
        "# first_row_dict_test"
      ],
      "metadata": {
        "id": "mnSImLDB00PI"
      },
      "execution_count": 32,
      "outputs": []
    },
    {
      "cell_type": "code",
      "source": [
        "# df_test.shape"
      ],
      "metadata": {
        "id": "Yz1ZUyys0bLt"
      },
      "execution_count": 33,
      "outputs": []
    },
    {
      "cell_type": "code",
      "source": [
        "# # train data - shape\n",
        "# df.shape"
      ],
      "metadata": {
        "id": "7Y96ewwv0bOg"
      },
      "execution_count": 34,
      "outputs": []
    },
    {
      "cell_type": "code",
      "source": [
        "import seaborn as sns\n",
        "import matplotlib.pyplot as plt"
      ],
      "metadata": {
        "id": "29YLsAadXUsx"
      },
      "execution_count": 35,
      "outputs": []
    },
    {
      "cell_type": "code",
      "source": [
        "# Initial Plot of Budget vs. Revenue:\n",
        "\n",
        "# Before training the model, we plot the budget against revenue to visualize the initial relationship."
      ],
      "metadata": {
        "id": "6wXP-mQYddDZ"
      },
      "execution_count": 36,
      "outputs": []
    },
    {
      "cell_type": "code",
      "source": [
        "# PyCaret Setup:\n",
        "\n",
        "# We initialize the PyCaret environment with the dataset, specifying revenue as the target variable.\n",
        "# Irrelevant columns are ignored during modeling."
      ],
      "metadata": {
        "id": "YfHVRJhiXTUQ"
      },
      "execution_count": 37,
      "outputs": []
    },
    {
      "cell_type": "code",
      "source": [
        "# Setup the PyCaret environment for regression\n",
        "# We will ignore irrelevant columns and keep essential features\n",
        "reg = setup(\n",
        "    data=df,  # The dataset you are working with\n",
        "    target='revenue',  # The target column name (the column you want to predict)\n",
        "    # train_size=0.8,  # Proportion of the dataset to be used for training (80% here)\n",
        "    normalize=True,  # Normalize the data (scale features to have mean 0 and variance 1)\n",
        "    numeric_imputation='mean',  # Impute missing values in numeric features with the mean\n",
        "    remove_outliers = True,\n",
        "    outliers_threshold = 0.05,\n",
        "    categorical_imputation = 'mode',\n",
        "    ignore_features=[\n",
        "        'movie_url', 'title', 'tagline',\n",
        "        'poster_path'    ],  # Ignore these features during modeling\n",
        "    session_id=111  # Seed for reproducibility\n",
        ")"
      ],
      "metadata": {
        "colab": {
          "base_uri": "https://localhost:8080/",
          "height": 896
        },
        "id": "rjMxi7jzSUNh",
        "outputId": "3280df7a-11b5-4cbf-cfa5-96a2594dda53"
      },
      "execution_count": 120,
      "outputs": [
        {
          "output_type": "display_data",
          "data": {
            "text/plain": [
              "<pandas.io.formats.style.Styler at 0x7ea884487370>"
            ],
            "text/html": [
              "<style type=\"text/css\">\n",
              "#T_10a3a_row10_col1, #T_10a3a_row16_col1, #T_10a3a_row18_col1 {\n",
              "  background-color: lightgreen;\n",
              "}\n",
              "</style>\n",
              "<table id=\"T_10a3a\" class=\"dataframe\">\n",
              "  <thead>\n",
              "    <tr>\n",
              "      <th class=\"blank level0\" >&nbsp;</th>\n",
              "      <th id=\"T_10a3a_level0_col0\" class=\"col_heading level0 col0\" >Description</th>\n",
              "      <th id=\"T_10a3a_level0_col1\" class=\"col_heading level0 col1\" >Value</th>\n",
              "    </tr>\n",
              "  </thead>\n",
              "  <tbody>\n",
              "    <tr>\n",
              "      <th id=\"T_10a3a_level0_row0\" class=\"row_heading level0 row0\" >0</th>\n",
              "      <td id=\"T_10a3a_row0_col0\" class=\"data row0 col0\" >Session id</td>\n",
              "      <td id=\"T_10a3a_row0_col1\" class=\"data row0 col1\" >111</td>\n",
              "    </tr>\n",
              "    <tr>\n",
              "      <th id=\"T_10a3a_level0_row1\" class=\"row_heading level0 row1\" >1</th>\n",
              "      <td id=\"T_10a3a_row1_col0\" class=\"data row1 col0\" >Target</td>\n",
              "      <td id=\"T_10a3a_row1_col1\" class=\"data row1 col1\" >revenue</td>\n",
              "    </tr>\n",
              "    <tr>\n",
              "      <th id=\"T_10a3a_level0_row2\" class=\"row_heading level0 row2\" >2</th>\n",
              "      <td id=\"T_10a3a_row2_col0\" class=\"data row2 col0\" >Target type</td>\n",
              "      <td id=\"T_10a3a_row2_col1\" class=\"data row2 col1\" >Regression</td>\n",
              "    </tr>\n",
              "    <tr>\n",
              "      <th id=\"T_10a3a_level0_row3\" class=\"row_heading level0 row3\" >3</th>\n",
              "      <td id=\"T_10a3a_row3_col0\" class=\"data row3 col0\" >Original data shape</td>\n",
              "      <td id=\"T_10a3a_row3_col1\" class=\"data row3 col1\" >(3973, 169)</td>\n",
              "    </tr>\n",
              "    <tr>\n",
              "      <th id=\"T_10a3a_level0_row4\" class=\"row_heading level0 row4\" >4</th>\n",
              "      <td id=\"T_10a3a_row4_col0\" class=\"data row4 col0\" >Transformed data shape</td>\n",
              "      <td id=\"T_10a3a_row4_col1\" class=\"data row4 col1\" >(3834, 165)</td>\n",
              "    </tr>\n",
              "    <tr>\n",
              "      <th id=\"T_10a3a_level0_row5\" class=\"row_heading level0 row5\" >5</th>\n",
              "      <td id=\"T_10a3a_row5_col0\" class=\"data row5 col0\" >Transformed train set shape</td>\n",
              "      <td id=\"T_10a3a_row5_col1\" class=\"data row5 col1\" >(2642, 165)</td>\n",
              "    </tr>\n",
              "    <tr>\n",
              "      <th id=\"T_10a3a_level0_row6\" class=\"row_heading level0 row6\" >6</th>\n",
              "      <td id=\"T_10a3a_row6_col0\" class=\"data row6 col0\" >Transformed test set shape</td>\n",
              "      <td id=\"T_10a3a_row6_col1\" class=\"data row6 col1\" >(1192, 165)</td>\n",
              "    </tr>\n",
              "    <tr>\n",
              "      <th id=\"T_10a3a_level0_row7\" class=\"row_heading level0 row7\" >7</th>\n",
              "      <td id=\"T_10a3a_row7_col0\" class=\"data row7 col0\" >Ignore features</td>\n",
              "      <td id=\"T_10a3a_row7_col1\" class=\"data row7 col1\" >4</td>\n",
              "    </tr>\n",
              "    <tr>\n",
              "      <th id=\"T_10a3a_level0_row8\" class=\"row_heading level0 row8\" >8</th>\n",
              "      <td id=\"T_10a3a_row8_col0\" class=\"data row8 col0\" >Numeric features</td>\n",
              "      <td id=\"T_10a3a_row8_col1\" class=\"data row8 col1\" >157</td>\n",
              "    </tr>\n",
              "    <tr>\n",
              "      <th id=\"T_10a3a_level0_row9\" class=\"row_heading level0 row9\" >9</th>\n",
              "      <td id=\"T_10a3a_row9_col0\" class=\"data row9 col0\" >Categorical features</td>\n",
              "      <td id=\"T_10a3a_row9_col1\" class=\"data row9 col1\" >7</td>\n",
              "    </tr>\n",
              "    <tr>\n",
              "      <th id=\"T_10a3a_level0_row10\" class=\"row_heading level0 row10\" >10</th>\n",
              "      <td id=\"T_10a3a_row10_col0\" class=\"data row10 col0\" >Preprocess</td>\n",
              "      <td id=\"T_10a3a_row10_col1\" class=\"data row10 col1\" >True</td>\n",
              "    </tr>\n",
              "    <tr>\n",
              "      <th id=\"T_10a3a_level0_row11\" class=\"row_heading level0 row11\" >11</th>\n",
              "      <td id=\"T_10a3a_row11_col0\" class=\"data row11 col0\" >Imputation type</td>\n",
              "      <td id=\"T_10a3a_row11_col1\" class=\"data row11 col1\" >simple</td>\n",
              "    </tr>\n",
              "    <tr>\n",
              "      <th id=\"T_10a3a_level0_row12\" class=\"row_heading level0 row12\" >12</th>\n",
              "      <td id=\"T_10a3a_row12_col0\" class=\"data row12 col0\" >Numeric imputation</td>\n",
              "      <td id=\"T_10a3a_row12_col1\" class=\"data row12 col1\" >mean</td>\n",
              "    </tr>\n",
              "    <tr>\n",
              "      <th id=\"T_10a3a_level0_row13\" class=\"row_heading level0 row13\" >13</th>\n",
              "      <td id=\"T_10a3a_row13_col0\" class=\"data row13 col0\" >Categorical imputation</td>\n",
              "      <td id=\"T_10a3a_row13_col1\" class=\"data row13 col1\" >mode</td>\n",
              "    </tr>\n",
              "    <tr>\n",
              "      <th id=\"T_10a3a_level0_row14\" class=\"row_heading level0 row14\" >14</th>\n",
              "      <td id=\"T_10a3a_row14_col0\" class=\"data row14 col0\" >Maximum one-hot encoding</td>\n",
              "      <td id=\"T_10a3a_row14_col1\" class=\"data row14 col1\" >25</td>\n",
              "    </tr>\n",
              "    <tr>\n",
              "      <th id=\"T_10a3a_level0_row15\" class=\"row_heading level0 row15\" >15</th>\n",
              "      <td id=\"T_10a3a_row15_col0\" class=\"data row15 col0\" >Encoding method</td>\n",
              "      <td id=\"T_10a3a_row15_col1\" class=\"data row15 col1\" >None</td>\n",
              "    </tr>\n",
              "    <tr>\n",
              "      <th id=\"T_10a3a_level0_row16\" class=\"row_heading level0 row16\" >16</th>\n",
              "      <td id=\"T_10a3a_row16_col0\" class=\"data row16 col0\" >Remove outliers</td>\n",
              "      <td id=\"T_10a3a_row16_col1\" class=\"data row16 col1\" >True</td>\n",
              "    </tr>\n",
              "    <tr>\n",
              "      <th id=\"T_10a3a_level0_row17\" class=\"row_heading level0 row17\" >17</th>\n",
              "      <td id=\"T_10a3a_row17_col0\" class=\"data row17 col0\" >Outliers threshold</td>\n",
              "      <td id=\"T_10a3a_row17_col1\" class=\"data row17 col1\" >0.050000</td>\n",
              "    </tr>\n",
              "    <tr>\n",
              "      <th id=\"T_10a3a_level0_row18\" class=\"row_heading level0 row18\" >18</th>\n",
              "      <td id=\"T_10a3a_row18_col0\" class=\"data row18 col0\" >Normalize</td>\n",
              "      <td id=\"T_10a3a_row18_col1\" class=\"data row18 col1\" >True</td>\n",
              "    </tr>\n",
              "    <tr>\n",
              "      <th id=\"T_10a3a_level0_row19\" class=\"row_heading level0 row19\" >19</th>\n",
              "      <td id=\"T_10a3a_row19_col0\" class=\"data row19 col0\" >Normalize method</td>\n",
              "      <td id=\"T_10a3a_row19_col1\" class=\"data row19 col1\" >zscore</td>\n",
              "    </tr>\n",
              "    <tr>\n",
              "      <th id=\"T_10a3a_level0_row20\" class=\"row_heading level0 row20\" >20</th>\n",
              "      <td id=\"T_10a3a_row20_col0\" class=\"data row20 col0\" >Fold Generator</td>\n",
              "      <td id=\"T_10a3a_row20_col1\" class=\"data row20 col1\" >KFold</td>\n",
              "    </tr>\n",
              "    <tr>\n",
              "      <th id=\"T_10a3a_level0_row21\" class=\"row_heading level0 row21\" >21</th>\n",
              "      <td id=\"T_10a3a_row21_col0\" class=\"data row21 col0\" >Fold Number</td>\n",
              "      <td id=\"T_10a3a_row21_col1\" class=\"data row21 col1\" >10</td>\n",
              "    </tr>\n",
              "    <tr>\n",
              "      <th id=\"T_10a3a_level0_row22\" class=\"row_heading level0 row22\" >22</th>\n",
              "      <td id=\"T_10a3a_row22_col0\" class=\"data row22 col0\" >CPU Jobs</td>\n",
              "      <td id=\"T_10a3a_row22_col1\" class=\"data row22 col1\" >-1</td>\n",
              "    </tr>\n",
              "    <tr>\n",
              "      <th id=\"T_10a3a_level0_row23\" class=\"row_heading level0 row23\" >23</th>\n",
              "      <td id=\"T_10a3a_row23_col0\" class=\"data row23 col0\" >Use GPU</td>\n",
              "      <td id=\"T_10a3a_row23_col1\" class=\"data row23 col1\" >False</td>\n",
              "    </tr>\n",
              "    <tr>\n",
              "      <th id=\"T_10a3a_level0_row24\" class=\"row_heading level0 row24\" >24</th>\n",
              "      <td id=\"T_10a3a_row24_col0\" class=\"data row24 col0\" >Log Experiment</td>\n",
              "      <td id=\"T_10a3a_row24_col1\" class=\"data row24 col1\" >False</td>\n",
              "    </tr>\n",
              "    <tr>\n",
              "      <th id=\"T_10a3a_level0_row25\" class=\"row_heading level0 row25\" >25</th>\n",
              "      <td id=\"T_10a3a_row25_col0\" class=\"data row25 col0\" >Experiment Name</td>\n",
              "      <td id=\"T_10a3a_row25_col1\" class=\"data row25 col1\" >reg-default-name</td>\n",
              "    </tr>\n",
              "    <tr>\n",
              "      <th id=\"T_10a3a_level0_row26\" class=\"row_heading level0 row26\" >26</th>\n",
              "      <td id=\"T_10a3a_row26_col0\" class=\"data row26 col0\" >USI</td>\n",
              "      <td id=\"T_10a3a_row26_col1\" class=\"data row26 col1\" >5a3c</td>\n",
              "    </tr>\n",
              "  </tbody>\n",
              "</table>\n"
            ]
          },
          "metadata": {}
        }
      ]
    },
    {
      "cell_type": "code",
      "source": [
        "# Model Comparison:\n",
        "\n",
        "# We use compare_models() to find the top 5 models based on the default R2 metric.\n",
        "# We print the names of these models."
      ],
      "metadata": {
        "id": "c0UWIFxkSUP4"
      },
      "execution_count": 121,
      "outputs": []
    },
    {
      "cell_type": "code",
      "source": [
        "# Compare models to find the best ones based on \"R2\" (default metric)\n",
        "\n",
        "# You can change the metric by specifying `compare_models(sort='MAE')` for Mean Absolute Error, etc.\n",
        "best_models = compare_models(n_select=10)\n",
        "              # (\n",
        "              #     n_select=10\n",
        "              #         # fold=5,  # Use 5-fold cross-validation\n",
        "              #         # round=2,  # Round the metrics to 2 decimal places\n",
        "              #         # cross_validation=True  # Enable cross-validation\n",
        "              # )"
      ],
      "metadata": {
        "colab": {
          "base_uri": "https://localhost:8080/",
          "height": 1000,
          "referenced_widgets": [
            "63f0770cbc9f4bb1aae3691bd45bf5ae",
            "a80257be46044cc898077f03469ad49d",
            "6af7f08157614327818051c50550acc2",
            "4d68f980f01a4361a31532412ec9da90",
            "6f74a1ef3f8b40a399b0c7fab696921e",
            "98686ac4cae44db8bf37088490fd5060",
            "b0d2c3f7f2d54bd7ac0259de1c860230",
            "726917ff15d04ce2a6fc1d7e519efe57",
            "378c2c97721d4b658c5476d7aa8fa270",
            "029da7bb5e0643d1827b1909d302724c",
            "2cb4057a14e94396931b360f24e6da2b"
          ]
        },
        "id": "2jIBiOMZSUR4",
        "outputId": "fc29c4b4-6408-4e61-d594-9f8b91ff4741"
      },
      "execution_count": 122,
      "outputs": [
        {
          "output_type": "display_data",
          "data": {
            "text/plain": [
              "<IPython.core.display.HTML object>"
            ],
            "text/html": []
          },
          "metadata": {}
        },
        {
          "output_type": "display_data",
          "data": {
            "text/plain": [
              "<pandas.io.formats.style.Styler at 0x7ea867398e20>"
            ],
            "text/html": [
              "<style type=\"text/css\">\n",
              "#T_522cb th {\n",
              "  text-align: left;\n",
              "}\n",
              "#T_522cb_row0_col0, #T_522cb_row0_col6, #T_522cb_row1_col0, #T_522cb_row1_col1, #T_522cb_row1_col2, #T_522cb_row1_col3, #T_522cb_row1_col4, #T_522cb_row1_col5, #T_522cb_row1_col6, #T_522cb_row2_col0, #T_522cb_row2_col1, #T_522cb_row2_col2, #T_522cb_row2_col3, #T_522cb_row2_col4, #T_522cb_row2_col5, #T_522cb_row2_col6, #T_522cb_row3_col0, #T_522cb_row3_col1, #T_522cb_row3_col2, #T_522cb_row3_col3, #T_522cb_row3_col4, #T_522cb_row3_col5, #T_522cb_row3_col6, #T_522cb_row4_col0, #T_522cb_row4_col1, #T_522cb_row4_col2, #T_522cb_row4_col3, #T_522cb_row4_col4, #T_522cb_row4_col5, #T_522cb_row4_col6, #T_522cb_row5_col0, #T_522cb_row5_col1, #T_522cb_row5_col2, #T_522cb_row5_col3, #T_522cb_row5_col4, #T_522cb_row5_col5, #T_522cb_row5_col6, #T_522cb_row6_col0, #T_522cb_row6_col1, #T_522cb_row6_col2, #T_522cb_row6_col3, #T_522cb_row6_col4, #T_522cb_row6_col5, #T_522cb_row6_col6, #T_522cb_row7_col0, #T_522cb_row7_col1, #T_522cb_row7_col2, #T_522cb_row7_col3, #T_522cb_row7_col4, #T_522cb_row7_col5, #T_522cb_row7_col6, #T_522cb_row8_col0, #T_522cb_row8_col1, #T_522cb_row8_col2, #T_522cb_row8_col3, #T_522cb_row8_col4, #T_522cb_row8_col5, #T_522cb_row8_col6, #T_522cb_row9_col0, #T_522cb_row9_col1, #T_522cb_row9_col2, #T_522cb_row9_col3, #T_522cb_row9_col4, #T_522cb_row9_col5, #T_522cb_row9_col6, #T_522cb_row10_col0, #T_522cb_row10_col1, #T_522cb_row10_col2, #T_522cb_row10_col3, #T_522cb_row10_col4, #T_522cb_row10_col5, #T_522cb_row10_col6, #T_522cb_row11_col0, #T_522cb_row11_col1, #T_522cb_row11_col2, #T_522cb_row11_col3, #T_522cb_row11_col4, #T_522cb_row11_col5, #T_522cb_row11_col6, #T_522cb_row12_col0, #T_522cb_row12_col1, #T_522cb_row12_col2, #T_522cb_row12_col3, #T_522cb_row12_col4, #T_522cb_row12_col5, #T_522cb_row12_col6, #T_522cb_row13_col0, #T_522cb_row13_col1, #T_522cb_row13_col2, #T_522cb_row13_col3, #T_522cb_row13_col4, #T_522cb_row13_col5, #T_522cb_row13_col6, #T_522cb_row14_col0, #T_522cb_row14_col1, #T_522cb_row14_col2, #T_522cb_row14_col3, #T_522cb_row14_col4, #T_522cb_row14_col5, #T_522cb_row14_col6, #T_522cb_row15_col0, #T_522cb_row15_col1, #T_522cb_row15_col2, #T_522cb_row15_col3, #T_522cb_row15_col4, #T_522cb_row15_col5, #T_522cb_row15_col6, #T_522cb_row16_col0, #T_522cb_row16_col1, #T_522cb_row16_col2, #T_522cb_row16_col3, #T_522cb_row16_col4, #T_522cb_row16_col5, #T_522cb_row17_col0, #T_522cb_row17_col1, #T_522cb_row17_col2, #T_522cb_row17_col3, #T_522cb_row17_col4, #T_522cb_row17_col5, #T_522cb_row17_col6, #T_522cb_row18_col0, #T_522cb_row18_col1, #T_522cb_row18_col2, #T_522cb_row18_col3, #T_522cb_row18_col4, #T_522cb_row18_col5, #T_522cb_row18_col6 {\n",
              "  text-align: left;\n",
              "}\n",
              "#T_522cb_row0_col1, #T_522cb_row0_col2, #T_522cb_row0_col3, #T_522cb_row0_col4, #T_522cb_row0_col5, #T_522cb_row16_col6 {\n",
              "  text-align: left;\n",
              "  background-color: yellow;\n",
              "}\n",
              "#T_522cb_row0_col7, #T_522cb_row1_col7, #T_522cb_row2_col7, #T_522cb_row3_col7, #T_522cb_row4_col7, #T_522cb_row5_col7, #T_522cb_row7_col7, #T_522cb_row8_col7, #T_522cb_row9_col7, #T_522cb_row10_col7, #T_522cb_row11_col7, #T_522cb_row12_col7, #T_522cb_row13_col7, #T_522cb_row14_col7, #T_522cb_row15_col7, #T_522cb_row16_col7, #T_522cb_row17_col7, #T_522cb_row18_col7 {\n",
              "  text-align: left;\n",
              "  background-color: lightgrey;\n",
              "}\n",
              "#T_522cb_row6_col7 {\n",
              "  text-align: left;\n",
              "  background-color: yellow;\n",
              "  background-color: lightgrey;\n",
              "}\n",
              "</style>\n",
              "<table id=\"T_522cb\" class=\"dataframe\">\n",
              "  <thead>\n",
              "    <tr>\n",
              "      <th class=\"blank level0\" >&nbsp;</th>\n",
              "      <th id=\"T_522cb_level0_col0\" class=\"col_heading level0 col0\" >Model</th>\n",
              "      <th id=\"T_522cb_level0_col1\" class=\"col_heading level0 col1\" >MAE</th>\n",
              "      <th id=\"T_522cb_level0_col2\" class=\"col_heading level0 col2\" >MSE</th>\n",
              "      <th id=\"T_522cb_level0_col3\" class=\"col_heading level0 col3\" >RMSE</th>\n",
              "      <th id=\"T_522cb_level0_col4\" class=\"col_heading level0 col4\" >R2</th>\n",
              "      <th id=\"T_522cb_level0_col5\" class=\"col_heading level0 col5\" >RMSLE</th>\n",
              "      <th id=\"T_522cb_level0_col6\" class=\"col_heading level0 col6\" >MAPE</th>\n",
              "      <th id=\"T_522cb_level0_col7\" class=\"col_heading level0 col7\" >TT (Sec)</th>\n",
              "    </tr>\n",
              "  </thead>\n",
              "  <tbody>\n",
              "    <tr>\n",
              "      <th id=\"T_522cb_level0_row0\" class=\"row_heading level0 row0\" >knn</th>\n",
              "      <td id=\"T_522cb_row0_col0\" class=\"data row0 col0\" >K Neighbors Regressor</td>\n",
              "      <td id=\"T_522cb_row0_col1\" class=\"data row0 col1\" >109961615.6878</td>\n",
              "      <td id=\"T_522cb_row0_col2\" class=\"data row0 col2\" >43199310615419584.0000</td>\n",
              "      <td id=\"T_522cb_row0_col3\" class=\"data row0 col3\" >204220467.4905</td>\n",
              "      <td id=\"T_522cb_row0_col4\" class=\"data row0 col4\" >0.1284</td>\n",
              "      <td id=\"T_522cb_row0_col5\" class=\"data row0 col5\" >1.9306</td>\n",
              "      <td id=\"T_522cb_row0_col6\" class=\"data row0 col6\" >33017.1301</td>\n",
              "      <td id=\"T_522cb_row0_col7\" class=\"data row0 col7\" >0.7270</td>\n",
              "    </tr>\n",
              "    <tr>\n",
              "      <th id=\"T_522cb_level0_row1\" class=\"row_heading level0 row1\" >huber</th>\n",
              "      <td id=\"T_522cb_row1_col0\" class=\"data row1 col0\" >Huber Regressor</td>\n",
              "      <td id=\"T_522cb_row1_col1\" class=\"data row1 col1\" >115923665.2203</td>\n",
              "      <td id=\"T_522cb_row1_col2\" class=\"data row1 col2\" >43520406805453136.0000</td>\n",
              "      <td id=\"T_522cb_row1_col3\" class=\"data row1 col3\" >205072352.9395</td>\n",
              "      <td id=\"T_522cb_row1_col4\" class=\"data row1 col4\" >0.1209</td>\n",
              "      <td id=\"T_522cb_row1_col5\" class=\"data row1 col5\" >2.0501</td>\n",
              "      <td id=\"T_522cb_row1_col6\" class=\"data row1 col6\" >45701.1815</td>\n",
              "      <td id=\"T_522cb_row1_col7\" class=\"data row1 col7\" >0.7180</td>\n",
              "    </tr>\n",
              "    <tr>\n",
              "      <th id=\"T_522cb_level0_row2\" class=\"row_heading level0 row2\" >en</th>\n",
              "      <td id=\"T_522cb_row2_col0\" class=\"data row2 col0\" >Elastic Net</td>\n",
              "      <td id=\"T_522cb_row2_col1\" class=\"data row2 col1\" >122275251.0988</td>\n",
              "      <td id=\"T_522cb_row2_col2\" class=\"data row2 col2\" >44621701172549200.0000</td>\n",
              "      <td id=\"T_522cb_row2_col3\" class=\"data row2 col3\" >207795866.4797</td>\n",
              "      <td id=\"T_522cb_row2_col4\" class=\"data row2 col4\" >0.0963</td>\n",
              "      <td id=\"T_522cb_row2_col5\" class=\"data row2 col5\" >2.1228</td>\n",
              "      <td id=\"T_522cb_row2_col6\" class=\"data row2 col6\" >50363.9914</td>\n",
              "      <td id=\"T_522cb_row2_col7\" class=\"data row2 col7\" >0.8640</td>\n",
              "    </tr>\n",
              "    <tr>\n",
              "      <th id=\"T_522cb_level0_row3\" class=\"row_heading level0 row3\" >et</th>\n",
              "      <td id=\"T_522cb_row3_col0\" class=\"data row3 col0\" >Extra Trees Regressor</td>\n",
              "      <td id=\"T_522cb_row3_col1\" class=\"data row3 col1\" >128610083.4230</td>\n",
              "      <td id=\"T_522cb_row3_col2\" class=\"data row3 col2\" >49319694268751352.0000</td>\n",
              "      <td id=\"T_522cb_row3_col3\" class=\"data row3 col3\" >218684802.1644</td>\n",
              "      <td id=\"T_522cb_row3_col4\" class=\"data row3 col4\" >-0.0025</td>\n",
              "      <td id=\"T_522cb_row3_col5\" class=\"data row3 col5\" >2.1659</td>\n",
              "      <td id=\"T_522cb_row3_col6\" class=\"data row3 col6\" >52768.5364</td>\n",
              "      <td id=\"T_522cb_row3_col7\" class=\"data row3 col7\" >3.5580</td>\n",
              "    </tr>\n",
              "    <tr>\n",
              "      <th id=\"T_522cb_level0_row4\" class=\"row_heading level0 row4\" >xgboost</th>\n",
              "      <td id=\"T_522cb_row4_col0\" class=\"data row4 col0\" >Extreme Gradient Boosting</td>\n",
              "      <td id=\"T_522cb_row4_col1\" class=\"data row4 col1\" >128474029.0330</td>\n",
              "      <td id=\"T_522cb_row4_col2\" class=\"data row4 col2\" >49341283999874728.0000</td>\n",
              "      <td id=\"T_522cb_row4_col3\" class=\"data row4 col3\" >218720345.2671</td>\n",
              "      <td id=\"T_522cb_row4_col4\" class=\"data row4 col4\" >-0.0027</td>\n",
              "      <td id=\"T_522cb_row4_col5\" class=\"data row4 col5\" >2.1643</td>\n",
              "      <td id=\"T_522cb_row4_col6\" class=\"data row4 col6\" >52749.4367</td>\n",
              "      <td id=\"T_522cb_row4_col7\" class=\"data row4 col7\" >1.2210</td>\n",
              "    </tr>\n",
              "    <tr>\n",
              "      <th id=\"T_522cb_level0_row5\" class=\"row_heading level0 row5\" >gbr</th>\n",
              "      <td id=\"T_522cb_row5_col0\" class=\"data row5 col0\" >Gradient Boosting Regressor</td>\n",
              "      <td id=\"T_522cb_row5_col1\" class=\"data row5 col1\" >128687960.1289</td>\n",
              "      <td id=\"T_522cb_row5_col2\" class=\"data row5 col2\" >49341865098741504.0000</td>\n",
              "      <td id=\"T_522cb_row5_col3\" class=\"data row5 col3\" >218736173.0372</td>\n",
              "      <td id=\"T_522cb_row5_col4\" class=\"data row5 col4\" >-0.0029</td>\n",
              "      <td id=\"T_522cb_row5_col5\" class=\"data row5 col5\" >2.1666</td>\n",
              "      <td id=\"T_522cb_row5_col6\" class=\"data row5 col6\" >52765.9638</td>\n",
              "      <td id=\"T_522cb_row5_col7\" class=\"data row5 col7\" >2.0240</td>\n",
              "    </tr>\n",
              "    <tr>\n",
              "      <th id=\"T_522cb_level0_row6\" class=\"row_heading level0 row6\" >ridge</th>\n",
              "      <td id=\"T_522cb_row6_col0\" class=\"data row6 col0\" >Ridge Regression</td>\n",
              "      <td id=\"T_522cb_row6_col1\" class=\"data row6 col1\" >128672594.7785</td>\n",
              "      <td id=\"T_522cb_row6_col2\" class=\"data row6 col2\" >49345292998324752.0000</td>\n",
              "      <td id=\"T_522cb_row6_col3\" class=\"data row6 col3\" >218743206.5589</td>\n",
              "      <td id=\"T_522cb_row6_col4\" class=\"data row6 col4\" >-0.0030</td>\n",
              "      <td id=\"T_522cb_row6_col5\" class=\"data row6 col5\" >2.1667</td>\n",
              "      <td id=\"T_522cb_row6_col6\" class=\"data row6 col6\" >52745.4430</td>\n",
              "      <td id=\"T_522cb_row6_col7\" class=\"data row6 col7\" >0.5530</td>\n",
              "    </tr>\n",
              "    <tr>\n",
              "      <th id=\"T_522cb_level0_row7\" class=\"row_heading level0 row7\" >lasso</th>\n",
              "      <td id=\"T_522cb_row7_col0\" class=\"data row7 col0\" >Lasso Regression</td>\n",
              "      <td id=\"T_522cb_row7_col1\" class=\"data row7 col1\" >128675409.4276</td>\n",
              "      <td id=\"T_522cb_row7_col2\" class=\"data row7 col2\" >49359897368265600.0000</td>\n",
              "      <td id=\"T_522cb_row7_col3\" class=\"data row7 col3\" >218775656.7667</td>\n",
              "      <td id=\"T_522cb_row7_col4\" class=\"data row7 col4\" >-0.0033</td>\n",
              "      <td id=\"T_522cb_row7_col5\" class=\"data row7 col5\" >2.1666</td>\n",
              "      <td id=\"T_522cb_row7_col6\" class=\"data row7 col6\" >52761.1249</td>\n",
              "      <td id=\"T_522cb_row7_col7\" class=\"data row7 col7\" >0.7070</td>\n",
              "    </tr>\n",
              "    <tr>\n",
              "      <th id=\"T_522cb_level0_row8\" class=\"row_heading level0 row8\" >omp</th>\n",
              "      <td id=\"T_522cb_row8_col0\" class=\"data row8 col0\" >Orthogonal Matching Pursuit</td>\n",
              "      <td id=\"T_522cb_row8_col1\" class=\"data row8 col1\" >128680724.6971</td>\n",
              "      <td id=\"T_522cb_row8_col2\" class=\"data row8 col2\" >49365403849605104.0000</td>\n",
              "      <td id=\"T_522cb_row8_col3\" class=\"data row8 col3\" >218787601.0017</td>\n",
              "      <td id=\"T_522cb_row8_col4\" class=\"data row8 col4\" >-0.0034</td>\n",
              "      <td id=\"T_522cb_row8_col5\" class=\"data row8 col5\" >2.1666</td>\n",
              "      <td id=\"T_522cb_row8_col6\" class=\"data row8 col6\" >52762.5922</td>\n",
              "      <td id=\"T_522cb_row8_col7\" class=\"data row8 col7\" >0.5550</td>\n",
              "    </tr>\n",
              "    <tr>\n",
              "      <th id=\"T_522cb_level0_row9\" class=\"row_heading level0 row9\" >rf</th>\n",
              "      <td id=\"T_522cb_row9_col0\" class=\"data row9 col0\" >Random Forest Regressor</td>\n",
              "      <td id=\"T_522cb_row9_col1\" class=\"data row9 col1\" >128675632.2150</td>\n",
              "      <td id=\"T_522cb_row9_col2\" class=\"data row9 col2\" >49362351830925552.0000</td>\n",
              "      <td id=\"T_522cb_row9_col3\" class=\"data row9 col3\" >218781244.8535</td>\n",
              "      <td id=\"T_522cb_row9_col4\" class=\"data row9 col4\" >-0.0034</td>\n",
              "      <td id=\"T_522cb_row9_col5\" class=\"data row9 col5\" >2.1665</td>\n",
              "      <td id=\"T_522cb_row9_col6\" class=\"data row9 col6\" >52772.5517</td>\n",
              "      <td id=\"T_522cb_row9_col7\" class=\"data row9 col7\" >4.4930</td>\n",
              "    </tr>\n",
              "    <tr>\n",
              "      <th id=\"T_522cb_level0_row10\" class=\"row_heading level0 row10\" >dt</th>\n",
              "      <td id=\"T_522cb_row10_col0\" class=\"data row10 col0\" >Decision Tree Regressor</td>\n",
              "      <td id=\"T_522cb_row10_col1\" class=\"data row10 col1\" >128712090.5544</td>\n",
              "      <td id=\"T_522cb_row10_col2\" class=\"data row10 col2\" >49367090904686800.0000</td>\n",
              "      <td id=\"T_522cb_row10_col3\" class=\"data row10 col3\" >218789875.5293</td>\n",
              "      <td id=\"T_522cb_row10_col4\" class=\"data row10 col4\" >-0.0034</td>\n",
              "      <td id=\"T_522cb_row10_col5\" class=\"data row10 col5\" >2.1668</td>\n",
              "      <td id=\"T_522cb_row10_col6\" class=\"data row10 col6\" >52776.6587</td>\n",
              "      <td id=\"T_522cb_row10_col7\" class=\"data row10 col7\" >0.5810</td>\n",
              "    </tr>\n",
              "    <tr>\n",
              "      <th id=\"T_522cb_level0_row11\" class=\"row_heading level0 row11\" >llar</th>\n",
              "      <td id=\"T_522cb_row11_col0\" class=\"data row11 col0\" >Lasso Least Angle Regression</td>\n",
              "      <td id=\"T_522cb_row11_col1\" class=\"data row11 col1\" >128684029.5924</td>\n",
              "      <td id=\"T_522cb_row11_col2\" class=\"data row11 col2\" >49366777555031600.0000</td>\n",
              "      <td id=\"T_522cb_row11_col3\" class=\"data row11 col3\" >218791247.6624</td>\n",
              "      <td id=\"T_522cb_row11_col4\" class=\"data row11 col4\" >-0.0035</td>\n",
              "      <td id=\"T_522cb_row11_col5\" class=\"data row11 col5\" >2.1666</td>\n",
              "      <td id=\"T_522cb_row11_col6\" class=\"data row11 col6\" >52756.6454</td>\n",
              "      <td id=\"T_522cb_row11_col7\" class=\"data row11 col7\" >0.8650</td>\n",
              "    </tr>\n",
              "    <tr>\n",
              "      <th id=\"T_522cb_level0_row12\" class=\"row_heading level0 row12\" >ada</th>\n",
              "      <td id=\"T_522cb_row12_col0\" class=\"data row12 col0\" >AdaBoost Regressor</td>\n",
              "      <td id=\"T_522cb_row12_col1\" class=\"data row12 col1\" >129305656.5819</td>\n",
              "      <td id=\"T_522cb_row12_col2\" class=\"data row12 col2\" >49369300981441048.0000</td>\n",
              "      <td id=\"T_522cb_row12_col3\" class=\"data row12 col3\" >218802318.3782</td>\n",
              "      <td id=\"T_522cb_row12_col4\" class=\"data row12 col4\" >-0.0035</td>\n",
              "      <td id=\"T_522cb_row12_col5\" class=\"data row12 col5\" >2.1693</td>\n",
              "      <td id=\"T_522cb_row12_col6\" class=\"data row12 col6\" >55076.0126</td>\n",
              "      <td id=\"T_522cb_row12_col7\" class=\"data row12 col7\" >1.3390</td>\n",
              "    </tr>\n",
              "    <tr>\n",
              "      <th id=\"T_522cb_level0_row13\" class=\"row_heading level0 row13\" >lightgbm</th>\n",
              "      <td id=\"T_522cb_row13_col0\" class=\"data row13 col0\" >Light Gradient Boosting Machine</td>\n",
              "      <td id=\"T_522cb_row13_col1\" class=\"data row13 col1\" >128812434.3736</td>\n",
              "      <td id=\"T_522cb_row13_col2\" class=\"data row13 col2\" >49414897922255408.0000</td>\n",
              "      <td id=\"T_522cb_row13_col3\" class=\"data row13 col3\" >218901649.2634</td>\n",
              "      <td id=\"T_522cb_row13_col4\" class=\"data row13 col4\" >-0.0046</td>\n",
              "      <td id=\"T_522cb_row13_col5\" class=\"data row13 col5\" >2.1674</td>\n",
              "      <td id=\"T_522cb_row13_col6\" class=\"data row13 col6\" >52870.0233</td>\n",
              "      <td id=\"T_522cb_row13_col7\" class=\"data row13 col7\" >2.2950</td>\n",
              "    </tr>\n",
              "    <tr>\n",
              "      <th id=\"T_522cb_level0_row14\" class=\"row_heading level0 row14\" >br</th>\n",
              "      <td id=\"T_522cb_row14_col0\" class=\"data row14 col0\" >Bayesian Ridge</td>\n",
              "      <td id=\"T_522cb_row14_col1\" class=\"data row14 col1\" >123581937.3266</td>\n",
              "      <td id=\"T_522cb_row14_col2\" class=\"data row14 col2\" >49703911587964400.0000</td>\n",
              "      <td id=\"T_522cb_row14_col3\" class=\"data row14 col3\" >219458199.4837</td>\n",
              "      <td id=\"T_522cb_row14_col4\" class=\"data row14 col4\" >-0.0088</td>\n",
              "      <td id=\"T_522cb_row14_col5\" class=\"data row14 col5\" >2.1035</td>\n",
              "      <td id=\"T_522cb_row14_col6\" class=\"data row14 col6\" >43224.6461</td>\n",
              "      <td id=\"T_522cb_row14_col7\" class=\"data row14 col7\" >0.7440</td>\n",
              "    </tr>\n",
              "    <tr>\n",
              "      <th id=\"T_522cb_level0_row15\" class=\"row_heading level0 row15\" >dummy</th>\n",
              "      <td id=\"T_522cb_row15_col0\" class=\"data row15 col0\" >Dummy Regressor</td>\n",
              "      <td id=\"T_522cb_row15_col1\" class=\"data row15 col1\" >123581937.3266</td>\n",
              "      <td id=\"T_522cb_row15_col2\" class=\"data row15 col2\" >49703911587973752.0000</td>\n",
              "      <td id=\"T_522cb_row15_col3\" class=\"data row15 col3\" >219458199.4837</td>\n",
              "      <td id=\"T_522cb_row15_col4\" class=\"data row15 col4\" >-0.0088</td>\n",
              "      <td id=\"T_522cb_row15_col5\" class=\"data row15 col5\" >2.1035</td>\n",
              "      <td id=\"T_522cb_row15_col6\" class=\"data row15 col6\" >43224.6461</td>\n",
              "      <td id=\"T_522cb_row15_col7\" class=\"data row15 col7\" >0.8150</td>\n",
              "    </tr>\n",
              "    <tr>\n",
              "      <th id=\"T_522cb_level0_row16\" class=\"row_heading level0 row16\" >par</th>\n",
              "      <td id=\"T_522cb_row16_col0\" class=\"data row16 col0\" >Passive Aggressive Regressor</td>\n",
              "      <td id=\"T_522cb_row16_col1\" class=\"data row16 col1\" >141690074.7687</td>\n",
              "      <td id=\"T_522cb_row16_col2\" class=\"data row16 col2\" >69294472373010512.0000</td>\n",
              "      <td id=\"T_522cb_row16_col3\" class=\"data row16 col3\" >260529124.5434</td>\n",
              "      <td id=\"T_522cb_row16_col4\" class=\"data row16 col4\" >-0.4433</td>\n",
              "      <td id=\"T_522cb_row16_col5\" class=\"data row16 col5\" >3.5969</td>\n",
              "      <td id=\"T_522cb_row16_col6\" class=\"data row16 col6\" >865.9055</td>\n",
              "      <td id=\"T_522cb_row16_col7\" class=\"data row16 col7\" >2.4200</td>\n",
              "    </tr>\n",
              "    <tr>\n",
              "      <th id=\"T_522cb_level0_row17\" class=\"row_heading level0 row17\" >lar</th>\n",
              "      <td id=\"T_522cb_row17_col0\" class=\"data row17 col0\" >Least Angle Regression</td>\n",
              "      <td id=\"T_522cb_row17_col1\" class=\"data row17 col1\" >41417130080679.6641</td>\n",
              "      <td id=\"T_522cb_row17_col2\" class=\"data row17 col2\" >4768722898355538373905221681152.0000</td>\n",
              "      <td id=\"T_522cb_row17_col3\" class=\"data row17 col3\" >690559596081739.1250</td>\n",
              "      <td id=\"T_522cb_row17_col4\" class=\"data row17 col4\" >-57159267896520.5625</td>\n",
              "      <td id=\"T_522cb_row17_col5\" class=\"data row17 col5\" >2.1974</td>\n",
              "      <td id=\"T_522cb_row17_col6\" class=\"data row17 col6\" >339140.5909</td>\n",
              "      <td id=\"T_522cb_row17_col7\" class=\"data row17 col7\" >0.6040</td>\n",
              "    </tr>\n",
              "    <tr>\n",
              "      <th id=\"T_522cb_level0_row18\" class=\"row_heading level0 row18\" >lr</th>\n",
              "      <td id=\"T_522cb_row18_col0\" class=\"data row18 col0\" >Linear Regression</td>\n",
              "      <td id=\"T_522cb_row18_col1\" class=\"data row18 col1\" >9977060872315390.0000</td>\n",
              "      <td id=\"T_522cb_row18_col2\" class=\"data row18 col2\" >182716503099235192805890101251932160.0000</td>\n",
              "      <td id=\"T_522cb_row18_col3\" class=\"data row18 col3\" >154899970019641248.0000</td>\n",
              "      <td id=\"T_522cb_row18_col4\" class=\"data row18 col4\" >-4469279718593414656.0000</td>\n",
              "      <td id=\"T_522cb_row18_col5\" class=\"data row18 col5\" >2.9918</td>\n",
              "      <td id=\"T_522cb_row18_col6\" class=\"data row18 col6\" >6244241188.4401</td>\n",
              "      <td id=\"T_522cb_row18_col7\" class=\"data row18 col7\" >0.7120</td>\n",
              "    </tr>\n",
              "  </tbody>\n",
              "</table>\n"
            ]
          },
          "metadata": {}
        },
        {
          "output_type": "display_data",
          "data": {
            "text/plain": [
              "Processing:   0%|          | 0/90 [00:00<?, ?it/s]"
            ],
            "application/vnd.jupyter.widget-view+json": {
              "version_major": 2,
              "version_minor": 0,
              "model_id": "63f0770cbc9f4bb1aae3691bd45bf5ae"
            }
          },
          "metadata": {
            "application/vnd.jupyter.widget-view+json": {
              "colab": {
                "custom_widget_manager": {
                  "url": "https://ssl.gstatic.com/colaboratory-static/widgets/colab-cdn-widget-manager/2b70e893a8ba7c0f/manager.min.js"
                }
              }
            }
          }
        },
        {
          "output_type": "display_data",
          "data": {
            "text/plain": [
              "<IPython.core.display.HTML object>"
            ],
            "text/html": []
          },
          "metadata": {}
        }
      ]
    },
    {
      "cell_type": "code",
      "source": [
        "# Why Use R² as a Metric?\n",
        "# R², also known as the coefficient of determination, is a commonly used metric to evaluate the performance of regression models.\n",
        "# It represents the proportion of the variance in the dependent variable that is predictable from the independent variables.\n",
        "\n",
        "# Here’s why R² is useful:\n",
        "\n",
        "# Interpretability: R² values range from 0 to 1, where---\n",
        "# 0 indicates that the model explains none of the variability of the response data around its mean.\n",
        "# 1 indicates that the model explains all the variability of the response data around its mean.\n",
        "\n",
        "# Goodness of Fit: It provides an indication of how well the independent variables explain the variability of the dependent variable,\n",
        "# giving a measure of how well the regression predictions approximate the real data points.\n",
        "\n",
        "# Model Comparison: R² is useful for comparing different regression models.\n",
        "\n",
        "# Higher R² values generally indicate better models (i.e., those that better explain the variability in the dependent variable)."
      ],
      "metadata": {
        "id": "XjHFSHzyh--A"
      },
      "execution_count": 123,
      "outputs": []
    },
    {
      "cell_type": "code",
      "source": [
        "# Print the names of the best 5 models\n",
        "print(\"Best 10 models based on R2 score:\")\n",
        "for model in best_models:\n",
        "    model_name = model.__class__.__name__\n",
        "    print(model_name)"
      ],
      "metadata": {
        "colab": {
          "base_uri": "https://localhost:8080/"
        },
        "id": "Yj9O-fqNZC4J",
        "outputId": "7a9863c9-07be-44cb-d9ed-9e5447caf404"
      },
      "execution_count": 124,
      "outputs": [
        {
          "output_type": "stream",
          "name": "stdout",
          "text": [
            "Best 10 models based on R2 score:\n",
            "KNeighborsRegressor\n",
            "HuberRegressor\n",
            "ElasticNet\n",
            "ExtraTreesRegressor\n",
            "XGBRegressor\n",
            "GradientBoostingRegressor\n",
            "Ridge\n",
            "Lasso\n",
            "OrthogonalMatchingPursuit\n",
            "RandomForestRegressor\n"
          ]
        }
      ]
    },
    {
      "cell_type": "code",
      "source": [
        "# # # Print the names of the best 5 models\n",
        "# print(\"Best 10 models based on R2 score:\")\n",
        "# for model in best_models:\n",
        "#     print(model_name)"
      ],
      "metadata": {
        "id": "quKfJj91eR8w"
      },
      "execution_count": 125,
      "outputs": []
    },
    {
      "cell_type": "code",
      "source": [
        "# Model Creation and Tuning:\n",
        "\n",
        "# We create the best model using create_model().\n",
        "# We tune the model for better performance with tune_model()."
      ],
      "metadata": {
        "id": "ppxchVx1ecbK"
      },
      "execution_count": 126,
      "outputs": []
    },
    {
      "cell_type": "code",
      "source": [
        "# Assuming best_models is a list of model names\n",
        "# 1ST MODEL = Elastic Net\n",
        "# 2nd best model = KNN\n",
        "best_model_name = best_models[2]\n",
        "\n",
        "# Print the best model name\n",
        "print(\"Best model name:\", best_model_name)"
      ],
      "metadata": {
        "colab": {
          "base_uri": "https://localhost:8080/"
        },
        "id": "hA59LB1-hlUw",
        "outputId": "be072da7-6e33-4994-8d5e-483ce02cac54"
      },
      "execution_count": 127,
      "outputs": [
        {
          "output_type": "stream",
          "name": "stdout",
          "text": [
            "Best model name: ElasticNet(random_state=111)\n"
          ]
        }
      ]
    },
    {
      "cell_type": "code",
      "source": [
        "# Create the best model found\n",
        "model = create_model(\n",
        "    best_models[2]\n",
        "    )\n",
        "\n",
        "# Print the best model name using the class name\n",
        "print(\"Best model name:\", best_models[0].__class__.__name__)"
      ],
      "metadata": {
        "colab": {
          "base_uri": "https://localhost:8080/",
          "height": 474,
          "referenced_widgets": [
            "8af6fc1f8ad04524907b3e2fc46ac2d3",
            "862eb34a3732417786bf53747ef8b74e",
            "238a66686fb943b6aeb0fa28225ba0ba",
            "bae57212c8ce4029be04c8e84165acdc",
            "8476b0b765eb464f8c0b28c341103d33",
            "9be7a38d7228445c9b93c3cab7c822a6",
            "6b7c606616bb44e38ea36bb64d70060d",
            "e6f9fe10eff54af7bdabd5929bc850a5",
            "64c732b4c8ff4a16a307dcd073d4f3aa",
            "5778b91bd0c444d3beda337e658bfd99",
            "baccb7984b7e4fa188bca04ff3be3018"
          ]
        },
        "id": "WrGEH3EJSUUz",
        "outputId": "7e2cf8b4-d178-43ad-e4a7-6d58aa134f45"
      },
      "execution_count": 128,
      "outputs": [
        {
          "output_type": "display_data",
          "data": {
            "text/plain": [
              "<IPython.core.display.HTML object>"
            ],
            "text/html": []
          },
          "metadata": {}
        },
        {
          "output_type": "display_data",
          "data": {
            "text/plain": [
              "<pandas.io.formats.style.Styler at 0x7ea8673a9090>"
            ],
            "text/html": [
              "<style type=\"text/css\">\n",
              "#T_b3bd0_row10_col0, #T_b3bd0_row10_col1, #T_b3bd0_row10_col2, #T_b3bd0_row10_col3, #T_b3bd0_row10_col4, #T_b3bd0_row10_col5 {\n",
              "  background: yellow;\n",
              "}\n",
              "</style>\n",
              "<table id=\"T_b3bd0\" class=\"dataframe\">\n",
              "  <thead>\n",
              "    <tr>\n",
              "      <th class=\"blank level0\" >&nbsp;</th>\n",
              "      <th id=\"T_b3bd0_level0_col0\" class=\"col_heading level0 col0\" >MAE</th>\n",
              "      <th id=\"T_b3bd0_level0_col1\" class=\"col_heading level0 col1\" >MSE</th>\n",
              "      <th id=\"T_b3bd0_level0_col2\" class=\"col_heading level0 col2\" >RMSE</th>\n",
              "      <th id=\"T_b3bd0_level0_col3\" class=\"col_heading level0 col3\" >R2</th>\n",
              "      <th id=\"T_b3bd0_level0_col4\" class=\"col_heading level0 col4\" >RMSLE</th>\n",
              "      <th id=\"T_b3bd0_level0_col5\" class=\"col_heading level0 col5\" >MAPE</th>\n",
              "    </tr>\n",
              "    <tr>\n",
              "      <th class=\"index_name level0\" >Fold</th>\n",
              "      <th class=\"blank col0\" >&nbsp;</th>\n",
              "      <th class=\"blank col1\" >&nbsp;</th>\n",
              "      <th class=\"blank col2\" >&nbsp;</th>\n",
              "      <th class=\"blank col3\" >&nbsp;</th>\n",
              "      <th class=\"blank col4\" >&nbsp;</th>\n",
              "      <th class=\"blank col5\" >&nbsp;</th>\n",
              "    </tr>\n",
              "  </thead>\n",
              "  <tbody>\n",
              "    <tr>\n",
              "      <th id=\"T_b3bd0_level0_row0\" class=\"row_heading level0 row0\" >0</th>\n",
              "      <td id=\"T_b3bd0_row0_col0\" class=\"data row0 col0\" >118544828.0375</td>\n",
              "      <td id=\"T_b3bd0_row0_col1\" class=\"data row0 col1\" >38183111825519352.0000</td>\n",
              "      <td id=\"T_b3bd0_row0_col2\" class=\"data row0 col2\" >195404994.3720</td>\n",
              "      <td id=\"T_b3bd0_row0_col3\" class=\"data row0 col3\" >0.0950</td>\n",
              "      <td id=\"T_b3bd0_row0_col4\" class=\"data row0 col4\" >2.3409</td>\n",
              "      <td id=\"T_b3bd0_row0_col5\" class=\"data row0 col5\" >497636.5027</td>\n",
              "    </tr>\n",
              "    <tr>\n",
              "      <th id=\"T_b3bd0_level0_row1\" class=\"row_heading level0 row1\" >1</th>\n",
              "      <td id=\"T_b3bd0_row1_col0\" class=\"data row1 col0\" >119592093.3819</td>\n",
              "      <td id=\"T_b3bd0_row1_col1\" class=\"data row1 col1\" >36953942873280912.0000</td>\n",
              "      <td id=\"T_b3bd0_row1_col2\" class=\"data row1 col2\" >192234083.5369</td>\n",
              "      <td id=\"T_b3bd0_row1_col3\" class=\"data row1 col3\" >0.1043</td>\n",
              "      <td id=\"T_b3bd0_row1_col4\" class=\"data row1 col4\" >2.1274</td>\n",
              "      <td id=\"T_b3bd0_row1_col5\" class=\"data row1 col5\" >397.3864</td>\n",
              "    </tr>\n",
              "    <tr>\n",
              "      <th id=\"T_b3bd0_level0_row2\" class=\"row_heading level0 row2\" >2</th>\n",
              "      <td id=\"T_b3bd0_row2_col0\" class=\"data row2 col0\" >96110341.1080</td>\n",
              "      <td id=\"T_b3bd0_row2_col1\" class=\"data row2 col1\" >20034440579607580.0000</td>\n",
              "      <td id=\"T_b3bd0_row2_col2\" class=\"data row2 col2\" >141543069.6983</td>\n",
              "      <td id=\"T_b3bd0_row2_col3\" class=\"data row2 col3\" >0.0820</td>\n",
              "      <td id=\"T_b3bd0_row2_col4\" class=\"data row2 col4\" >1.9053</td>\n",
              "      <td id=\"T_b3bd0_row2_col5\" class=\"data row2 col5\" >100.5006</td>\n",
              "    </tr>\n",
              "    <tr>\n",
              "      <th id=\"T_b3bd0_level0_row3\" class=\"row_heading level0 row3\" >3</th>\n",
              "      <td id=\"T_b3bd0_row3_col0\" class=\"data row3 col0\" >121280960.3586</td>\n",
              "      <td id=\"T_b3bd0_row3_col1\" class=\"data row3 col1\" >43679879307109632.0000</td>\n",
              "      <td id=\"T_b3bd0_row3_col2\" class=\"data row3 col2\" >208997318.8993</td>\n",
              "      <td id=\"T_b3bd0_row3_col3\" class=\"data row3 col3\" >0.1092</td>\n",
              "      <td id=\"T_b3bd0_row3_col4\" class=\"data row3 col4\" >2.1096</td>\n",
              "      <td id=\"T_b3bd0_row3_col5\" class=\"data row3 col5\" >86.3123</td>\n",
              "    </tr>\n",
              "    <tr>\n",
              "      <th id=\"T_b3bd0_level0_row4\" class=\"row_heading level0 row4\" >4</th>\n",
              "      <td id=\"T_b3bd0_row4_col0\" class=\"data row4 col0\" >135517457.7111</td>\n",
              "      <td id=\"T_b3bd0_row4_col1\" class=\"data row4 col1\" >70434263475164112.0000</td>\n",
              "      <td id=\"T_b3bd0_row4_col2\" class=\"data row4 col2\" >265394543.0395</td>\n",
              "      <td id=\"T_b3bd0_row4_col3\" class=\"data row4 col3\" >0.0803</td>\n",
              "      <td id=\"T_b3bd0_row4_col4\" class=\"data row4 col4\" >2.3544</td>\n",
              "      <td id=\"T_b3bd0_row4_col5\" class=\"data row4 col5\" >280.0094</td>\n",
              "    </tr>\n",
              "    <tr>\n",
              "      <th id=\"T_b3bd0_level0_row5\" class=\"row_heading level0 row5\" >5</th>\n",
              "      <td id=\"T_b3bd0_row5_col0\" class=\"data row5 col0\" >122887453.8719</td>\n",
              "      <td id=\"T_b3bd0_row5_col1\" class=\"data row5 col1\" >35663967664091616.0000</td>\n",
              "      <td id=\"T_b3bd0_row5_col2\" class=\"data row5 col2\" >188849060.5327</td>\n",
              "      <td id=\"T_b3bd0_row5_col3\" class=\"data row5 col3\" >0.1266</td>\n",
              "      <td id=\"T_b3bd0_row5_col4\" class=\"data row5 col4\" >2.1931</td>\n",
              "      <td id=\"T_b3bd0_row5_col5\" class=\"data row5 col5\" >234.2208</td>\n",
              "    </tr>\n",
              "    <tr>\n",
              "      <th id=\"T_b3bd0_level0_row6\" class=\"row_heading level0 row6\" >6</th>\n",
              "      <td id=\"T_b3bd0_row6_col0\" class=\"data row6 col0\" >119352486.3293</td>\n",
              "      <td id=\"T_b3bd0_row6_col1\" class=\"data row6 col1\" >50693549166557512.0000</td>\n",
              "      <td id=\"T_b3bd0_row6_col2\" class=\"data row6 col2\" >225152279.9497</td>\n",
              "      <td id=\"T_b3bd0_row6_col3\" class=\"data row6 col3\" >0.0733</td>\n",
              "      <td id=\"T_b3bd0_row6_col4\" class=\"data row6 col4\" >2.0148</td>\n",
              "      <td id=\"T_b3bd0_row6_col5\" class=\"data row6 col5\" >25.3139</td>\n",
              "    </tr>\n",
              "    <tr>\n",
              "      <th id=\"T_b3bd0_level0_row7\" class=\"row_heading level0 row7\" >7</th>\n",
              "      <td id=\"T_b3bd0_row7_col0\" class=\"data row7 col0\" >117755032.0490</td>\n",
              "      <td id=\"T_b3bd0_row7_col1\" class=\"data row7 col1\" >36449317145708528.0000</td>\n",
              "      <td id=\"T_b3bd0_row7_col2\" class=\"data row7 col2\" >190917042.5753</td>\n",
              "      <td id=\"T_b3bd0_row7_col3\" class=\"data row7 col3\" >0.1171</td>\n",
              "      <td id=\"T_b3bd0_row7_col4\" class=\"data row7 col4\" >2.0983</td>\n",
              "      <td id=\"T_b3bd0_row7_col5\" class=\"data row7 col5\" >121.8646</td>\n",
              "    </tr>\n",
              "    <tr>\n",
              "      <th id=\"T_b3bd0_level0_row8\" class=\"row_heading level0 row8\" >8</th>\n",
              "      <td id=\"T_b3bd0_row8_col0\" class=\"data row8 col0\" >152749133.4943</td>\n",
              "      <td id=\"T_b3bd0_row8_col1\" class=\"data row8 col1\" >77860339228287728.0000</td>\n",
              "      <td id=\"T_b3bd0_row8_col2\" class=\"data row8 col2\" >279034655.9628</td>\n",
              "      <td id=\"T_b3bd0_row8_col3\" class=\"data row8 col3\" >0.0667</td>\n",
              "      <td id=\"T_b3bd0_row8_col4\" class=\"data row8 col4\" >2.3018</td>\n",
              "      <td id=\"T_b3bd0_row8_col5\" class=\"data row8 col5\" >4742.9945</td>\n",
              "    </tr>\n",
              "    <tr>\n",
              "      <th id=\"T_b3bd0_level0_row9\" class=\"row_heading level0 row9\" >9</th>\n",
              "      <td id=\"T_b3bd0_row9_col0\" class=\"data row9 col0\" >118962724.6465</td>\n",
              "      <td id=\"T_b3bd0_row9_col1\" class=\"data row9 col1\" >36264200460165064.0000</td>\n",
              "      <td id=\"T_b3bd0_row9_col2\" class=\"data row9 col2\" >190431616.2305</td>\n",
              "      <td id=\"T_b3bd0_row9_col3\" class=\"data row9 col3\" >0.1082</td>\n",
              "      <td id=\"T_b3bd0_row9_col4\" class=\"data row9 col4\" >1.7828</td>\n",
              "      <td id=\"T_b3bd0_row9_col5\" class=\"data row9 col5\" >14.8085</td>\n",
              "    </tr>\n",
              "    <tr>\n",
              "      <th id=\"T_b3bd0_level0_row10\" class=\"row_heading level0 row10\" >Mean</th>\n",
              "      <td id=\"T_b3bd0_row10_col0\" class=\"data row10 col0\" >122275251.0988</td>\n",
              "      <td id=\"T_b3bd0_row10_col1\" class=\"data row10 col1\" >44621701172549200.0000</td>\n",
              "      <td id=\"T_b3bd0_row10_col2\" class=\"data row10 col2\" >207795866.4797</td>\n",
              "      <td id=\"T_b3bd0_row10_col3\" class=\"data row10 col3\" >0.0963</td>\n",
              "      <td id=\"T_b3bd0_row10_col4\" class=\"data row10 col4\" >2.1228</td>\n",
              "      <td id=\"T_b3bd0_row10_col5\" class=\"data row10 col5\" >50363.9914</td>\n",
              "    </tr>\n",
              "    <tr>\n",
              "      <th id=\"T_b3bd0_level0_row11\" class=\"row_heading level0 row11\" >Std</th>\n",
              "      <td id=\"T_b3bd0_row11_col0\" class=\"data row11 col0\" >13605302.7256</td>\n",
              "      <td id=\"T_b3bd0_row11_col1\" class=\"data row11 col1\" >16524254297681452.0000</td>\n",
              "      <td id=\"T_b3bd0_row11_col2\" class=\"data row11 col2\" >37981298.6415</td>\n",
              "      <td id=\"T_b3bd0_row11_col3\" class=\"data row11 col3\" >0.0189</td>\n",
              "      <td id=\"T_b3bd0_row11_col4\" class=\"data row11 col4\" >0.1771</td>\n",
              "      <td id=\"T_b3bd0_row11_col5\" class=\"data row11 col5\" >149097.1472</td>\n",
              "    </tr>\n",
              "  </tbody>\n",
              "</table>\n"
            ]
          },
          "metadata": {}
        },
        {
          "output_type": "display_data",
          "data": {
            "text/plain": [
              "Processing:   0%|          | 0/4 [00:00<?, ?it/s]"
            ],
            "application/vnd.jupyter.widget-view+json": {
              "version_major": 2,
              "version_minor": 0,
              "model_id": "8af6fc1f8ad04524907b3e2fc46ac2d3"
            }
          },
          "metadata": {
            "application/vnd.jupyter.widget-view+json": {
              "colab": {
                "custom_widget_manager": {
                  "url": "https://ssl.gstatic.com/colaboratory-static/widgets/colab-cdn-widget-manager/2b70e893a8ba7c0f/manager.min.js"
                }
              }
            }
          }
        },
        {
          "output_type": "display_data",
          "data": {
            "text/plain": [
              "<IPython.core.display.HTML object>"
            ],
            "text/html": []
          },
          "metadata": {}
        },
        {
          "output_type": "stream",
          "name": "stdout",
          "text": [
            "Best model name: KNeighborsRegressor\n"
          ]
        }
      ]
    },
    {
      "cell_type": "code",
      "source": [
        "# Tune the model for better performance\n",
        "tuned_model = tune_model(model)"
      ],
      "metadata": {
        "colab": {
          "base_uri": "https://localhost:8080/",
          "height": 474,
          "referenced_widgets": [
            "9cba7fbe5e0643b6ab1fdba2e7ea85d2",
            "11caabff893e43b192253d4c8ac052d9",
            "a339cea6fdc44866b49f855e89064e83",
            "0610f78f103e4871b2b696104068b71d",
            "a2d4ebc07ce74b718357d81302e481ad",
            "60f2f9bb40b8485b89e3c1ed75fa4d96",
            "2f5f4d7e0d03486daa04f2419ad32d8b",
            "3a8c9c632e7b426a8ada907ac8f26afe",
            "e876547328f94bf6bfc58aa61eeb2aae",
            "003317661d814741b0b9b3950de7838b",
            "3c610c5aac20469080917a1eacf82410"
          ]
        },
        "id": "iIFxk_JuSUo3",
        "outputId": "9d7daa34-c66b-499f-9758-9048e1322bbb"
      },
      "execution_count": 129,
      "outputs": [
        {
          "output_type": "display_data",
          "data": {
            "text/plain": [
              "<IPython.core.display.HTML object>"
            ],
            "text/html": []
          },
          "metadata": {}
        },
        {
          "output_type": "display_data",
          "data": {
            "text/plain": [
              "<pandas.io.formats.style.Styler at 0x7ea85bb72ad0>"
            ],
            "text/html": [
              "<style type=\"text/css\">\n",
              "#T_923d2_row10_col0, #T_923d2_row10_col1, #T_923d2_row10_col2, #T_923d2_row10_col3, #T_923d2_row10_col4, #T_923d2_row10_col5 {\n",
              "  background: yellow;\n",
              "}\n",
              "</style>\n",
              "<table id=\"T_923d2\" class=\"dataframe\">\n",
              "  <thead>\n",
              "    <tr>\n",
              "      <th class=\"blank level0\" >&nbsp;</th>\n",
              "      <th id=\"T_923d2_level0_col0\" class=\"col_heading level0 col0\" >MAE</th>\n",
              "      <th id=\"T_923d2_level0_col1\" class=\"col_heading level0 col1\" >MSE</th>\n",
              "      <th id=\"T_923d2_level0_col2\" class=\"col_heading level0 col2\" >RMSE</th>\n",
              "      <th id=\"T_923d2_level0_col3\" class=\"col_heading level0 col3\" >R2</th>\n",
              "      <th id=\"T_923d2_level0_col4\" class=\"col_heading level0 col4\" >RMSLE</th>\n",
              "      <th id=\"T_923d2_level0_col5\" class=\"col_heading level0 col5\" >MAPE</th>\n",
              "    </tr>\n",
              "    <tr>\n",
              "      <th class=\"index_name level0\" >Fold</th>\n",
              "      <th class=\"blank col0\" >&nbsp;</th>\n",
              "      <th class=\"blank col1\" >&nbsp;</th>\n",
              "      <th class=\"blank col2\" >&nbsp;</th>\n",
              "      <th class=\"blank col3\" >&nbsp;</th>\n",
              "      <th class=\"blank col4\" >&nbsp;</th>\n",
              "      <th class=\"blank col5\" >&nbsp;</th>\n",
              "    </tr>\n",
              "  </thead>\n",
              "  <tbody>\n",
              "    <tr>\n",
              "      <th id=\"T_923d2_level0_row0\" class=\"row_heading level0 row0\" >0</th>\n",
              "      <td id=\"T_923d2_row0_col0\" class=\"data row0 col0\" >114155727.0286</td>\n",
              "      <td id=\"T_923d2_row0_col1\" class=\"data row0 col1\" >36709004048670200.0000</td>\n",
              "      <td id=\"T_923d2_row0_col2\" class=\"data row0 col2\" >191595939.5412</td>\n",
              "      <td id=\"T_923d2_row0_col3\" class=\"data row0 col3\" >0.1300</td>\n",
              "      <td id=\"T_923d2_row0_col4\" class=\"data row0 col4\" >2.3050</td>\n",
              "      <td id=\"T_923d2_row0_col5\" class=\"data row0 col5\" >456192.1211</td>\n",
              "    </tr>\n",
              "    <tr>\n",
              "      <th id=\"T_923d2_level0_row1\" class=\"row_heading level0 row1\" >1</th>\n",
              "      <td id=\"T_923d2_row1_col0\" class=\"data row1 col0\" >115252500.4221</td>\n",
              "      <td id=\"T_923d2_row1_col1\" class=\"data row1 col1\" >35382685704661624.0000</td>\n",
              "      <td id=\"T_923d2_row1_col2\" class=\"data row1 col2\" >188102859.3740</td>\n",
              "      <td id=\"T_923d2_row1_col3\" class=\"data row1 col3\" >0.1424</td>\n",
              "      <td id=\"T_923d2_row1_col4\" class=\"data row1 col4\" >2.0879</td>\n",
              "      <td id=\"T_923d2_row1_col5\" class=\"data row1 col5\" >368.7520</td>\n",
              "    </tr>\n",
              "    <tr>\n",
              "      <th id=\"T_923d2_level0_row2\" class=\"row_heading level0 row2\" >2</th>\n",
              "      <td id=\"T_923d2_row2_col0\" class=\"data row2 col0\" >93048886.4345</td>\n",
              "      <td id=\"T_923d2_row2_col1\" class=\"data row2 col1\" >19149973602083132.0000</td>\n",
              "      <td id=\"T_923d2_row2_col2\" class=\"data row2 col2\" >138383429.6514</td>\n",
              "      <td id=\"T_923d2_row2_col3\" class=\"data row2 col3\" >0.1225</td>\n",
              "      <td id=\"T_923d2_row2_col4\" class=\"data row2 col4\" >1.8712</td>\n",
              "      <td id=\"T_923d2_row2_col5\" class=\"data row2 col5\" >103.2855</td>\n",
              "    </tr>\n",
              "    <tr>\n",
              "      <th id=\"T_923d2_level0_row3\" class=\"row_heading level0 row3\" >3</th>\n",
              "      <td id=\"T_923d2_row3_col0\" class=\"data row3 col0\" >117545644.7908</td>\n",
              "      <td id=\"T_923d2_row3_col1\" class=\"data row3 col1\" >42154734518285864.0000</td>\n",
              "      <td id=\"T_923d2_row3_col2\" class=\"data row3 col2\" >205316181.8228</td>\n",
              "      <td id=\"T_923d2_row3_col3\" class=\"data row3 col3\" >0.1403</td>\n",
              "      <td id=\"T_923d2_row3_col4\" class=\"data row3 col4\" >2.0747</td>\n",
              "      <td id=\"T_923d2_row3_col5\" class=\"data row3 col5\" >79.3142</td>\n",
              "    </tr>\n",
              "    <tr>\n",
              "      <th id=\"T_923d2_level0_row4\" class=\"row_heading level0 row4\" >4</th>\n",
              "      <td id=\"T_923d2_row4_col0\" class=\"data row4 col0\" >131511202.4472</td>\n",
              "      <td id=\"T_923d2_row4_col1\" class=\"data row4 col1\" >68540907068881360.0000</td>\n",
              "      <td id=\"T_923d2_row4_col2\" class=\"data row4 col2\" >261803183.8402</td>\n",
              "      <td id=\"T_923d2_row4_col3\" class=\"data row4 col3\" >0.1050</td>\n",
              "      <td id=\"T_923d2_row4_col4\" class=\"data row4 col4\" >2.3209</td>\n",
              "      <td id=\"T_923d2_row4_col5\" class=\"data row4 col5\" >263.1441</td>\n",
              "    </tr>\n",
              "    <tr>\n",
              "      <th id=\"T_923d2_level0_row5\" class=\"row_heading level0 row5\" >5</th>\n",
              "      <td id=\"T_923d2_row5_col0\" class=\"data row5 col0\" >117985014.4678</td>\n",
              "      <td id=\"T_923d2_row5_col1\" class=\"data row5 col1\" >34180346502941456.0000</td>\n",
              "      <td id=\"T_923d2_row5_col2\" class=\"data row5 col2\" >184879275.4825</td>\n",
              "      <td id=\"T_923d2_row5_col3\" class=\"data row5 col3\" >0.1629</td>\n",
              "      <td id=\"T_923d2_row5_col4\" class=\"data row5 col4\" >2.1530</td>\n",
              "      <td id=\"T_923d2_row5_col5\" class=\"data row5 col5\" >217.5382</td>\n",
              "    </tr>\n",
              "    <tr>\n",
              "      <th id=\"T_923d2_level0_row6\" class=\"row_heading level0 row6\" >6</th>\n",
              "      <td id=\"T_923d2_row6_col0\" class=\"data row6 col0\" >115410301.6114</td>\n",
              "      <td id=\"T_923d2_row6_col1\" class=\"data row6 col1\" >48835755084607904.0000</td>\n",
              "      <td id=\"T_923d2_row6_col2\" class=\"data row6 col2\" >220988133.3570</td>\n",
              "      <td id=\"T_923d2_row6_col3\" class=\"data row6 col3\" >0.1072</td>\n",
              "      <td id=\"T_923d2_row6_col4\" class=\"data row6 col4\" >1.9804</td>\n",
              "      <td id=\"T_923d2_row6_col5\" class=\"data row6 col5\" >24.0424</td>\n",
              "    </tr>\n",
              "    <tr>\n",
              "      <th id=\"T_923d2_level0_row7\" class=\"row_heading level0 row7\" >7</th>\n",
              "      <td id=\"T_923d2_row7_col0\" class=\"data row7 col0\" >113917727.8254</td>\n",
              "      <td id=\"T_923d2_row7_col1\" class=\"data row7 col1\" >34902209381815008.0000</td>\n",
              "      <td id=\"T_923d2_row7_col2\" class=\"data row7 col2\" >186821330.1040</td>\n",
              "      <td id=\"T_923d2_row7_col3\" class=\"data row7 col3\" >0.1546</td>\n",
              "      <td id=\"T_923d2_row7_col4\" class=\"data row7 col4\" >2.0612</td>\n",
              "      <td id=\"T_923d2_row7_col5\" class=\"data row7 col5\" >112.7757</td>\n",
              "    </tr>\n",
              "    <tr>\n",
              "      <th id=\"T_923d2_level0_row8\" class=\"row_heading level0 row8\" >8</th>\n",
              "      <td id=\"T_923d2_row8_col0\" class=\"data row8 col0\" >148205863.4842</td>\n",
              "      <td id=\"T_923d2_row8_col1\" class=\"data row8 col1\" >75279477416598880.0000</td>\n",
              "      <td id=\"T_923d2_row8_col2\" class=\"data row8 col2\" >274371057.9063</td>\n",
              "      <td id=\"T_923d2_row8_col3\" class=\"data row8 col3\" >0.0977</td>\n",
              "      <td id=\"T_923d2_row8_col4\" class=\"data row8 col4\" >2.2658</td>\n",
              "      <td id=\"T_923d2_row8_col5\" class=\"data row8 col5\" >4466.9493</td>\n",
              "    </tr>\n",
              "    <tr>\n",
              "      <th id=\"T_923d2_level0_row9\" class=\"row_heading level0 row9\" >9</th>\n",
              "      <td id=\"T_923d2_row9_col0\" class=\"data row9 col0\" >114806635.0577</td>\n",
              "      <td id=\"T_923d2_row9_col1\" class=\"data row9 col1\" >34607534179926088.0000</td>\n",
              "      <td id=\"T_923d2_row9_col2\" class=\"data row9 col2\" >186031003.2761</td>\n",
              "      <td id=\"T_923d2_row9_col3\" class=\"data row9 col3\" >0.1489</td>\n",
              "      <td id=\"T_923d2_row9_col4\" class=\"data row9 col4\" >1.7425</td>\n",
              "      <td id=\"T_923d2_row9_col5\" class=\"data row9 col5\" >13.8931</td>\n",
              "    </tr>\n",
              "    <tr>\n",
              "      <th id=\"T_923d2_level0_row10\" class=\"row_heading level0 row10\" >Mean</th>\n",
              "      <td id=\"T_923d2_row10_col0\" class=\"data row10 col0\" >118183950.3570</td>\n",
              "      <td id=\"T_923d2_row10_col1\" class=\"data row10 col1\" >42974262750847152.0000</td>\n",
              "      <td id=\"T_923d2_row10_col2\" class=\"data row10 col2\" >203829239.4355</td>\n",
              "      <td id=\"T_923d2_row10_col3\" class=\"data row10 col3\" >0.1312</td>\n",
              "      <td id=\"T_923d2_row10_col4\" class=\"data row10 col4\" >2.0863</td>\n",
              "      <td id=\"T_923d2_row10_col5\" class=\"data row10 col5\" >46184.1816</td>\n",
              "    </tr>\n",
              "    <tr>\n",
              "      <th id=\"T_923d2_level0_row11\" class=\"row_heading level0 row11\" >Std</th>\n",
              "      <td id=\"T_923d2_row11_col0\" class=\"data row11 col0\" >13316416.1341</td>\n",
              "      <td id=\"T_923d2_row11_col1\" class=\"data row11 col1\" >16153279335269082.0000</td>\n",
              "      <td id=\"T_923d2_row11_col2\" class=\"data row11 col2\" >37787615.7223</td>\n",
              "      <td id=\"T_923d2_row11_col3\" class=\"data row11 col3\" >0.0213</td>\n",
              "      <td id=\"T_923d2_row11_col4\" class=\"data row11 col4\" >0.1778</td>\n",
              "      <td id=\"T_923d2_row11_col5\" class=\"data row11 col5\" >136675.4190</td>\n",
              "    </tr>\n",
              "  </tbody>\n",
              "</table>\n"
            ]
          },
          "metadata": {}
        },
        {
          "output_type": "display_data",
          "data": {
            "text/plain": [
              "Processing:   0%|          | 0/7 [00:00<?, ?it/s]"
            ],
            "application/vnd.jupyter.widget-view+json": {
              "version_major": 2,
              "version_minor": 0,
              "model_id": "9cba7fbe5e0643b6ab1fdba2e7ea85d2"
            }
          },
          "metadata": {
            "application/vnd.jupyter.widget-view+json": {
              "colab": {
                "custom_widget_manager": {
                  "url": "https://ssl.gstatic.com/colaboratory-static/widgets/colab-cdn-widget-manager/2b70e893a8ba7c0f/manager.min.js"
                }
              }
            }
          }
        },
        {
          "output_type": "stream",
          "name": "stdout",
          "text": [
            "Fitting 10 folds for each of 10 candidates, totalling 100 fits\n"
          ]
        },
        {
          "output_type": "display_data",
          "data": {
            "text/plain": [
              "<IPython.core.display.HTML object>"
            ],
            "text/html": []
          },
          "metadata": {}
        }
      ]
    },
    {
      "cell_type": "code",
      "source": [
        "# df.head(2)"
      ],
      "metadata": {
        "id": "fGFlAMqq74G6"
      },
      "execution_count": 130,
      "outputs": []
    },
    {
      "cell_type": "code",
      "source": [
        "# df.shape"
      ],
      "metadata": {
        "id": "ig4TxBFnVAXg"
      },
      "execution_count": 131,
      "outputs": []
    },
    {
      "cell_type": "code",
      "source": [
        "# TUNED MODEL"
      ],
      "metadata": {
        "id": "UlBlmeVLNNgj"
      },
      "execution_count": 132,
      "outputs": []
    },
    {
      "cell_type": "code",
      "source": [
        "# Plot the tuned model's performance\n",
        "plot_model(tuned_model, plot='residuals')\n"
      ],
      "metadata": {
        "colab": {
          "base_uri": "https://localhost:8080/",
          "height": 524
        },
        "id": "xuwHCC7iaCtA",
        "outputId": "cbfc8b53-04b8-4d0a-83e5-729d20b7cf84"
      },
      "execution_count": 133,
      "outputs": [
        {
          "output_type": "display_data",
          "data": {
            "text/plain": [
              "<IPython.core.display.HTML object>"
            ],
            "text/html": []
          },
          "metadata": {}
        },
        {
          "output_type": "display_data",
          "data": {
            "text/plain": [
              "<Figure size 800x550 with 2 Axes>"
            ],
            "image/png": "[encoded data removed]"
          },
          "metadata": {}
        }
      ]
    },
    {
      "cell_type": "code",
      "source": [
        "plot_model(tuned_model, plot='error')"
      ],
      "metadata": {
        "colab": {
          "base_uri": "https://localhost:8080/",
          "height": 526
        },
        "id": "QlFXzlzQaNBQ",
        "outputId": "085b9eb3-0463-4850-9939-d886d23ec671"
      },
      "execution_count": 134,
      "outputs": [
        {
          "output_type": "display_data",
          "data": {
            "text/plain": [
              "<IPython.core.display.HTML object>"
            ],
            "text/html": []
          },
          "metadata": {}
        },
        {
          "output_type": "display_data",
          "data": {
            "text/plain": [
              "<Figure size 800x550 with 1 Axes>"
            ],
            "image/png": "[encoded data removed]"
          },
          "metadata": {}
        }
      ]
    },
    {
      "cell_type": "code",
      "source": [
        "# # Plot the tuned model's performance\n",
        "# plot_model(tuned_model)"
      ],
      "metadata": {
        "id": "T7vnN8suaoyA"
      },
      "execution_count": 135,
      "outputs": []
    },
    {
      "cell_type": "code",
      "source": [
        "# plot_model(tuned_model, plot='feature')"
      ],
      "metadata": {
        "id": "LczQQtfd-ujw"
      },
      "execution_count": 136,
      "outputs": []
    },
    {
      "cell_type": "code",
      "source": [],
      "metadata": {
        "id": "7h7-57NhcS5f"
      },
      "execution_count": 136,
      "outputs": []
    },
    {
      "cell_type": "code",
      "source": [],
      "metadata": {
        "id": "UHSRqHlt-ume"
      },
      "execution_count": 136,
      "outputs": []
    },
    {
      "cell_type": "code",
      "source": [
        "# # Make predictions on the test set\n",
        "# predictions = predict_model(tuned_model)"
      ],
      "metadata": {
        "id": "Nxhxt-WvVAaQ"
      },
      "execution_count": 137,
      "outputs": []
    },
    {
      "cell_type": "code",
      "source": [
        "# Finalizing the Model:\n",
        "\n",
        "# We finalize the model for deployment using finalize_model()."
      ],
      "metadata": {
        "id": "4gZhmyPyepxy"
      },
      "execution_count": 138,
      "outputs": []
    },
    {
      "cell_type": "code",
      "source": [
        "# Finalize the model for deployment (train on the entire dataset)\n",
        "final_model = finalize_model(tuned_model)\n",
        "\n",
        "# # Make predictions on new data using the finalized model\n",
        "# predictions = predict_model(\n",
        "#     final_model,  # The finalized model\n",
        "#     data=df_test,  # New data on which predictions are to be made\n",
        "#     round=2,  # Round the predictions to 2 decimal places\n",
        "#     verbose=True  # Print detailed information about the predictions\n",
        "# )"
      ],
      "metadata": {
        "id": "9g0H4uHcVAci"
      },
      "execution_count": 139,
      "outputs": []
    },
    {
      "cell_type": "code",
      "source": [
        "# Print the final model\n",
        "print(final_model)"
      ],
      "metadata": {
        "colab": {
          "base_uri": "https://localhost:8080/"
        },
        "id": "wAI_c7YOSUrQ",
        "outputId": "e2bc6926-b2e6-41ed-b957-c76a89a57334"
      },
      "execution_count": 140,
      "outputs": [
        {
          "output_type": "stream",
          "name": "stdout",
          "text": [
            "Pipeline(memory=Memory(location=None),\n",
            "         steps=[('numerical_imputer',\n",
            "                 TransformerWrapper(include=['movie_id', 'budget',\n",
            "                                             'original_language', 'popularity',\n",
            "                                             'runtime', 'status', 'release_day',\n",
            "                                             'release_month', 'release_year',\n",
            "                                             'Venezuela', 'Botswana', 'Kuwait',\n",
            "                                             'Australia', 'Malta', 'Portugal',\n",
            "                                             'Slovakia', 'Japan', 'Ireland',\n",
            "                                             'Colombia', 'Belgium', 'Cyprus',\n",
            "                                             'Canada', 'Luxembo...\n",
            "                                                                    'keywords',\n",
            "                                                                    'cast',\n",
            "                                                                    'crew'],\n",
            "                                                              handle_missing='return_nan'))),\n",
            "                ('remove_outliers',\n",
            "                 TransformerWrapper(transformer=RemoveOutliers(random_state=111))),\n",
            "                ('normalize', TransformerWrapper(transformer=StandardScaler())),\n",
            "                ('clean_column_names',\n",
            "                 TransformerWrapper(transformer=CleanColumnNames())),\n",
            "                ('actual_estimator',\n",
            "                 ElasticNet(alpha=4.77, l1_ratio=0.291, random_state=111))])\n"
          ]
        }
      ]
    },
    {
      "cell_type": "code",
      "source": [
        "final_model"
      ],
      "metadata": {
        "colab": {
          "base_uri": "https://localhost:8080/",
          "height": 805
        },
        "id": "FVjW1NHaCOBv",
        "outputId": "1713f7ab-5590-4123-c6c1-ba3658519c25"
      },
      "execution_count": 141,
      "outputs": [
        {
          "output_type": "execute_result",
          "data": {
            "text/plain": [
              "Pipeline(memory=Memory(location=None),\n",
              "         steps=[('numerical_imputer',\n",
              "                 TransformerWrapper(include=['movie_id', 'budget',\n",
              "                                             'original_language', 'popularity',\n",
              "                                             'runtime', 'status', 'release_day',\n",
              "                                             'release_month', 'release_year',\n",
              "                                             'Venezuela', 'Botswana', 'Kuwait',\n",
              "                                             'Australia', 'Malta', 'Portugal',\n",
              "                                             'Slovakia', 'Japan', 'Ireland',\n",
              "                                             'Colombia', 'Belgium', 'Cyprus',\n",
              "                                             'Canada', 'Luxembo...\n",
              "                                                                    'keywords',\n",
              "                                                                    'cast',\n",
              "                                                                    'crew'],\n",
              "                                                              handle_missing='return_nan'))),\n",
              "                ('remove_outliers',\n",
              "                 TransformerWrapper(transformer=RemoveOutliers(random_state=111))),\n",
              "                ('normalize', TransformerWrapper(transformer=StandardScaler())),\n",
              "                ('clean_column_names',\n",
              "                 TransformerWrapper(transformer=CleanColumnNames())),\n",
              "                ('actual_estimator',\n",
              "                 ElasticNet(alpha=4.77, l1_ratio=0.291, random_state=111))])"
            ],
            "text/html": [
              "<style>#sk-container-id-2 {\n",
              "  /* Definition of color scheme common for light and dark mode */\n",
              "  --sklearn-color-text: black;\n",
              "  --sklearn-color-line: gray;\n",
              "  /* Definition of color scheme for unfitted estimators */\n",
              "  --sklearn-color-unfitted-level-0: #fff5e6;\n",
              "  --sklearn-color-unfitted-level-1: #f6e4d2;\n",
              "  --sklearn-color-unfitted-level-2: #ffe0b3;\n",
              "  --sklearn-color-unfitted-level-3: chocolate;\n",
              "  /* Definition of color scheme for fitted estimators */\n",
              "  --sklearn-color-fitted-level-0: #f0f8ff;\n",
              "  --sklearn-color-fitted-level-1: #d4ebff;\n",
              "  --sklearn-color-fitted-level-2: #b3dbfd;\n",
              "  --sklearn-color-fitted-level-3: cornflowerblue;\n",
              "\n",
              "  /* Specific color for light theme */\n",
              "  --sklearn-color-text-on-default-background: var(--sg-text-color, var(--theme-code-foreground, var(--jp-content-font-color1, black)));\n",
              "  --sklearn-color-background: var(--sg-background-color, var(--theme-background, var(--jp-layout-color0, white)));\n",
              "  --sklearn-color-border-box: var(--sg-text-color, var(--theme-code-foreground, var(--jp-content-font-color1, black)));\n",
              "  --sklearn-color-icon: #696969;\n",
              "\n",
              "  @media (prefers-color-scheme: dark) {\n",
              "    /* Redefinition of color scheme for dark theme */\n",
              "    --sklearn-color-text-on-default-background: var(--sg-text-color, var(--theme-code-foreground, var(--jp-content-font-color1, white)));\n",
              "    --sklearn-color-background: var(--sg-background-color, var(--theme-background, var(--jp-layout-color0, #111)));\n",
              "    --sklearn-color-border-box: var(--sg-text-color, var(--theme-code-foreground, var(--jp-content-font-color1, white)));\n",
              "    --sklearn-color-icon: #878787;\n",
              "  }\n",
              "}\n",
              "\n",
              "#sk-container-id-2 {\n",
              "  color: var(--sklearn-color-text);\n",
              "}\n",
              "\n",
              "#sk-container-id-2 pre {\n",
              "  padding: 0;\n",
              "}\n",
              "\n",
              "#sk-container-id-2 input.sk-hidden--visually {\n",
              "  border: 0;\n",
              "  clip: rect(1px 1px 1px 1px);\n",
              "  clip: rect(1px, 1px, 1px, 1px);\n",
              "  height: 1px;\n",
              "  margin: -1px;\n",
              "  overflow: hidden;\n",
              "  padding: 0;\n",
              "  position: absolute;\n",
              "  width: 1px;\n",
              "}\n",
              "\n",
              "#sk-container-id-2 div.sk-dashed-wrapped {\n",
              "  border: 1px dashed var(--sklearn-color-line);\n",
              "  margin: 0 0.4em 0.5em 0.4em;\n",
              "  box-sizing: border-box;\n",
              "  padding-bottom: 0.4em;\n",
              "  background-color: var(--sklearn-color-background);\n",
              "}\n",
              "\n",
              "#sk-container-id-2 div.sk-container {\n",
              "  /* jupyter's `normalize.less` sets `[hidden] { display: none; }`\n",
              "     but bootstrap.min.css set `[hidden] { display: none !important; }`\n",
              "     so we also need the `!important` here to be able to override the\n",
              "     default hidden behavior on the sphinx rendered scikit-learn.org.\n",
              "     See: https://github.com/scikit-learn/scikit-learn/issues/21755 */\n",
              "  display: inline-block !important;\n",
              "  position: relative;\n",
              "}\n",
              "\n",
              "#sk-container-id-2 div.sk-text-repr-fallback {\n",
              "  display: none;\n",
              "}\n",
              "\n",
              "div.sk-parallel-item,\n",
              "div.sk-serial,\n",
              "div.sk-item {\n",
              "  /* draw centered vertical line to link estimators */\n",
              "  background-image: linear-gradient(var(--sklearn-color-text-on-default-background), var(--sklearn-color-text-on-default-background));\n",
              "  background-size: 2px 100%;\n",
              "  background-repeat: no-repeat;\n",
              "  background-position: center center;\n",
              "}\n",
              "\n",
              "/* Parallel-specific style estimator block */\n",
              "\n",
              "#sk-container-id-2 div.sk-parallel-item::after {\n",
              "  content: \"\";\n",
              "  width: 100%;\n",
              "  border-bottom: 2px solid var(--sklearn-color-text-on-default-background);\n",
              "  flex-grow: 1;\n",
              "}\n",
              "\n",
              "#sk-container-id-2 div.sk-parallel {\n",
              "  display: flex;\n",
              "  align-items: stretch;\n",
              "  justify-content: center;\n",
              "  background-color: var(--sklearn-color-background);\n",
              "  position: relative;\n",
              "}\n",
              "\n",
              "#sk-container-id-2 div.sk-parallel-item {\n",
              "  display: flex;\n",
              "  flex-direction: column;\n",
              "}\n",
              "\n",
              "#sk-container-id-2 div.sk-parallel-item:first-child::after {\n",
              "  align-self: flex-end;\n",
              "  width: 50%;\n",
              "}\n",
              "\n",
              "#sk-container-id-2 div.sk-parallel-item:last-child::after {\n",
              "  align-self: flex-start;\n",
              "  width: 50%;\n",
              "}\n",
              "\n",
              "#sk-container-id-2 div.sk-parallel-item:only-child::after {\n",
              "  width: 0;\n",
              "}\n",
              "\n",
              "/* Serial-specific style estimator block */\n",
              "\n",
              "#sk-container-id-2 div.sk-serial {\n",
              "  display: flex;\n",
              "  flex-direction: column;\n",
              "  align-items: center;\n",
              "  background-color: var(--sklearn-color-background);\n",
              "  padding-right: 1em;\n",
              "  padding-left: 1em;\n",
              "}\n",
              "\n",
              "\n",
              "/* Toggleable style: style used for estimator/Pipeline/ColumnTransformer box that is\n",
              "clickable and can be expanded/collapsed.\n",
              "- Pipeline and ColumnTransformer use this feature and define the default style\n",
              "- Estimators will overwrite some part of the style using the `sk-estimator` class\n",
              "*/\n",
              "\n",
              "/* Pipeline and ColumnTransformer style (default) */\n",
              "\n",
              "#sk-container-id-2 div.sk-toggleable {\n",
              "  /* Default theme specific background. It is overwritten whether we have a\n",
              "  specific estimator or a Pipeline/ColumnTransformer */\n",
              "  background-color: var(--sklearn-color-background);\n",
              "}\n",
              "\n",
              "/* Toggleable label */\n",
              "#sk-container-id-2 label.sk-toggleable__label {\n",
              "  cursor: pointer;\n",
              "  display: block;\n",
              "  width: 100%;\n",
              "  margin-bottom: 0;\n",
              "  padding: 0.5em;\n",
              "  box-sizing: border-box;\n",
              "  text-align: center;\n",
              "}\n",
              "\n",
              "#sk-container-id-2 label.sk-toggleable__label-arrow:before {\n",
              "  /* Arrow on the left of the label */\n",
              "  content: \"▸\";\n",
              "  float: left;\n",
              "  margin-right: 0.25em;\n",
              "  color: var(--sklearn-color-icon);\n",
              "}\n",
              "\n",
              "#sk-container-id-2 label.sk-toggleable__label-arrow:hover:before {\n",
              "  color: var(--sklearn-color-text);\n",
              "}\n",
              "\n",
              "/* Toggleable content - dropdown */\n",
              "\n",
              "#sk-container-id-2 div.sk-toggleable__content {\n",
              "  max-height: 0;\n",
              "  max-width: 0;\n",
              "  overflow: hidden;\n",
              "  text-align: left;\n",
              "  /* unfitted */\n",
              "  background-color: var(--sklearn-color-unfitted-level-0);\n",
              "}\n",
              "\n",
              "#sk-container-id-2 div.sk-toggleable__content.fitted {\n",
              "  /* fitted */\n",
              "  background-color: var(--sklearn-color-fitted-level-0);\n",
              "}\n",
              "\n",
              "#sk-container-id-2 div.sk-toggleable__content pre {\n",
              "  margin: 0.2em;\n",
              "  border-radius: 0.25em;\n",
              "  color: var(--sklearn-color-text);\n",
              "  /* unfitted */\n",
              "  background-color: var(--sklearn-color-unfitted-level-0);\n",
              "}\n",
              "\n",
              "#sk-container-id-2 div.sk-toggleable__content.fitted pre {\n",
              "  /* unfitted */\n",
              "  background-color: var(--sklearn-color-fitted-level-0);\n",
              "}\n",
              "\n",
              "#sk-container-id-2 input.sk-toggleable__control:checked~div.sk-toggleable__content {\n",
              "  /* Expand drop-down */\n",
              "  max-height: 200px;\n",
              "  max-width: 100%;\n",
              "  overflow: auto;\n",
              "}\n",
              "\n",
              "#sk-container-id-2 input.sk-toggleable__control:checked~label.sk-toggleable__label-arrow:before {\n",
              "  content: \"▾\";\n",
              "}\n",
              "\n",
              "/* Pipeline/ColumnTransformer-specific style */\n",
              "\n",
              "#sk-container-id-2 div.sk-label input.sk-toggleable__control:checked~label.sk-toggleable__label {\n",
              "  color: var(--sklearn-color-text);\n",
              "  background-color: var(--sklearn-color-unfitted-level-2);\n",
              "}\n",
              "\n",
              "#sk-container-id-2 div.sk-label.fitted input.sk-toggleable__control:checked~label.sk-toggleable__label {\n",
              "  background-color: var(--sklearn-color-fitted-level-2);\n",
              "}\n",
              "\n",
              "/* Estimator-specific style */\n",
              "\n",
              "/* Colorize estimator box */\n",
              "#sk-container-id-2 div.sk-estimator input.sk-toggleable__control:checked~label.sk-toggleable__label {\n",
              "  /* unfitted */\n",
              "  background-color: var(--sklearn-color-unfitted-level-2);\n",
              "}\n",
              "\n",
              "#sk-container-id-2 div.sk-estimator.fitted input.sk-toggleable__control:checked~label.sk-toggleable__label {\n",
              "  /* fitted */\n",
              "  background-color: var(--sklearn-color-fitted-level-2);\n",
              "}\n",
              "\n",
              "#sk-container-id-2 div.sk-label label.sk-toggleable__label,\n",
              "#sk-container-id-2 div.sk-label label {\n",
              "  /* The background is the default theme color */\n",
              "  color: var(--sklearn-color-text-on-default-background);\n",
              "}\n",
              "\n",
              "/* On hover, darken the color of the background */\n",
              "#sk-container-id-2 div.sk-label:hover label.sk-toggleable__label {\n",
              "  color: var(--sklearn-color-text);\n",
              "  background-color: var(--sklearn-color-unfitted-level-2);\n",
              "}\n",
              "\n",
              "/* Label box, darken color on hover, fitted */\n",
              "#sk-container-id-2 div.sk-label.fitted:hover label.sk-toggleable__label.fitted {\n",
              "  color: var(--sklearn-color-text);\n",
              "  background-color: var(--sklearn-color-fitted-level-2);\n",
              "}\n",
              "\n",
              "/* Estimator label */\n",
              "\n",
              "#sk-container-id-2 div.sk-label label {\n",
              "  font-family: monospace;\n",
              "  font-weight: bold;\n",
              "  display: inline-block;\n",
              "  line-height: 1.2em;\n",
              "}\n",
              "\n",
              "#sk-container-id-2 div.sk-label-container {\n",
              "  text-align: center;\n",
              "}\n",
              "\n",
              "/* Estimator-specific */\n",
              "#sk-container-id-2 div.sk-estimator {\n",
              "  font-family: monospace;\n",
              "  border: 1px dotted var(--sklearn-color-border-box);\n",
              "  border-radius: 0.25em;\n",
              "  box-sizing: border-box;\n",
              "  margin-bottom: 0.5em;\n",
              "  /* unfitted */\n",
              "  background-color: var(--sklearn-color-unfitted-level-0);\n",
              "}\n",
              "\n",
              "#sk-container-id-2 div.sk-estimator.fitted {\n",
              "  /* fitted */\n",
              "  background-color: var(--sklearn-color-fitted-level-0);\n",
              "}\n",
              "\n",
              "/* on hover */\n",
              "#sk-container-id-2 div.sk-estimator:hover {\n",
              "  /* unfitted */\n",
              "  background-color: var(--sklearn-color-unfitted-level-2);\n",
              "}\n",
              "\n",
              "#sk-container-id-2 div.sk-estimator.fitted:hover {\n",
              "  /* fitted */\n",
              "  background-color: var(--sklearn-color-fitted-level-2);\n",
              "}\n",
              "\n",
              "/* Specification for estimator info (e.g. \"i\" and \"?\") */\n",
              "\n",
              "/* Common style for \"i\" and \"?\" */\n",
              "\n",
              ".sk-estimator-doc-link,\n",
              "a:link.sk-estimator-doc-link,\n",
              "a:visited.sk-estimator-doc-link {\n",
              "  float: right;\n",
              "  font-size: smaller;\n",
              "  line-height: 1em;\n",
              "  font-family: monospace;\n",
              "  background-color: var(--sklearn-color-background);\n",
              "  border-radius: 1em;\n",
              "  height: 1em;\n",
              "  width: 1em;\n",
              "  text-decoration: none !important;\n",
              "  margin-left: 1ex;\n",
              "  /* unfitted */\n",
              "  border: var(--sklearn-color-unfitted-level-1) 1pt solid;\n",
              "  color: var(--sklearn-color-unfitted-level-1);\n",
              "}\n",
              "\n",
              ".sk-estimator-doc-link.fitted,\n",
              "a:link.sk-estimator-doc-link.fitted,\n",
              "a:visited.sk-estimator-doc-link.fitted {\n",
              "  /* fitted */\n",
              "  border: var(--sklearn-color-fitted-level-1) 1pt solid;\n",
              "  color: var(--sklearn-color-fitted-level-1);\n",
              "}\n",
              "\n",
              "/* On hover */\n",
              "div.sk-estimator:hover .sk-estimator-doc-link:hover,\n",
              ".sk-estimator-doc-link:hover,\n",
              "div.sk-label-container:hover .sk-estimator-doc-link:hover,\n",
              ".sk-estimator-doc-link:hover {\n",
              "  /* unfitted */\n",
              "  background-color: var(--sklearn-color-unfitted-level-3);\n",
              "  color: var(--sklearn-color-background);\n",
              "  text-decoration: none;\n",
              "}\n",
              "\n",
              "div.sk-estimator.fitted:hover .sk-estimator-doc-link.fitted:hover,\n",
              ".sk-estimator-doc-link.fitted:hover,\n",
              "div.sk-label-container:hover .sk-estimator-doc-link.fitted:hover,\n",
              ".sk-estimator-doc-link.fitted:hover {\n",
              "  /* fitted */\n",
              "  background-color: var(--sklearn-color-fitted-level-3);\n",
              "  color: var(--sklearn-color-background);\n",
              "  text-decoration: none;\n",
              "}\n",
              "\n",
              "/* Span, style for the box shown on hovering the info icon */\n",
              ".sk-estimator-doc-link span {\n",
              "  display: none;\n",
              "  z-index: 9999;\n",
              "  position: relative;\n",
              "  font-weight: normal;\n",
              "  right: .2ex;\n",
              "  padding: .5ex;\n",
              "  margin: .5ex;\n",
              "  width: min-content;\n",
              "  min-width: 20ex;\n",
              "  max-width: 50ex;\n",
              "  color: var(--sklearn-color-text);\n",
              "  box-shadow: 2pt 2pt 4pt #999;\n",
              "  /* unfitted */\n",
              "  background: var(--sklearn-color-unfitted-level-0);\n",
              "  border: .5pt solid var(--sklearn-color-unfitted-level-3);\n",
              "}\n",
              "\n",
              ".sk-estimator-doc-link.fitted span {\n",
              "  /* fitted */\n",
              "  background: var(--sklearn-color-fitted-level-0);\n",
              "  border: var(--sklearn-color-fitted-level-3);\n",
              "}\n",
              "\n",
              ".sk-estimator-doc-link:hover span {\n",
              "  display: block;\n",
              "}\n",
              "\n",
              "/* \"?\"-specific style due to the `<a>` HTML tag */\n",
              "\n",
              "#sk-container-id-2 a.estimator_doc_link {\n",
              "  float: right;\n",
              "  font-size: 1rem;\n",
              "  line-height: 1em;\n",
              "  font-family: monospace;\n",
              "  background-color: var(--sklearn-color-background);\n",
              "  border-radius: 1rem;\n",
              "  height: 1rem;\n",
              "  width: 1rem;\n",
              "  text-decoration: none;\n",
              "  /* unfitted */\n",
              "  color: var(--sklearn-color-unfitted-level-1);\n",
              "  border: var(--sklearn-color-unfitted-level-1) 1pt solid;\n",
              "}\n",
              "\n",
              "#sk-container-id-2 a.estimator_doc_link.fitted {\n",
              "  /* fitted */\n",
              "  border: var(--sklearn-color-fitted-level-1) 1pt solid;\n",
              "  color: var(--sklearn-color-fitted-level-1);\n",
              "}\n",
              "\n",
              "/* On hover */\n",
              "#sk-container-id-2 a.estimator_doc_link:hover {\n",
              "  /* unfitted */\n",
              "  background-color: var(--sklearn-color-unfitted-level-3);\n",
              "  color: var(--sklearn-color-background);\n",
              "  text-decoration: none;\n",
              "}\n",
              "\n",
              "#sk-container-id-2 a.estimator_doc_link.fitted:hover {\n",
              "  /* fitted */\n",
              "  background-color: var(--sklearn-color-fitted-level-3);\n",
              "}\n",
              "</style><div id=\"sk-container-id-2\" class=\"sk-top-container\"><div class=\"sk-text-repr-fallback\"><pre>Pipeline(memory=Memory(location=None),\n",
              "         steps=[(&#x27;numerical_imputer&#x27;,\n",
              "                 TransformerWrapper(include=[&#x27;movie_id&#x27;, &#x27;budget&#x27;,\n",
              "                                             &#x27;original_language&#x27;, &#x27;popularity&#x27;,\n",
              "                                             &#x27;runtime&#x27;, &#x27;status&#x27;, &#x27;release_day&#x27;,\n",
              "                                             &#x27;release_month&#x27;, &#x27;release_year&#x27;,\n",
              "                                             &#x27;Venezuela&#x27;, &#x27;Botswana&#x27;, &#x27;Kuwait&#x27;,\n",
              "                                             &#x27;Australia&#x27;, &#x27;Malta&#x27;, &#x27;Portugal&#x27;,\n",
              "                                             &#x27;Slovakia&#x27;, &#x27;Japan&#x27;, &#x27;Ireland&#x27;,\n",
              "                                             &#x27;Colombia&#x27;, &#x27;Belgium&#x27;, &#x27;Cyprus&#x27;,\n",
              "                                             &#x27;Canada&#x27;, &#x27;Luxembo...\n",
              "                                                                    &#x27;keywords&#x27;,\n",
              "                                                                    &#x27;cast&#x27;,\n",
              "                                                                    &#x27;crew&#x27;],\n",
              "                                                              handle_missing=&#x27;return_nan&#x27;))),\n",
              "                (&#x27;remove_outliers&#x27;,\n",
              "                 TransformerWrapper(transformer=RemoveOutliers(random_state=111))),\n",
              "                (&#x27;normalize&#x27;, TransformerWrapper(transformer=StandardScaler())),\n",
              "                (&#x27;clean_column_names&#x27;,\n",
              "                 TransformerWrapper(transformer=CleanColumnNames())),\n",
              "                (&#x27;actual_estimator&#x27;,\n",
              "                 ElasticNet(alpha=4.77, l1_ratio=0.291, random_state=111))])</pre><b>In a Jupyter environment, please rerun this cell to show the HTML representation or trust the notebook. <br />On GitHub, the HTML representation is unable to render, please try loading this page with nbviewer.org.</b></div><div class=\"sk-container\" hidden><div class=\"sk-item sk-dashed-wrapped\"><div class=\"sk-label-container\"><div class=\"sk-label fitted sk-toggleable\"><input class=\"sk-toggleable__control sk-hidden--visually\" id=\"sk-estimator-id-21\" type=\"checkbox\" ><label for=\"sk-estimator-id-21\" class=\"sk-toggleable__label fitted sk-toggleable__label-arrow fitted\">&nbsp;Pipeline<span class=\"sk-estimator-doc-link fitted\">i<span>Fitted</span></span></label><div class=\"sk-toggleable__content fitted\"><pre>Pipeline(memory=Memory(location=None),\n",
              "         steps=[(&#x27;numerical_imputer&#x27;,\n",
              "                 TransformerWrapper(include=[&#x27;movie_id&#x27;, &#x27;budget&#x27;,\n",
              "                                             &#x27;original_language&#x27;, &#x27;popularity&#x27;,\n",
              "                                             &#x27;runtime&#x27;, &#x27;status&#x27;, &#x27;release_day&#x27;,\n",
              "                                             &#x27;release_month&#x27;, &#x27;release_year&#x27;,\n",
              "                                             &#x27;Venezuela&#x27;, &#x27;Botswana&#x27;, &#x27;Kuwait&#x27;,\n",
              "                                             &#x27;Australia&#x27;, &#x27;Malta&#x27;, &#x27;Portugal&#x27;,\n",
              "                                             &#x27;Slovakia&#x27;, &#x27;Japan&#x27;, &#x27;Ireland&#x27;,\n",
              "                                             &#x27;Colombia&#x27;, &#x27;Belgium&#x27;, &#x27;Cyprus&#x27;,\n",
              "                                             &#x27;Canada&#x27;, &#x27;Luxembo...\n",
              "                                                                    &#x27;keywords&#x27;,\n",
              "                                                                    &#x27;cast&#x27;,\n",
              "                                                                    &#x27;crew&#x27;],\n",
              "                                                              handle_missing=&#x27;return_nan&#x27;))),\n",
              "                (&#x27;remove_outliers&#x27;,\n",
              "                 TransformerWrapper(transformer=RemoveOutliers(random_state=111))),\n",
              "                (&#x27;normalize&#x27;, TransformerWrapper(transformer=StandardScaler())),\n",
              "                (&#x27;clean_column_names&#x27;,\n",
              "                 TransformerWrapper(transformer=CleanColumnNames())),\n",
              "                (&#x27;actual_estimator&#x27;,\n",
              "                 ElasticNet(alpha=4.77, l1_ratio=0.291, random_state=111))])</pre></div> </div></div><div class=\"sk-serial\"><div class=\"sk-item sk-dashed-wrapped\"><div class=\"sk-label-container\"><div class=\"sk-label fitted sk-toggleable\"><input class=\"sk-toggleable__control sk-hidden--visually\" id=\"sk-estimator-id-22\" type=\"checkbox\" ><label for=\"sk-estimator-id-22\" class=\"sk-toggleable__label fitted sk-toggleable__label-arrow fitted\">numerical_imputer: TransformerWrapper</label><div class=\"sk-toggleable__content fitted\"><pre>TransformerWrapper(include=[&#x27;movie_id&#x27;, &#x27;budget&#x27;, &#x27;original_language&#x27;,\n",
              "                            &#x27;popularity&#x27;, &#x27;runtime&#x27;, &#x27;status&#x27;, &#x27;release_day&#x27;,\n",
              "                            &#x27;release_month&#x27;, &#x27;release_year&#x27;, &#x27;Venezuela&#x27;,\n",
              "                            &#x27;Botswana&#x27;, &#x27;Kuwait&#x27;, &#x27;Australia&#x27;, &#x27;Malta&#x27;,\n",
              "                            &#x27;Portugal&#x27;, &#x27;Slovakia&#x27;, &#x27;Japan&#x27;, &#x27;Ireland&#x27;,\n",
              "                            &#x27;Colombia&#x27;, &#x27;Belgium&#x27;, &#x27;Cyprus&#x27;, &#x27;Canada&#x27;,\n",
              "                            &#x27;Luxembourg&#x27;, &#x27;Lebanon&#x27;, &#x27;Bahamas&#x27;, &#x27;Peru&#x27;,\n",
              "                            &#x27;Singapore&#x27;, &#x27;Hong Kong&#x27;, &#x27;Saudi Arabia&#x27;,\n",
              "                            &#x27;Bulgaria&#x27;, ...],\n",
              "                   transformer=SimpleImputer())</pre></div> </div></div><div class=\"sk-parallel\"><div class=\"sk-parallel-item\"><div class=\"sk-item\"><div class=\"sk-label-container\"><div class=\"sk-label fitted sk-toggleable\"><input class=\"sk-toggleable__control sk-hidden--visually\" id=\"sk-estimator-id-23\" type=\"checkbox\" ><label for=\"sk-estimator-id-23\" class=\"sk-toggleable__label fitted sk-toggleable__label-arrow fitted\">transformer: SimpleImputer</label><div class=\"sk-toggleable__content fitted\"><pre>SimpleImputer()</pre></div> </div></div><div class=\"sk-serial\"><div class=\"sk-item\"><div class=\"sk-estimator fitted sk-toggleable\"><input class=\"sk-toggleable__control sk-hidden--visually\" id=\"sk-estimator-id-24\" type=\"checkbox\" ><label for=\"sk-estimator-id-24\" class=\"sk-toggleable__label fitted sk-toggleable__label-arrow fitted\">&nbsp;SimpleImputer<a class=\"sk-estimator-doc-link fitted\" rel=\"noreferrer\" target=\"_blank\" href=\"https://scikit-learn.org/1.4/modules/generated/sklearn.impute.SimpleImputer.html\">?<span>Documentation for SimpleImputer</span></a></label><div class=\"sk-toggleable__content fitted\"><pre>SimpleImputer()</pre></div> </div></div></div></div></div></div></div><div class=\"sk-item sk-dashed-wrapped\"><div class=\"sk-label-container\"><div class=\"sk-label fitted sk-toggleable\"><input class=\"sk-toggleable__control sk-hidden--visually\" id=\"sk-estimator-id-25\" type=\"checkbox\" ><label for=\"sk-estimator-id-25\" class=\"sk-toggleable__label fitted sk-toggleable__label-arrow fitted\">categorical_imputer: TransformerWrapper</label><div class=\"sk-toggleable__content fitted\"><pre>TransformerWrapper(include=[&#x27;imdb_id&#x27;, &#x27;movie_title&#x27;, &#x27;overview&#x27;,\n",
              "                            &#x27;production_companies&#x27;, &#x27;keywords&#x27;, &#x27;cast&#x27;,\n",
              "                            &#x27;crew&#x27;],\n",
              "                   transformer=SimpleImputer(strategy=&#x27;most_frequent&#x27;))</pre></div> </div></div><div class=\"sk-parallel\"><div class=\"sk-parallel-item\"><div class=\"sk-item\"><div class=\"sk-label-container\"><div class=\"sk-label fitted sk-toggleable\"><input class=\"sk-toggleable__control sk-hidden--visually\" id=\"sk-estimator-id-26\" type=\"checkbox\" ><label for=\"sk-estimator-id-26\" class=\"sk-toggleable__label fitted sk-toggleable__label-arrow fitted\">transformer: SimpleImputer</label><div class=\"sk-toggleable__content fitted\"><pre>SimpleImputer(strategy=&#x27;most_frequent&#x27;)</pre></div> </div></div><div class=\"sk-serial\"><div class=\"sk-item\"><div class=\"sk-estimator fitted sk-toggleable\"><input class=\"sk-toggleable__control sk-hidden--visually\" id=\"sk-estimator-id-27\" type=\"checkbox\" ><label for=\"sk-estimator-id-27\" class=\"sk-toggleable__label fitted sk-toggleable__label-arrow fitted\">&nbsp;SimpleImputer<a class=\"sk-estimator-doc-link fitted\" rel=\"noreferrer\" target=\"_blank\" href=\"https://scikit-learn.org/1.4/modules/generated/sklearn.impute.SimpleImputer.html\">?<span>Documentation for SimpleImputer</span></a></label><div class=\"sk-toggleable__content fitted\"><pre>SimpleImputer(strategy=&#x27;most_frequent&#x27;)</pre></div> </div></div></div></div></div></div></div><div class=\"sk-item sk-dashed-wrapped\"><div class=\"sk-label-container\"><div class=\"sk-label fitted sk-toggleable\"><input class=\"sk-toggleable__control sk-hidden--visually\" id=\"sk-estimator-id-28\" type=\"checkbox\" ><label for=\"sk-estimator-id-28\" class=\"sk-toggleable__label fitted sk-toggleable__label-arrow fitted\">rest_encoding: TransformerWrapper</label><div class=\"sk-toggleable__content fitted\"><pre>TransformerWrapper(include=[&#x27;imdb_id&#x27;, &#x27;movie_title&#x27;, &#x27;overview&#x27;,\n",
              "                            &#x27;production_companies&#x27;, &#x27;keywords&#x27;, &#x27;cast&#x27;,\n",
              "                            &#x27;crew&#x27;],\n",
              "                   transformer=TargetEncoder(cols=[&#x27;imdb_id&#x27;, &#x27;movie_title&#x27;,\n",
              "                                                   &#x27;overview&#x27;,\n",
              "                                                   &#x27;production_companies&#x27;,\n",
              "                                                   &#x27;keywords&#x27;, &#x27;cast&#x27;, &#x27;crew&#x27;],\n",
              "                                             handle_missing=&#x27;return_nan&#x27;))</pre></div> </div></div><div class=\"sk-parallel\"><div class=\"sk-parallel-item\"><div class=\"sk-item\"><div class=\"sk-label-container\"><div class=\"sk-label fitted sk-toggleable\"><input class=\"sk-toggleable__control sk-hidden--visually\" id=\"sk-estimator-id-29\" type=\"checkbox\" ><label for=\"sk-estimator-id-29\" class=\"sk-toggleable__label fitted sk-toggleable__label-arrow fitted\">transformer: TargetEncoder</label><div class=\"sk-toggleable__content fitted\"><pre>TargetEncoder(cols=[&#x27;imdb_id&#x27;, &#x27;movie_title&#x27;, &#x27;overview&#x27;,\n",
              "                    &#x27;production_companies&#x27;, &#x27;keywords&#x27;, &#x27;cast&#x27;, &#x27;crew&#x27;],\n",
              "              handle_missing=&#x27;return_nan&#x27;)</pre></div> </div></div><div class=\"sk-serial\"><div class=\"sk-item\"><div class=\"sk-estimator fitted sk-toggleable\"><input class=\"sk-toggleable__control sk-hidden--visually\" id=\"sk-estimator-id-30\" type=\"checkbox\" ><label for=\"sk-estimator-id-30\" class=\"sk-toggleable__label fitted sk-toggleable__label-arrow fitted\">TargetEncoder</label><div class=\"sk-toggleable__content fitted\"><pre>TargetEncoder(cols=[&#x27;imdb_id&#x27;, &#x27;movie_title&#x27;, &#x27;overview&#x27;,\n",
              "                    &#x27;production_companies&#x27;, &#x27;keywords&#x27;, &#x27;cast&#x27;, &#x27;crew&#x27;],\n",
              "              handle_missing=&#x27;return_nan&#x27;)</pre></div> </div></div></div></div></div></div></div><div class=\"sk-item sk-dashed-wrapped\"><div class=\"sk-label-container\"><div class=\"sk-label fitted sk-toggleable\"><input class=\"sk-toggleable__control sk-hidden--visually\" id=\"sk-estimator-id-31\" type=\"checkbox\" ><label for=\"sk-estimator-id-31\" class=\"sk-toggleable__label fitted sk-toggleable__label-arrow fitted\">remove_outliers: TransformerWrapper</label><div class=\"sk-toggleable__content fitted\"><pre>TransformerWrapper(transformer=RemoveOutliers(random_state=111))</pre></div> </div></div><div class=\"sk-parallel\"><div class=\"sk-parallel-item\"><div class=\"sk-item\"><div class=\"sk-label-container\"><div class=\"sk-label fitted sk-toggleable\"><input class=\"sk-toggleable__control sk-hidden--visually\" id=\"sk-estimator-id-32\" type=\"checkbox\" ><label for=\"sk-estimator-id-32\" class=\"sk-toggleable__label fitted sk-toggleable__label-arrow fitted\">transformer: RemoveOutliers</label><div class=\"sk-toggleable__content fitted\"><pre>RemoveOutliers(random_state=111)</pre></div> </div></div><div class=\"sk-serial\"><div class=\"sk-item\"><div class=\"sk-estimator fitted sk-toggleable\"><input class=\"sk-toggleable__control sk-hidden--visually\" id=\"sk-estimator-id-33\" type=\"checkbox\" ><label for=\"sk-estimator-id-33\" class=\"sk-toggleable__label fitted sk-toggleable__label-arrow fitted\">RemoveOutliers</label><div class=\"sk-toggleable__content fitted\"><pre>RemoveOutliers(random_state=111)</pre></div> </div></div></div></div></div></div></div><div class=\"sk-item sk-dashed-wrapped\"><div class=\"sk-label-container\"><div class=\"sk-label fitted sk-toggleable\"><input class=\"sk-toggleable__control sk-hidden--visually\" id=\"sk-estimator-id-34\" type=\"checkbox\" ><label for=\"sk-estimator-id-34\" class=\"sk-toggleable__label fitted sk-toggleable__label-arrow fitted\">normalize: TransformerWrapper</label><div class=\"sk-toggleable__content fitted\"><pre>TransformerWrapper(transformer=StandardScaler())</pre></div> </div></div><div class=\"sk-parallel\"><div class=\"sk-parallel-item\"><div class=\"sk-item\"><div class=\"sk-label-container\"><div class=\"sk-label fitted sk-toggleable\"><input class=\"sk-toggleable__control sk-hidden--visually\" id=\"sk-estimator-id-35\" type=\"checkbox\" ><label for=\"sk-estimator-id-35\" class=\"sk-toggleable__label fitted sk-toggleable__label-arrow fitted\">transformer: StandardScaler</label><div class=\"sk-toggleable__content fitted\"><pre>StandardScaler()</pre></div> </div></div><div class=\"sk-serial\"><div class=\"sk-item\"><div class=\"sk-estimator fitted sk-toggleable\"><input class=\"sk-toggleable__control sk-hidden--visually\" id=\"sk-estimator-id-36\" type=\"checkbox\" ><label for=\"sk-estimator-id-36\" class=\"sk-toggleable__label fitted sk-toggleable__label-arrow fitted\">&nbsp;StandardScaler<a class=\"sk-estimator-doc-link fitted\" rel=\"noreferrer\" target=\"_blank\" href=\"https://scikit-learn.org/1.4/modules/generated/sklearn.preprocessing.StandardScaler.html\">?<span>Documentation for StandardScaler</span></a></label><div class=\"sk-toggleable__content fitted\"><pre>StandardScaler()</pre></div> </div></div></div></div></div></div></div><div class=\"sk-item sk-dashed-wrapped\"><div class=\"sk-label-container\"><div class=\"sk-label fitted sk-toggleable\"><input class=\"sk-toggleable__control sk-hidden--visually\" id=\"sk-estimator-id-37\" type=\"checkbox\" ><label for=\"sk-estimator-id-37\" class=\"sk-toggleable__label fitted sk-toggleable__label-arrow fitted\">clean_column_names: TransformerWrapper</label><div class=\"sk-toggleable__content fitted\"><pre>TransformerWrapper(transformer=CleanColumnNames())</pre></div> </div></div><div class=\"sk-parallel\"><div class=\"sk-parallel-item\"><div class=\"sk-item\"><div class=\"sk-label-container\"><div class=\"sk-label fitted sk-toggleable\"><input class=\"sk-toggleable__control sk-hidden--visually\" id=\"sk-estimator-id-38\" type=\"checkbox\" ><label for=\"sk-estimator-id-38\" class=\"sk-toggleable__label fitted sk-toggleable__label-arrow fitted\">transformer: CleanColumnNames</label><div class=\"sk-toggleable__content fitted\"><pre>CleanColumnNames()</pre></div> </div></div><div class=\"sk-serial\"><div class=\"sk-item\"><div class=\"sk-estimator fitted sk-toggleable\"><input class=\"sk-toggleable__control sk-hidden--visually\" id=\"sk-estimator-id-39\" type=\"checkbox\" ><label for=\"sk-estimator-id-39\" class=\"sk-toggleable__label fitted sk-toggleable__label-arrow fitted\">CleanColumnNames</label><div class=\"sk-toggleable__content fitted\"><pre>CleanColumnNames()</pre></div> </div></div></div></div></div></div></div><div class=\"sk-item\"><div class=\"sk-estimator fitted sk-toggleable\"><input class=\"sk-toggleable__control sk-hidden--visually\" id=\"sk-estimator-id-40\" type=\"checkbox\" ><label for=\"sk-estimator-id-40\" class=\"sk-toggleable__label fitted sk-toggleable__label-arrow fitted\">&nbsp;ElasticNet<a class=\"sk-estimator-doc-link fitted\" rel=\"noreferrer\" target=\"_blank\" href=\"https://scikit-learn.org/1.4/modules/generated/sklearn.linear_model.ElasticNet.html\">?<span>Documentation for ElasticNet</span></a></label><div class=\"sk-toggleable__content fitted\"><pre>ElasticNet(alpha=4.77, l1_ratio=0.291, random_state=111)</pre></div> </div></div></div></div></div></div>"
            ]
          },
          "metadata": {},
          "execution_count": 141
        }
      ]
    },
    {
      "cell_type": "code",
      "source": [
        "# Evaluate the model on the train set\n",
        "evaluate_model(final_model)"
      ],
      "metadata": {
        "colab": {
          "base_uri": "https://localhost:8080/",
          "height": 154,
          "referenced_widgets": [
            "36ef165859ce4610b3a58c50dd5c783b",
            "f02cf526837a44e899cb2a27df0a3adb",
            "219364ad6ef64c5fbb5f5dd1c1dcaa4c",
            "e7a66b28aed9437aaaa3d3e13e2649a3",
            "99426f9253af4e7bb0ab1b06feaffacf",
            "101d49d5d16b450e92e9a105b9b95ae3",
            "8d42598e85734133930793ec369d2955"
          ]
        },
        "id": "n7QWt0PLCOWF",
        "outputId": "808cdc95-d098-4299-a70d-90f991643e98"
      },
      "execution_count": 142,
      "outputs": [
        {
          "output_type": "display_data",
          "data": {
            "text/plain": [
              "interactive(children=(ToggleButtons(description='Plot Type:', icons=('',), options=(('Pipeline Plot', 'pipelin…"
            ],
            "application/vnd.jupyter.widget-view+json": {
              "version_major": 2,
              "version_minor": 0,
              "model_id": "36ef165859ce4610b3a58c50dd5c783b"
            }
          },
          "metadata": {
            "application/vnd.jupyter.widget-view+json": {
              "colab": {
                "custom_widget_manager": {
                  "url": "https://ssl.gstatic.com/colaboratory-static/widgets/colab-cdn-widget-manager/2b70e893a8ba7c0f/manager.min.js"
                }
              }
            }
          }
        }
      ]
    },
    {
      "cell_type": "code",
      "source": [
        "# Plot various evaluation metrics\n",
        "plot_model(final_model)\n"
      ],
      "metadata": {
        "colab": {
          "base_uri": "https://localhost:8080/",
          "height": 524
        },
        "id": "IzjvjQWlCTjQ",
        "outputId": "aad5c44d-73a3-46b3-9379-f124436e58e7"
      },
      "execution_count": 143,
      "outputs": [
        {
          "output_type": "display_data",
          "data": {
            "text/plain": [
              "<IPython.core.display.HTML object>"
            ],
            "text/html": []
          },
          "metadata": {}
        },
        {
          "output_type": "display_data",
          "data": {
            "text/plain": [
              "<Figure size 800x550 with 2 Axes>"
            ],
            "image/png": "[encoded data removed]"
          },
          "metadata": {}
        }
      ]
    },
    {
      "cell_type": "code",
      "source": [
        "plot_model(final_model, plot='error')"
      ],
      "metadata": {
        "colab": {
          "base_uri": "https://localhost:8080/",
          "height": 526
        },
        "id": "1H3S3AqtCVTn",
        "outputId": "9efc818a-84af-468f-f409-db2483afe88f"
      },
      "execution_count": 144,
      "outputs": [
        {
          "output_type": "display_data",
          "data": {
            "text/plain": [
              "<IPython.core.display.HTML object>"
            ],
            "text/html": []
          },
          "metadata": {}
        },
        {
          "output_type": "display_data",
          "data": {
            "text/plain": [
              "<Figure size 800x550 with 1 Axes>"
            ],
            "image/png": "[encoded data removed]"
          },
          "metadata": {}
        }
      ]
    },
    {
      "cell_type": "code",
      "source": [
        "plot_model(final_model, plot='feature')"
      ],
      "metadata": {
        "id": "-l0NjNlPCVXX",
        "colab": {
          "base_uri": "https://localhost:8080/",
          "height": 485
        },
        "outputId": "23be873a-c4d2-4b2c-a4a0-666b1eb30b9a"
      },
      "execution_count": 145,
      "outputs": [
        {
          "output_type": "display_data",
          "data": {
            "text/plain": [
              "<IPython.core.display.HTML object>"
            ],
            "text/html": []
          },
          "metadata": {}
        },
        {
          "output_type": "display_data",
          "data": {
            "text/plain": [
              "<Figure size 800x500 with 1 Axes>"
            ],
            "image/png": "[encoded data removed]"
          },
          "metadata": {}
        }
      ]
    },
    {
      "cell_type": "code",
      "source": [
        "# plot_model(final_model)"
      ],
      "metadata": {
        "id": "GeFKglPgCTmH"
      },
      "execution_count": 146,
      "outputs": []
    },
    {
      "cell_type": "code",
      "source": [
        "# Plotting Budget vs. Revenue After Model Training:\n",
        "\n",
        "# We plot budget vs. revenue again, including both actual and predicted values to see how well the model is working."
      ],
      "metadata": {
        "id": "mGVVVgi4e9y-"
      },
      "execution_count": 147,
      "outputs": []
    },
    {
      "cell_type": "code",
      "source": [
        "# # Plotting budget vs revenue after model training\n",
        "# plt.figure(figsize=(10, 6))\n",
        "# sns.scatterplot(data=df, x='budget', y='revenue')\n",
        "# plt.title('Budget vs Revenue')\n",
        "# plt.xlabel('Budget')\n",
        "# plt.ylabel('Revenue')\n",
        "# plt.show()\n",
        "\n"
      ],
      "metadata": {
        "id": "ctENAKiSM6qB"
      },
      "execution_count": 148,
      "outputs": []
    },
    {
      "cell_type": "code",
      "source": [],
      "metadata": {
        "id": "oO3yqAcfCfJx"
      },
      "execution_count": 148,
      "outputs": []
    },
    {
      "cell_type": "markdown",
      "source": [],
      "metadata": {
        "id": "QlYdNqooaBru"
      }
    },
    {
      "cell_type": "code",
      "source": [
        "# Make predictions on the train set\n",
        "predictions_train = predict_model(final_model)\n",
        "\n",
        "# Extract relevant columns and round the prediction labels for train set\n",
        "train_predictions = predictions_train[['movie_id', 'revenue', 'prediction_label']].copy()\n",
        "train_predictions['prediction_label'] = train_predictions['prediction_label'].round(1)\n",
        "\n"
      ],
      "metadata": {
        "colab": {
          "base_uri": "https://localhost:8080/",
          "height": 80
        },
        "id": "uH3Jw5yefKTC",
        "outputId": "db759628-7f91-4209-c794-70ba33475a7c"
      },
      "execution_count": 149,
      "outputs": [
        {
          "output_type": "display_data",
          "data": {
            "text/plain": [
              "<pandas.io.formats.style.Styler at 0x7ea8af7253c0>"
            ],
            "text/html": [
              "<style type=\"text/css\">\n",
              "</style>\n",
              "<table id=\"T_3ef87\" class=\"dataframe\">\n",
              "  <thead>\n",
              "    <tr>\n",
              "      <th class=\"blank level0\" >&nbsp;</th>\n",
              "      <th id=\"T_3ef87_level0_col0\" class=\"col_heading level0 col0\" >Model</th>\n",
              "      <th id=\"T_3ef87_level0_col1\" class=\"col_heading level0 col1\" >MAE</th>\n",
              "      <th id=\"T_3ef87_level0_col2\" class=\"col_heading level0 col2\" >MSE</th>\n",
              "      <th id=\"T_3ef87_level0_col3\" class=\"col_heading level0 col3\" >RMSE</th>\n",
              "      <th id=\"T_3ef87_level0_col4\" class=\"col_heading level0 col4\" >R2</th>\n",
              "      <th id=\"T_3ef87_level0_col5\" class=\"col_heading level0 col5\" >RMSLE</th>\n",
              "      <th id=\"T_3ef87_level0_col6\" class=\"col_heading level0 col6\" >MAPE</th>\n",
              "    </tr>\n",
              "  </thead>\n",
              "  <tbody>\n",
              "    <tr>\n",
              "      <th id=\"T_3ef87_level0_row0\" class=\"row_heading level0 row0\" >0</th>\n",
              "      <td id=\"T_3ef87_row0_col0\" class=\"data row0 col0\" >Elastic Net</td>\n",
              "      <td id=\"T_3ef87_row0_col1\" class=\"data row0 col1\" >118874944.6114</td>\n",
              "      <td id=\"T_3ef87_row0_col2\" class=\"data row0 col2\" >32575945387358724.0000</td>\n",
              "      <td id=\"T_3ef87_row0_col3\" class=\"data row0 col3\" >180488075.4714</td>\n",
              "      <td id=\"T_3ef87_row0_col4\" class=\"data row0 col4\" >0.1530</td>\n",
              "      <td id=\"T_3ef87_row0_col5\" class=\"data row0 col5\" >2.0498</td>\n",
              "      <td id=\"T_3ef87_row0_col6\" class=\"data row0 col6\" >78.9599</td>\n",
              "    </tr>\n",
              "  </tbody>\n",
              "</table>\n"
            ]
          },
          "metadata": {}
        }
      ]
    },
    {
      "cell_type": "code",
      "source": [
        "# Print the filtered DataFrame for train predictions\n",
        "print(\"Train predictions:\")\n",
        "(train_predictions)"
      ],
      "metadata": {
        "colab": {
          "base_uri": "https://localhost:8080/",
          "height": 441
        },
        "id": "dEvijOzKbs1y",
        "outputId": "23a4fbb7-4e66-4645-c753-019dfe8a23a6"
      },
      "execution_count": 150,
      "outputs": [
        {
          "output_type": "stream",
          "name": "stdout",
          "text": [
            "Train predictions:\n"
          ]
        },
        {
          "output_type": "execute_result",
          "data": {
            "text/plain": [
              "      movie_id    revenue  prediction_label\n",
              "1835       985    7000000       130726805.7\n",
              "1183      7191  170764026       142269862.7\n",
              "2852    798286   11500000       156568685.5\n",
              "1840    338762   39861118       149826259.5\n",
              "3086      1251   68673228       145370576.8\n",
              "...        ...        ...               ...\n",
              "280     274870  303144152       143381035.9\n",
              "3623     24420  101344412       143041717.7\n",
              "1810    283235    1411927       135447083.7\n",
              "2312      9942   75000000       136027272.4\n",
              "1334    668482   35600000       145202661.0\n",
              "\n",
              "[1192 rows x 3 columns]"
            ],
            "text/html": [
              "\n",
              "  <div id=\"df-b8203e2d-3b14-4161-bb57-32344cb02012\" class=\"colab-df-container\">\n",
              "    <div>\n",
              "<style scoped>\n",
              "    .dataframe tbody tr th:only-of-type {\n",
              "        vertical-align: middle;\n",
              "    }\n",
              "\n",
              "    .dataframe tbody tr th {\n",
              "        vertical-align: top;\n",
              "    }\n",
              "\n",
              "    .dataframe thead th {\n",
              "        text-align: right;\n",
              "    }\n",
              "</style>\n",
              "<table border=\"1\" class=\"dataframe\">\n",
              "  <thead>\n",
              "    <tr style=\"text-align: right;\">\n",
              "      <th></th>\n",
              "      <th>movie_id</th>\n",
              "      <th>revenue</th>\n",
              "      <th>prediction_label</th>\n",
              "    </tr>\n",
              "  </thead>\n",
              "  <tbody>\n",
              "    <tr>\n",
              "      <th>1835</th>\n",
              "      <td>985</td>\n",
              "      <td>7000000</td>\n",
              "      <td>130726805.7</td>\n",
              "    </tr>\n",
              "    <tr>\n",
              "      <th>1183</th>\n",
              "      <td>7191</td>\n",
              "      <td>170764026</td>\n",
              "      <td>142269862.7</td>\n",
              "    </tr>\n",
              "    <tr>\n",
              "      <th>2852</th>\n",
              "      <td>798286</td>\n",
              "      <td>11500000</td>\n",
              "      <td>156568685.5</td>\n",
              "    </tr>\n",
              "    <tr>\n",
              "      <th>1840</th>\n",
              "      <td>338762</td>\n",
              "      <td>39861118</td>\n",
              "      <td>149826259.5</td>\n",
              "    </tr>\n",
              "    <tr>\n",
              "      <th>3086</th>\n",
              "      <td>1251</td>\n",
              "      <td>68673228</td>\n",
              "      <td>145370576.8</td>\n",
              "    </tr>\n",
              "    <tr>\n",
              "      <th>...</th>\n",
              "      <td>...</td>\n",
              "      <td>...</td>\n",
              "      <td>...</td>\n",
              "    </tr>\n",
              "    <tr>\n",
              "      <th>280</th>\n",
              "      <td>274870</td>\n",
              "      <td>303144152</td>\n",
              "      <td>143381035.9</td>\n",
              "    </tr>\n",
              "    <tr>\n",
              "      <th>3623</th>\n",
              "      <td>24420</td>\n",
              "      <td>101344412</td>\n",
              "      <td>143041717.7</td>\n",
              "    </tr>\n",
              "    <tr>\n",
              "      <th>1810</th>\n",
              "      <td>283235</td>\n",
              "      <td>1411927</td>\n",
              "      <td>135447083.7</td>\n",
              "    </tr>\n",
              "    <tr>\n",
              "      <th>2312</th>\n",
              "      <td>9942</td>\n",
              "      <td>75000000</td>\n",
              "      <td>136027272.4</td>\n",
              "    </tr>\n",
              "    <tr>\n",
              "      <th>1334</th>\n",
              "      <td>668482</td>\n",
              "      <td>35600000</td>\n",
              "      <td>145202661.0</td>\n",
              "    </tr>\n",
              "  </tbody>\n",
              "</table>\n",
              "<p>1192 rows × 3 columns</p>\n",
              "</div>\n",
              "    <div class=\"colab-df-buttons\">\n",
              "\n",
              "  <div class=\"colab-df-container\">\n",
              "    <button class=\"colab-df-convert\" onclick=\"convertToInteractive('df-b8203e2d-3b14-4161-bb57-32344cb02012')\"\n",
              "            title=\"Convert this dataframe to an interactive table.\"\n",
              "            style=\"display:none;\">\n",
              "\n",
              "  <svg xmlns=\"http://www.w3.org/2000/svg\" height=\"24px\" viewBox=\"0 -960 960 960\">\n",
              "    <path d=\"M120-120v-720h720v720H120Zm60-500h600v-160H180v160Zm220 220h160v-160H400v160Zm0 220h160v-160H400v160ZM180-400h160v-160H180v160Zm440 0h160v-160H620v160ZM180-180h160v-160H180v160Zm440 0h160v-160H620v160Z\"/>\n",
              "  </svg>\n",
              "    </button>\n",
              "\n",
              "  <style>\n",
              "    .colab-df-container {\n",
              "      display:flex;\n",
              "      gap: 12px;\n",
              "    }\n",
              "\n",
              "    .colab-df-convert {\n",
              "      background-color: #E8F0FE;\n",
              "      border: none;\n",
              "      border-radius: 50%;\n",
              "      cursor: pointer;\n",
              "      display: none;\n",
              "      fill: #1967D2;\n",
              "      height: 32px;\n",
              "      padding: 0 0 0 0;\n",
              "      width: 32px;\n",
              "    }\n",
              "\n",
              "    .colab-df-convert:hover {\n",
              "      background-color: #E2EBFA;\n",
              "      box-shadow: 0px 1px 2px rgba(60, 64, 67, 0.3), 0px 1px 3px 1px rgba(60, 64, 67, 0.15);\n",
              "      fill: #174EA6;\n",
              "    }\n",
              "\n",
              "    .colab-df-buttons div {\n",
              "      margin-bottom: 4px;\n",
              "    }\n",
              "\n",
              "    [theme=dark] .colab-df-convert {\n",
              "      background-color: #3B4455;\n",
              "      fill: #D2E3FC;\n",
              "    }\n",
              "\n",
              "    [theme=dark] .colab-df-convert:hover {\n",
              "      background-color: #434B5C;\n",
              "      box-shadow: 0px 1px 3px 1px rgba(0, 0, 0, 0.15);\n",
              "      filter: drop-shadow(0px 1px 2px rgba(0, 0, 0, 0.3));\n",
              "      fill: #FFFFFF;\n",
              "    }\n",
              "  </style>\n",
              "\n",
              "    <script>\n",
              "      const buttonEl =\n",
              "        document.querySelector('#df-b8203e2d-3b14-4161-bb57-32344cb02012 button.colab-df-convert');\n",
              "      buttonEl.style.display =\n",
              "        google.colab.kernel.accessAllowed ? 'block' : 'none';\n",
              "\n",
              "      async function convertToInteractive(key) {\n",
              "        const element = document.querySelector('#df-b8203e2d-3b14-4161-bb57-32344cb02012');\n",
              "        const dataTable =\n",
              "          await google.colab.kernel.invokeFunction('convertToInteractive',\n",
              "                                                    [key], {});\n",
              "        if (!dataTable) return;\n",
              "\n",
              "        const docLinkHtml = 'Like what you see? Visit the ' +\n",
              "          '<a target=\"_blank\" href=https://colab.research.google.com/notebooks/data_table.ipynb>data table notebook</a>'\n",
              "          + ' to learn more about interactive tables.';\n",
              "        element.innerHTML = '';\n",
              "        dataTable['output_type'] = 'display_data';\n",
              "        await google.colab.output.renderOutput(dataTable, element);\n",
              "        const docLink = document.createElement('div');\n",
              "        docLink.innerHTML = docLinkHtml;\n",
              "        element.appendChild(docLink);\n",
              "      }\n",
              "    </script>\n",
              "  </div>\n",
              "\n",
              "\n",
              "<div id=\"df-515e3f9f-aebb-49e4-a723-d0f34b48d8f8\">\n",
              "  <button class=\"colab-df-quickchart\" onclick=\"quickchart('df-515e3f9f-aebb-49e4-a723-d0f34b48d8f8')\"\n",
              "            title=\"Suggest charts\"\n",
              "            style=\"display:none;\">\n",
              "\n",
              "<svg xmlns=\"http://www.w3.org/2000/svg\" height=\"24px\"viewBox=\"0 0 24 24\"\n",
              "     width=\"24px\">\n",
              "    <g>\n",
              "        <path d=\"M19 3H5c-1.1 0-2 .9-2 2v14c0 1.1.9 2 2 2h14c1.1 0 2-.9 2-2V5c0-1.1-.9-2-2-2zM9 17H7v-7h2v7zm4 0h-2V7h2v10zm4 0h-2v-4h2v4z\"/>\n",
              "    </g>\n",
              "</svg>\n",
              "  </button>\n",
              "\n",
              "<style>\n",
              "  .colab-df-quickchart {\n",
              "      --bg-color: #E8F0FE;\n",
              "      --fill-color: #1967D2;\n",
              "      --hover-bg-color: #E2EBFA;\n",
              "      --hover-fill-color: #174EA6;\n",
              "      --disabled-fill-color: #AAA;\n",
              "      --disabled-bg-color: #DDD;\n",
              "  }\n",
              "\n",
              "  [theme=dark] .colab-df-quickchart {\n",
              "      --bg-color: #3B4455;\n",
              "      --fill-color: #D2E3FC;\n",
              "      --hover-bg-color: #434B5C;\n",
              "      --hover-fill-color: #FFFFFF;\n",
              "      --disabled-bg-color: #3B4455;\n",
              "      --disabled-fill-color: #666;\n",
              "  }\n",
              "\n",
              "  .colab-df-quickchart {\n",
              "    background-color: var(--bg-color);\n",
              "    border: none;\n",
              "    border-radius: 50%;\n",
              "    cursor: pointer;\n",
              "    display: none;\n",
              "    fill: var(--fill-color);\n",
              "    height: 32px;\n",
              "    padding: 0;\n",
              "    width: 32px;\n",
              "  }\n",
              "\n",
              "  .colab-df-quickchart:hover {\n",
              "    background-color: var(--hover-bg-color);\n",
              "    box-shadow: 0 1px 2px rgba(60, 64, 67, 0.3), 0 1px 3px 1px rgba(60, 64, 67, 0.15);\n",
              "    fill: var(--button-hover-fill-color);\n",
              "  }\n",
              "\n",
              "  .colab-df-quickchart-complete:disabled,\n",
              "  .colab-df-quickchart-complete:disabled:hover {\n",
              "    background-color: var(--disabled-bg-color);\n",
              "    fill: var(--disabled-fill-color);\n",
              "    box-shadow: none;\n",
              "  }\n",
              "\n",
              "  .colab-df-spinner {\n",
              "    border: 2px solid var(--fill-color);\n",
              "    border-color: transparent;\n",
              "    border-bottom-color: var(--fill-color);\n",
              "    animation:\n",
              "      spin 1s steps(1) infinite;\n",
              "  }\n",
              "\n",
              "  @keyframes spin {\n",
              "    0% {\n",
              "      border-color: transparent;\n",
              "      border-bottom-color: var(--fill-color);\n",
              "      border-left-color: var(--fill-color);\n",
              "    }\n",
              "    20% {\n",
              "      border-color: transparent;\n",
              "      border-left-color: var(--fill-color);\n",
              "      border-top-color: var(--fill-color);\n",
              "    }\n",
              "    30% {\n",
              "      border-color: transparent;\n",
              "      border-left-color: var(--fill-color);\n",
              "      border-top-color: var(--fill-color);\n",
              "      border-right-color: var(--fill-color);\n",
              "    }\n",
              "    40% {\n",
              "      border-color: transparent;\n",
              "      border-right-color: var(--fill-color);\n",
              "      border-top-color: var(--fill-color);\n",
              "    }\n",
              "    60% {\n",
              "      border-color: transparent;\n",
              "      border-right-color: var(--fill-color);\n",
              "    }\n",
              "    80% {\n",
              "      border-color: transparent;\n",
              "      border-right-color: var(--fill-color);\n",
              "      border-bottom-color: var(--fill-color);\n",
              "    }\n",
              "    90% {\n",
              "      border-color: transparent;\n",
              "      border-bottom-color: var(--fill-color);\n",
              "    }\n",
              "  }\n",
              "</style>\n",
              "\n",
              "  <script>\n",
              "    async function quickchart(key) {\n",
              "      const quickchartButtonEl =\n",
              "        document.querySelector('#' + key + ' button');\n",
              "      quickchartButtonEl.disabled = true;  // To prevent multiple clicks.\n",
              "      quickchartButtonEl.classList.add('colab-df-spinner');\n",
              "      try {\n",
              "        const charts = await google.colab.kernel.invokeFunction(\n",
              "            'suggestCharts', [key], {});\n",
              "      } catch (error) {\n",
              "        console.error('Error during call to suggestCharts:', error);\n",
              "      }\n",
              "      quickchartButtonEl.classList.remove('colab-df-spinner');\n",
              "      quickchartButtonEl.classList.add('colab-df-quickchart-complete');\n",
              "    }\n",
              "    (() => {\n",
              "      let quickchartButtonEl =\n",
              "        document.querySelector('#df-515e3f9f-aebb-49e4-a723-d0f34b48d8f8 button');\n",
              "      quickchartButtonEl.style.display =\n",
              "        google.colab.kernel.accessAllowed ? 'block' : 'none';\n",
              "    })();\n",
              "  </script>\n",
              "</div>\n",
              "\n",
              "  <div id=\"id_880fcb8b-075c-40ff-b5c9-31a1d28672ad\">\n",
              "    <style>\n",
              "      .colab-df-generate {\n",
              "        background-color: #E8F0FE;\n",
              "        border: none;\n",
              "        border-radius: 50%;\n",
              "        cursor: pointer;\n",
              "        display: none;\n",
              "        fill: #1967D2;\n",
              "        height: 32px;\n",
              "        padding: 0 0 0 0;\n",
              "        width: 32px;\n",
              "      }\n",
              "\n",
              "      .colab-df-generate:hover {\n",
              "        background-color: #E2EBFA;\n",
              "        box-shadow: 0px 1px 2px rgba(60, 64, 67, 0.3), 0px 1px 3px 1px rgba(60, 64, 67, 0.15);\n",
              "        fill: #174EA6;\n",
              "      }\n",
              "\n",
              "      [theme=dark] .colab-df-generate {\n",
              "        background-color: #3B4455;\n",
              "        fill: #D2E3FC;\n",
              "      }\n",
              "\n",
              "      [theme=dark] .colab-df-generate:hover {\n",
              "        background-color: #434B5C;\n",
              "        box-shadow: 0px 1px 3px 1px rgba(0, 0, 0, 0.15);\n",
              "        filter: drop-shadow(0px 1px 2px rgba(0, 0, 0, 0.3));\n",
              "        fill: #FFFFFF;\n",
              "      }\n",
              "    </style>\n",
              "    <button class=\"colab-df-generate\" onclick=\"generateWithVariable('train_predictions')\"\n",
              "            title=\"Generate code using this dataframe.\"\n",
              "            style=\"display:none;\">\n",
              "\n",
              "  <svg xmlns=\"http://www.w3.org/2000/svg\" height=\"24px\"viewBox=\"0 0 24 24\"\n",
              "       width=\"24px\">\n",
              "    <path d=\"M7,19H8.4L18.45,9,17,7.55,7,17.6ZM5,21V16.75L18.45,3.32a2,2,0,0,1,2.83,0l1.4,1.43a1.91,1.91,0,0,1,.58,1.4,1.91,1.91,0,0,1-.58,1.4L9.25,21ZM18.45,9,17,7.55Zm-12,3A5.31,5.31,0,0,0,4.9,8.1,5.31,5.31,0,0,0,1,6.5,5.31,5.31,0,0,0,4.9,4.9,5.31,5.31,0,0,0,6.5,1,5.31,5.31,0,0,0,8.1,4.9,5.31,5.31,0,0,0,12,6.5,5.46,5.46,0,0,0,6.5,12Z\"/>\n",
              "  </svg>\n",
              "    </button>\n",
              "    <script>\n",
              "      (() => {\n",
              "      const buttonEl =\n",
              "        document.querySelector('#id_880fcb8b-075c-40ff-b5c9-31a1d28672ad button.colab-df-generate');\n",
              "      buttonEl.style.display =\n",
              "        google.colab.kernel.accessAllowed ? 'block' : 'none';\n",
              "\n",
              "      buttonEl.onclick = () => {\n",
              "        google.colab.notebook.generateWithVariable('train_predictions');\n",
              "      }\n",
              "      })();\n",
              "    </script>\n",
              "  </div>\n",
              "\n",
              "    </div>\n",
              "  </div>\n"
            ],
            "application/vnd.google.colaboratory.intrinsic+json": {
              "type": "dataframe",
              "variable_name": "train_predictions",
              "summary": "{\n  \"name\": \"train_predictions\",\n  \"rows\": 1192,\n  \"fields\": [\n    {\n      \"column\": \"movie_id\",\n      \"properties\": {\n        \"dtype\": \"int32\",\n        \"num_unique_values\": 1192,\n        \"samples\": [\n          629542,\n          13537,\n          10141\n        ],\n        \"semantic_type\": \"\",\n        \"description\": \"\"\n      }\n    },\n    {\n      \"column\": \"revenue\",\n      \"properties\": {\n        \"dtype\": \"number\",\n        \"std\": 196197956,\n        \"min\": 5303,\n        \"max\": 1515400000,\n        \"num_unique_values\": 1073,\n        \"samples\": [\n          27379978,\n          4700000,\n          845600000\n        ],\n        \"semantic_type\": \"\",\n        \"description\": \"\"\n      }\n    },\n    {\n      \"column\": \"prediction_label\",\n      \"properties\": {\n        \"dtype\": \"number\",\n        \"std\": 23921725.053900324,\n        \"min\": 82775839.3,\n        \"max\": 317189745.1,\n        \"num_unique_values\": 1192,\n        \"samples\": [\n          166621576.9,\n          126497344.7,\n          128279365.2\n        ],\n        \"semantic_type\": \"\",\n        \"description\": \"\"\n      }\n    }\n  ]\n}"
            }
          },
          "metadata": {},
          "execution_count": 150
        }
      ]
    },
    {
      "cell_type": "code",
      "source": [
        "# Plotting budget vs revenue with predictions to see how well the model is working\n",
        "plt.figure(figsize=(10, 6))\n",
        "sns.scatterplot(data=df, x='budget', y='revenue', label='Actual')\n",
        "# sns.scatterplot(data=train_predictions, x=df['budget'], y='prediction_label', label='Predicted') # Change data2 to data\n",
        "plt.title('Budget vs Revenue ')\n",
        "plt.xlabel('Budget')\n",
        "plt.ylabel('Revenue')\n",
        "plt.legend()\n",
        "plt.show()"
      ],
      "metadata": {
        "colab": {
          "base_uri": "https://localhost:8080/",
          "height": 562
        },
        "id": "Fop0eOCsMd6U",
        "outputId": "dd684d68-a00b-41fd-ebc2-ceb83794808b"
      },
      "execution_count": 151,
      "outputs": [
        {
          "output_type": "display_data",
          "data": {
            "text/plain": [
              "<Figure size 1000x600 with 1 Axes>"
            ],
            "image/png": "[encoded data removed]"
          },
          "metadata": {}
        }
      ]
    },
    {
      "cell_type": "code",
      "source": [],
      "metadata": {
        "id": "rbxrTb0ybs4E"
      },
      "execution_count": 151,
      "outputs": []
    },
    {
      "cell_type": "code",
      "source": [],
      "metadata": {
        "id": "kIvpVlYTzPNf"
      },
      "execution_count": 151,
      "outputs": []
    },
    {
      "cell_type": "code",
      "source": [],
      "metadata": {
        "id": "BWOeybc5SS8M"
      },
      "execution_count": 151,
      "outputs": []
    },
    {
      "cell_type": "code",
      "source": [],
      "metadata": {
        "id": "OFopSemKffCq"
      },
      "execution_count": 151,
      "outputs": []
    },
    {
      "cell_type": "code",
      "source": [
        "# # Extract relevant columns\n",
        "# revenue_predictions = predictions[['movie_id', 'revenue', 'prediction_label']]\n",
        "\n",
        "# # Round the prediction labels to 1 decimal place\n",
        "# revenue_predictions['prediction_label'] = revenue_predictions['prediction_label'].round(1)\n",
        "\n",
        "# # Print the filtered DataFrame\n",
        "# print(\"Revenue predictions:\")\n",
        "# print(revenue_predictions)"
      ],
      "metadata": {
        "id": "sRSlA3dfffFH"
      },
      "execution_count": 152,
      "outputs": []
    },
    {
      "cell_type": "code",
      "source": [
        "# revenue_predictions"
      ],
      "metadata": {
        "id": "DPhVHQ8eff2B"
      },
      "execution_count": 153,
      "outputs": []
    },
    {
      "cell_type": "code",
      "source": [
        "# test data"
      ],
      "metadata": {
        "id": "q6w395zvnqcM"
      },
      "execution_count": 154,
      "outputs": []
    },
    {
      "cell_type": "code",
      "source": [
        "# # test data csv file\n",
        "\n",
        "# file_path_test_data = '/content/drive/MyDrive/intern sy/infy_2024_ML/official/official submitted data sy/milestone new/3 g/test_df_normalization_131_cols.csv'\n",
        "\n",
        "# # Load your dataset into a pandas DataFrame\n",
        "# df_test = pd.read_csv(file_path_test_data)\n",
        "\n",
        "# df_test.head(2)\n"
      ],
      "metadata": {
        "id": "Yl6h9oVWnqe4"
      },
      "execution_count": 155,
      "outputs": []
    },
    {
      "cell_type": "code",
      "source": [
        "# df_test.shape"
      ],
      "metadata": {
        "id": "c0xxhboBnqhU"
      },
      "execution_count": 156,
      "outputs": []
    },
    {
      "cell_type": "code",
      "source": [
        "# df_test.info()"
      ],
      "metadata": {
        "id": "trzdhnlzom9O"
      },
      "execution_count": 157,
      "outputs": []
    },
    {
      "cell_type": "code",
      "source": [
        "# df_test.columns"
      ],
      "metadata": {
        "id": "oHhMiZefff4d"
      },
      "execution_count": 158,
      "outputs": []
    },
    {
      "cell_type": "code",
      "source": [
        "df_test.shape"
      ],
      "metadata": {
        "colab": {
          "base_uri": "https://localhost:8080/"
        },
        "id": "ViQCfy-ezspv",
        "outputId": "a38659d1-635a-463d-b63b-5b6158f8f759"
      },
      "execution_count": 159,
      "outputs": [
        {
          "output_type": "execute_result",
          "data": {
            "text/plain": [
              "(1003, 168)"
            ]
          },
          "metadata": {},
          "execution_count": 159
        }
      ]
    },
    {
      "cell_type": "code",
      "source": [
        "df.shape"
      ],
      "metadata": {
        "colab": {
          "base_uri": "https://localhost:8080/"
        },
        "id": "agB1jl_vODpk",
        "outputId": "aa42e571-9305-45b9-c426-a8eaf7c3000c"
      },
      "execution_count": 160,
      "outputs": [
        {
          "output_type": "execute_result",
          "data": {
            "text/plain": [
              "(3973, 169)"
            ]
          },
          "metadata": {},
          "execution_count": 160
        }
      ]
    },
    {
      "cell_type": "markdown",
      "source": [
        "# Q4* check for any missing columns in test data(compare with training data) and add missing columns with null values *"
      ],
      "metadata": {
        "id": "uqEQrHASanSf"
      }
    },
    {
      "cell_type": "code",
      "source": [
        "# ANS OF Q4"
      ],
      "metadata": {
        "id": "pdIMPD5dasvl"
      },
      "execution_count": 161,
      "outputs": []
    },
    {
      "cell_type": "code",
      "source": [
        "# Convert columns to lists\n",
        "train_columns = df.columns.tolist()\n",
        "test_columns = df_test.columns.tolist()\n",
        "\n",
        "# Remove 'revenue' from train columns if present\n",
        "if 'revenue' in train_columns:\n",
        "    train_columns.remove('revenue')\n",
        "\n",
        "\n",
        "# train data missing cols\n",
        "# Find columns in test data that are not in train data\n",
        "missing_columns_in_train = [col for col in test_columns if col not in train_columns]\n",
        "\n",
        "missing_columns_in_train"
      ],
      "metadata": {
        "colab": {
          "base_uri": "https://localhost:8080/"
        },
        "id": "Xq1ONWqxLSXt",
        "outputId": "abc44532-c41f-4a22-a0ea-6ded3aca838c"
      },
      "execution_count": 162,
      "outputs": [
        {
          "output_type": "execute_result",
          "data": {
            "text/plain": [
              "[]"
            ]
          },
          "metadata": {},
          "execution_count": 162
        }
      ]
    },
    {
      "cell_type": "code",
      "source": [
        "len(missing_columns_in_train)"
      ],
      "metadata": {
        "colab": {
          "base_uri": "https://localhost:8080/"
        },
        "id": "q88GLIc-C47h",
        "outputId": "82556d56-f725-455c-8069-175c39e443bb"
      },
      "execution_count": 163,
      "outputs": [
        {
          "output_type": "execute_result",
          "data": {
            "text/plain": [
              "0"
            ]
          },
          "metadata": {},
          "execution_count": 163
        }
      ]
    },
    {
      "cell_type": "code",
      "source": [
        "# # Add missing columns to train data with None values\n",
        "# for col in missing_columns_in_train:\n",
        "#     df[col] = None"
      ],
      "metadata": {
        "id": "xvQpMr0iPoN_"
      },
      "execution_count": 164,
      "outputs": []
    },
    {
      "cell_type": "code",
      "source": [
        "# df.shape"
      ],
      "metadata": {
        "id": "N6-nN1W1Psbf"
      },
      "execution_count": 165,
      "outputs": []
    },
    {
      "cell_type": "code",
      "source": [
        "# missing cols in test data\n",
        "# Find columns in train data that are not in test data\n",
        "missing_columns_in_test = [col for col in train_columns if col not in test_columns]\n",
        "\n",
        "missing_columns_in_test"
      ],
      "metadata": {
        "colab": {
          "base_uri": "https://localhost:8080/"
        },
        "id": "uf_cnA_zPgce",
        "outputId": "d3f1b0c2-0a28-4d84-b6a7-19986f7a5885"
      },
      "execution_count": 166,
      "outputs": [
        {
          "output_type": "execute_result",
          "data": {
            "text/plain": [
              "[]"
            ]
          },
          "metadata": {},
          "execution_count": 166
        }
      ]
    },
    {
      "cell_type": "code",
      "source": [],
      "metadata": {
        "id": "NGIejDX4RK7F"
      },
      "execution_count": 166,
      "outputs": []
    },
    {
      "cell_type": "code",
      "source": [
        "len(missing_columns_in_test)"
      ],
      "metadata": {
        "colab": {
          "base_uri": "https://localhost:8080/"
        },
        "id": "OgO2LRTVRPX1",
        "outputId": "3ae73eb2-ec60-46c4-f616-ed9aee11859d"
      },
      "execution_count": 167,
      "outputs": [
        {
          "output_type": "execute_result",
          "data": {
            "text/plain": [
              "0"
            ]
          },
          "metadata": {},
          "execution_count": 167
        }
      ]
    },
    {
      "cell_type": "code",
      "source": [
        "# Add missing columns to test data with None values\n",
        "for col in missing_columns_in_test:\n",
        "    df_test[col] = None"
      ],
      "metadata": {
        "id": "TNgA8rK5N7G6"
      },
      "execution_count": 168,
      "outputs": []
    },
    {
      "cell_type": "code",
      "source": [
        "df_test.shape"
      ],
      "metadata": {
        "colab": {
          "base_uri": "https://localhost:8080/"
        },
        "id": "ObfZEQNGOrb0",
        "outputId": "cc593591-fff3-438e-c343-188793d984b7"
      },
      "execution_count": 169,
      "outputs": [
        {
          "output_type": "execute_result",
          "data": {
            "text/plain": [
              "(1003, 168)"
            ]
          },
          "metadata": {},
          "execution_count": 169
        }
      ]
    },
    {
      "cell_type": "code",
      "source": [
        "df.shape\n"
      ],
      "metadata": {
        "colab": {
          "base_uri": "https://localhost:8080/"
        },
        "id": "NP3uU_9zO8gH",
        "outputId": "53a5bf00-5520-4e5f-ab93-de6507a9431d"
      },
      "execution_count": 170,
      "outputs": [
        {
          "output_type": "execute_result",
          "data": {
            "text/plain": [
              "(3973, 169)"
            ]
          },
          "metadata": {},
          "execution_count": 170
        }
      ]
    },
    {
      "cell_type": "code",
      "source": [
        "# List of columns to be removed from the test data\n",
        "cols_to_remove = [\n",
        "    'Nigeria', 'Albania', 'Macao', 'Jordan', 'Namibia', 'Tunisia', 'Qatar',\n",
        "    'Palestinian Territory', 'Yugoslavia', 'Unnamed: 74', 'Malti'\n",
        "]\n",
        "\n",
        "# Remove the specified columns from the test data\n",
        "df_test = df_test.drop(columns=cols_to_remove, errors='ignore')\n",
        "\n",
        "# Verify the columns are removed\n",
        "df_test.columns\n"
      ],
      "metadata": {
        "colab": {
          "base_uri": "https://localhost:8080/"
        },
        "id": "maDEYnY2_6jW",
        "outputId": "428c1da3-34c9-46c2-8922-59e7062d14eb"
      },
      "execution_count": 171,
      "outputs": [
        {
          "output_type": "execute_result",
          "data": {
            "text/plain": [
              "Index(['movie_id', 'budget', 'movie_url', 'imdb_id', 'original_language',\n",
              "       'movie_title', 'overview', 'popularity', 'poster_path',\n",
              "       'production_companies',\n",
              "       ...\n",
              "       'euskera', 'Slovenčina', 'suomi', 'தமிழ்', 'Srpski', 'Lietuvių',\n",
              "       'Český', 'Eesti', 'বাংলা', 'Somali'],\n",
              "      dtype='object', length=168)"
            ]
          },
          "metadata": {},
          "execution_count": 171
        }
      ]
    },
    {
      "cell_type": "code",
      "source": [
        "# # Convert columns to lists\n",
        "# train_columns = df.columns.tolist()\n",
        "# test_columns = df_test.columns.tolist()\n",
        "\n",
        "# # Remove 'revenue' from train columns if present\n",
        "# if 'revenue' in train_columns:\n",
        "#     train_columns.remove('revenue')"
      ],
      "metadata": {
        "id": "SO0a5mI3Rnx3"
      },
      "execution_count": 172,
      "outputs": []
    },
    {
      "cell_type": "code",
      "source": [
        "# # Find columns in train data that are not in test data\n",
        "# missing_columns_in_test = [col for col in train_columns if col not in test_columns]\n",
        "\n",
        "# missing_columns_in_test"
      ],
      "metadata": {
        "id": "G91COIZQO8ma"
      },
      "execution_count": 173,
      "outputs": []
    },
    {
      "cell_type": "code",
      "source": [
        "df.shape\n",
        "# REVENUE extra col"
      ],
      "metadata": {
        "colab": {
          "base_uri": "https://localhost:8080/"
        },
        "id": "3Uiv3VHmPSQe",
        "outputId": "e406208d-32b4-4522-ef6d-e5f22d104c8f"
      },
      "execution_count": 174,
      "outputs": [
        {
          "output_type": "execute_result",
          "data": {
            "text/plain": [
              "(3973, 169)"
            ]
          },
          "metadata": {},
          "execution_count": 174
        }
      ]
    },
    {
      "cell_type": "code",
      "source": [
        "df_test.shape"
      ],
      "metadata": {
        "colab": {
          "base_uri": "https://localhost:8080/"
        },
        "id": "Gjbwte-kPVCS",
        "outputId": "672fa753-9edb-4af2-d8db-d8b79449ce0a"
      },
      "execution_count": 175,
      "outputs": [
        {
          "output_type": "execute_result",
          "data": {
            "text/plain": [
              "(1003, 168)"
            ]
          },
          "metadata": {},
          "execution_count": 175
        }
      ]
    },
    {
      "cell_type": "code",
      "source": [
        "df_test.head(2)"
      ],
      "metadata": {
        "colab": {
          "base_uri": "https://localhost:8080/",
          "height": 335
        },
        "id": "1r0vNsiYNonm",
        "outputId": "cd9997f2-ee30-4787-9d2d-1dfb2de84e4b"
      },
      "execution_count": 176,
      "outputs": [
        {
          "output_type": "execute_result",
          "data": {
            "text/plain": [
              "   movie_id    budget                               movie_url    imdb_id  \\\n",
              "0     41210  19000000  https://www.themoviedb.org/movie/41210  tt0889573   \n",
              "1       281  42000000             http://www.strange-days.com  tt0114558   \n",
              "\n",
              "   original_language   movie_title  \\\n",
              "0                  0    The Switch   \n",
              "1                  0  Strange Days   \n",
              "\n",
              "                                            overview  popularity  \\\n",
              "0  Kassie is a smart, fun-loving single woman who...      37.077   \n",
              "1  Former policeman Lenny Nero has moved into a m...      28.075   \n",
              "\n",
              "                        poster_path  \\\n",
              "0  /lQZpZHLafAfYwogCF23lnfPQmIh.jpg   \n",
              "1  /rY5BrDRcYAKE0BYmmT66YG6Uy5Q.jpg   \n",
              "\n",
              "                                production_companies  ...  euskera  \\\n",
              "0  Mandate Pictures, Echo Films, Miramax, Bona Fi...  ...     None   \n",
              "1         20th Century Fox, Lightstorm Entertainment  ...     None   \n",
              "\n",
              "   Slovenčina suomi தமிழ் Srpski Lietuvių Český  Eesti  বাংলা  Somali  \n",
              "0        None  None  None   None     None  None   None   None    None  \n",
              "1        None  None  None   None     None  None   None   None    None  \n",
              "\n",
              "[2 rows x 168 columns]"
            ],
            "text/html": [
              "\n",
              "  <div id=\"df-7c4682b0-0384-4b47-b221-642ced485a6c\" class=\"colab-df-container\">\n",
              "    <div>\n",
              "<style scoped>\n",
              "    .dataframe tbody tr th:only-of-type {\n",
              "        vertical-align: middle;\n",
              "    }\n",
              "\n",
              "    .dataframe tbody tr th {\n",
              "        vertical-align: top;\n",
              "    }\n",
              "\n",
              "    .dataframe thead th {\n",
              "        text-align: right;\n",
              "    }\n",
              "</style>\n",
              "<table border=\"1\" class=\"dataframe\">\n",
              "  <thead>\n",
              "    <tr style=\"text-align: right;\">\n",
              "      <th></th>\n",
              "      <th>movie_id</th>\n",
              "      <th>budget</th>\n",
              "      <th>movie_url</th>\n",
              "      <th>imdb_id</th>\n",
              "      <th>original_language</th>\n",
              "      <th>movie_title</th>\n",
              "      <th>overview</th>\n",
              "      <th>popularity</th>\n",
              "      <th>poster_path</th>\n",
              "      <th>production_companies</th>\n",
              "      <th>...</th>\n",
              "      <th>euskera</th>\n",
              "      <th>Slovenčina</th>\n",
              "      <th>suomi</th>\n",
              "      <th>தமிழ்</th>\n",
              "      <th>Srpski</th>\n",
              "      <th>Lietuvių</th>\n",
              "      <th>Český</th>\n",
              "      <th>Eesti</th>\n",
              "      <th>বাংলা</th>\n",
              "      <th>Somali</th>\n",
              "    </tr>\n",
              "  </thead>\n",
              "  <tbody>\n",
              "    <tr>\n",
              "      <th>0</th>\n",
              "      <td>41210</td>\n",
              "      <td>19000000</td>\n",
              "      <td>https://www.themoviedb.org/movie/41210</td>\n",
              "      <td>tt0889573</td>\n",
              "      <td>0</td>\n",
              "      <td>The Switch</td>\n",
              "      <td>Kassie is a smart, fun-loving single woman who...</td>\n",
              "      <td>37.077</td>\n",
              "      <td>/lQZpZHLafAfYwogCF23lnfPQmIh.jpg</td>\n",
              "      <td>Mandate Pictures, Echo Films, Miramax, Bona Fi...</td>\n",
              "      <td>...</td>\n",
              "      <td>None</td>\n",
              "      <td>None</td>\n",
              "      <td>None</td>\n",
              "      <td>None</td>\n",
              "      <td>None</td>\n",
              "      <td>None</td>\n",
              "      <td>None</td>\n",
              "      <td>None</td>\n",
              "      <td>None</td>\n",
              "      <td>None</td>\n",
              "    </tr>\n",
              "    <tr>\n",
              "      <th>1</th>\n",
              "      <td>281</td>\n",
              "      <td>42000000</td>\n",
              "      <td>http://www.strange-days.com</td>\n",
              "      <td>tt0114558</td>\n",
              "      <td>0</td>\n",
              "      <td>Strange Days</td>\n",
              "      <td>Former policeman Lenny Nero has moved into a m...</td>\n",
              "      <td>28.075</td>\n",
              "      <td>/rY5BrDRcYAKE0BYmmT66YG6Uy5Q.jpg</td>\n",
              "      <td>20th Century Fox, Lightstorm Entertainment</td>\n",
              "      <td>...</td>\n",
              "      <td>None</td>\n",
              "      <td>None</td>\n",
              "      <td>None</td>\n",
              "      <td>None</td>\n",
              "      <td>None</td>\n",
              "      <td>None</td>\n",
              "      <td>None</td>\n",
              "      <td>None</td>\n",
              "      <td>None</td>\n",
              "      <td>None</td>\n",
              "    </tr>\n",
              "  </tbody>\n",
              "</table>\n",
              "<p>2 rows × 168 columns</p>\n",
              "</div>\n",
              "    <div class=\"colab-df-buttons\">\n",
              "\n",
              "  <div class=\"colab-df-container\">\n",
              "    <button class=\"colab-df-convert\" onclick=\"convertToInteractive('df-7c4682b0-0384-4b47-b221-642ced485a6c')\"\n",
              "            title=\"Convert this dataframe to an interactive table.\"\n",
              "            style=\"display:none;\">\n",
              "\n",
              "  <svg xmlns=\"http://www.w3.org/2000/svg\" height=\"24px\" viewBox=\"0 -960 960 960\">\n",
              "    <path d=\"M120-120v-720h720v720H120Zm60-500h600v-160H180v160Zm220 220h160v-160H400v160Zm0 220h160v-160H400v160ZM180-400h160v-160H180v160Zm440 0h160v-160H620v160ZM180-180h160v-160H180v160Zm440 0h160v-160H620v160Z\"/>\n",
              "  </svg>\n",
              "    </button>\n",
              "\n",
              "  <style>\n",
              "    .colab-df-container {\n",
              "      display:flex;\n",
              "      gap: 12px;\n",
              "    }\n",
              "\n",
              "    .colab-df-convert {\n",
              "      background-color: #E8F0FE;\n",
              "      border: none;\n",
              "      border-radius: 50%;\n",
              "      cursor: pointer;\n",
              "      display: none;\n",
              "      fill: #1967D2;\n",
              "      height: 32px;\n",
              "      padding: 0 0 0 0;\n",
              "      width: 32px;\n",
              "    }\n",
              "\n",
              "    .colab-df-convert:hover {\n",
              "      background-color: #E2EBFA;\n",
              "      box-shadow: 0px 1px 2px rgba(60, 64, 67, 0.3), 0px 1px 3px 1px rgba(60, 64, 67, 0.15);\n",
              "      fill: #174EA6;\n",
              "    }\n",
              "\n",
              "    .colab-df-buttons div {\n",
              "      margin-bottom: 4px;\n",
              "    }\n",
              "\n",
              "    [theme=dark] .colab-df-convert {\n",
              "      background-color: #3B4455;\n",
              "      fill: #D2E3FC;\n",
              "    }\n",
              "\n",
              "    [theme=dark] .colab-df-convert:hover {\n",
              "      background-color: #434B5C;\n",
              "      box-shadow: 0px 1px 3px 1px rgba(0, 0, 0, 0.15);\n",
              "      filter: drop-shadow(0px 1px 2px rgba(0, 0, 0, 0.3));\n",
              "      fill: #FFFFFF;\n",
              "    }\n",
              "  </style>\n",
              "\n",
              "    <script>\n",
              "      const buttonEl =\n",
              "        document.querySelector('#df-7c4682b0-0384-4b47-b221-642ced485a6c button.colab-df-convert');\n",
              "      buttonEl.style.display =\n",
              "        google.colab.kernel.accessAllowed ? 'block' : 'none';\n",
              "\n",
              "      async function convertToInteractive(key) {\n",
              "        const element = document.querySelector('#df-7c4682b0-0384-4b47-b221-642ced485a6c');\n",
              "        const dataTable =\n",
              "          await google.colab.kernel.invokeFunction('convertToInteractive',\n",
              "                                                    [key], {});\n",
              "        if (!dataTable) return;\n",
              "\n",
              "        const docLinkHtml = 'Like what you see? Visit the ' +\n",
              "          '<a target=\"_blank\" href=https://colab.research.google.com/notebooks/data_table.ipynb>data table notebook</a>'\n",
              "          + ' to learn more about interactive tables.';\n",
              "        element.innerHTML = '';\n",
              "        dataTable['output_type'] = 'display_data';\n",
              "        await google.colab.output.renderOutput(dataTable, element);\n",
              "        const docLink = document.createElement('div');\n",
              "        docLink.innerHTML = docLinkHtml;\n",
              "        element.appendChild(docLink);\n",
              "      }\n",
              "    </script>\n",
              "  </div>\n",
              "\n",
              "\n",
              "<div id=\"df-7bb82105-d3b9-439e-a53e-58669b250887\">\n",
              "  <button class=\"colab-df-quickchart\" onclick=\"quickchart('df-7bb82105-d3b9-439e-a53e-58669b250887')\"\n",
              "            title=\"Suggest charts\"\n",
              "            style=\"display:none;\">\n",
              "\n",
              "<svg xmlns=\"http://www.w3.org/2000/svg\" height=\"24px\"viewBox=\"0 0 24 24\"\n",
              "     width=\"24px\">\n",
              "    <g>\n",
              "        <path d=\"M19 3H5c-1.1 0-2 .9-2 2v14c0 1.1.9 2 2 2h14c1.1 0 2-.9 2-2V5c0-1.1-.9-2-2-2zM9 17H7v-7h2v7zm4 0h-2V7h2v10zm4 0h-2v-4h2v4z\"/>\n",
              "    </g>\n",
              "</svg>\n",
              "  </button>\n",
              "\n",
              "<style>\n",
              "  .colab-df-quickchart {\n",
              "      --bg-color: #E8F0FE;\n",
              "      --fill-color: #1967D2;\n",
              "      --hover-bg-color: #E2EBFA;\n",
              "      --hover-fill-color: #174EA6;\n",
              "      --disabled-fill-color: #AAA;\n",
              "      --disabled-bg-color: #DDD;\n",
              "  }\n",
              "\n",
              "  [theme=dark] .colab-df-quickchart {\n",
              "      --bg-color: #3B4455;\n",
              "      --fill-color: #D2E3FC;\n",
              "      --hover-bg-color: #434B5C;\n",
              "      --hover-fill-color: #FFFFFF;\n",
              "      --disabled-bg-color: #3B4455;\n",
              "      --disabled-fill-color: #666;\n",
              "  }\n",
              "\n",
              "  .colab-df-quickchart {\n",
              "    background-color: var(--bg-color);\n",
              "    border: none;\n",
              "    border-radius: 50%;\n",
              "    cursor: pointer;\n",
              "    display: none;\n",
              "    fill: var(--fill-color);\n",
              "    height: 32px;\n",
              "    padding: 0;\n",
              "    width: 32px;\n",
              "  }\n",
              "\n",
              "  .colab-df-quickchart:hover {\n",
              "    background-color: var(--hover-bg-color);\n",
              "    box-shadow: 0 1px 2px rgba(60, 64, 67, 0.3), 0 1px 3px 1px rgba(60, 64, 67, 0.15);\n",
              "    fill: var(--button-hover-fill-color);\n",
              "  }\n",
              "\n",
              "  .colab-df-quickchart-complete:disabled,\n",
              "  .colab-df-quickchart-complete:disabled:hover {\n",
              "    background-color: var(--disabled-bg-color);\n",
              "    fill: var(--disabled-fill-color);\n",
              "    box-shadow: none;\n",
              "  }\n",
              "\n",
              "  .colab-df-spinner {\n",
              "    border: 2px solid var(--fill-color);\n",
              "    border-color: transparent;\n",
              "    border-bottom-color: var(--fill-color);\n",
              "    animation:\n",
              "      spin 1s steps(1) infinite;\n",
              "  }\n",
              "\n",
              "  @keyframes spin {\n",
              "    0% {\n",
              "      border-color: transparent;\n",
              "      border-bottom-color: var(--fill-color);\n",
              "      border-left-color: var(--fill-color);\n",
              "    }\n",
              "    20% {\n",
              "      border-color: transparent;\n",
              "      border-left-color: var(--fill-color);\n",
              "      border-top-color: var(--fill-color);\n",
              "    }\n",
              "    30% {\n",
              "      border-color: transparent;\n",
              "      border-left-color: var(--fill-color);\n",
              "      border-top-color: var(--fill-color);\n",
              "      border-right-color: var(--fill-color);\n",
              "    }\n",
              "    40% {\n",
              "      border-color: transparent;\n",
              "      border-right-color: var(--fill-color);\n",
              "      border-top-color: var(--fill-color);\n",
              "    }\n",
              "    60% {\n",
              "      border-color: transparent;\n",
              "      border-right-color: var(--fill-color);\n",
              "    }\n",
              "    80% {\n",
              "      border-color: transparent;\n",
              "      border-right-color: var(--fill-color);\n",
              "      border-bottom-color: var(--fill-color);\n",
              "    }\n",
              "    90% {\n",
              "      border-color: transparent;\n",
              "      border-bottom-color: var(--fill-color);\n",
              "    }\n",
              "  }\n",
              "</style>\n",
              "\n",
              "  <script>\n",
              "    async function quickchart(key) {\n",
              "      const quickchartButtonEl =\n",
              "        document.querySelector('#' + key + ' button');\n",
              "      quickchartButtonEl.disabled = true;  // To prevent multiple clicks.\n",
              "      quickchartButtonEl.classList.add('colab-df-spinner');\n",
              "      try {\n",
              "        const charts = await google.colab.kernel.invokeFunction(\n",
              "            'suggestCharts', [key], {});\n",
              "      } catch (error) {\n",
              "        console.error('Error during call to suggestCharts:', error);\n",
              "      }\n",
              "      quickchartButtonEl.classList.remove('colab-df-spinner');\n",
              "      quickchartButtonEl.classList.add('colab-df-quickchart-complete');\n",
              "    }\n",
              "    (() => {\n",
              "      let quickchartButtonEl =\n",
              "        document.querySelector('#df-7bb82105-d3b9-439e-a53e-58669b250887 button');\n",
              "      quickchartButtonEl.style.display =\n",
              "        google.colab.kernel.accessAllowed ? 'block' : 'none';\n",
              "    })();\n",
              "  </script>\n",
              "</div>\n",
              "\n",
              "    </div>\n",
              "  </div>\n"
            ],
            "application/vnd.google.colaboratory.intrinsic+json": {
              "type": "dataframe",
              "variable_name": "df_test"
            }
          },
          "metadata": {},
          "execution_count": 176
        }
      ]
    },
    {
      "cell_type": "code",
      "source": [
        "df.head(2)"
      ],
      "metadata": {
        "colab": {
          "base_uri": "https://localhost:8080/",
          "height": 317
        },
        "id": "1dHLprLiMlSY",
        "outputId": "75c3a35b-5f65-4924-c5ae-94b81aabc25b"
      },
      "execution_count": 177,
      "outputs": [
        {
          "output_type": "execute_result",
          "data": {
            "text/plain": [
              "   movie_id     budget                                          movie_url  \\\n",
              "0    653346  160000000  https://www.20thcenturystudios.com/movies/king...   \n",
              "1    929590   50000000               https://a24films.com/films/civil-war   \n",
              "\n",
              "      imdb_id  original_language                        movie_title  \\\n",
              "0  tt11389872                  1  Kingdom of the Planet of the Apes   \n",
              "1  tt17279496                  1                          Civil War   \n",
              "\n",
              "                                            overview  popularity  \\\n",
              "0  Several generations in the future following Ca...    6245.898   \n",
              "1  In the near future, a group of war journalists...    2730.901   \n",
              "\n",
              "                        poster_path  \\\n",
              "0  /gKkl37BQuKTanygYQG1pyYgLVgf.jpg   \n",
              "1  /sh7Rg8Er3tFcN9BpKIPOMvALgZd.jpg   \n",
              "\n",
              "                                production_companies  ...  Horror  \\\n",
              "0  20th Century Studios, Oddball Entertainment, J...  ...       0   \n",
              "1                             DNA Films, IPR.VC, A24  ...       0   \n",
              "\n",
              "   Science Fiction Family Adventure Documentary Western Mystery  War  Drama  \\\n",
              "0                1      0         1           0       0       0    0      0   \n",
              "1                0      0         0           0       0       0    1      1   \n",
              "\n",
              "   Comedy  \n",
              "0       0  \n",
              "1       0  \n",
              "\n",
              "[2 rows x 169 columns]"
            ],
            "text/html": [
              "\n",
              "  <div id=\"df-bfadb396-b069-45e8-a37b-17c0aefd192d\" class=\"colab-df-container\">\n",
              "    <div>\n",
              "<style scoped>\n",
              "    .dataframe tbody tr th:only-of-type {\n",
              "        vertical-align: middle;\n",
              "    }\n",
              "\n",
              "    .dataframe tbody tr th {\n",
              "        vertical-align: top;\n",
              "    }\n",
              "\n",
              "    .dataframe thead th {\n",
              "        text-align: right;\n",
              "    }\n",
              "</style>\n",
              "<table border=\"1\" class=\"dataframe\">\n",
              "  <thead>\n",
              "    <tr style=\"text-align: right;\">\n",
              "      <th></th>\n",
              "      <th>movie_id</th>\n",
              "      <th>budget</th>\n",
              "      <th>movie_url</th>\n",
              "      <th>imdb_id</th>\n",
              "      <th>original_language</th>\n",
              "      <th>movie_title</th>\n",
              "      <th>overview</th>\n",
              "      <th>popularity</th>\n",
              "      <th>poster_path</th>\n",
              "      <th>production_companies</th>\n",
              "      <th>...</th>\n",
              "      <th>Horror</th>\n",
              "      <th>Science Fiction</th>\n",
              "      <th>Family</th>\n",
              "      <th>Adventure</th>\n",
              "      <th>Documentary</th>\n",
              "      <th>Western</th>\n",
              "      <th>Mystery</th>\n",
              "      <th>War</th>\n",
              "      <th>Drama</th>\n",
              "      <th>Comedy</th>\n",
              "    </tr>\n",
              "  </thead>\n",
              "  <tbody>\n",
              "    <tr>\n",
              "      <th>0</th>\n",
              "      <td>653346</td>\n",
              "      <td>160000000</td>\n",
              "      <td>https://www.20thcenturystudios.com/movies/king...</td>\n",
              "      <td>tt11389872</td>\n",
              "      <td>1</td>\n",
              "      <td>Kingdom of the Planet of the Apes</td>\n",
              "      <td>Several generations in the future following Ca...</td>\n",
              "      <td>6245.898</td>\n",
              "      <td>/gKkl37BQuKTanygYQG1pyYgLVgf.jpg</td>\n",
              "      <td>20th Century Studios, Oddball Entertainment, J...</td>\n",
              "      <td>...</td>\n",
              "      <td>0</td>\n",
              "      <td>1</td>\n",
              "      <td>0</td>\n",
              "      <td>1</td>\n",
              "      <td>0</td>\n",
              "      <td>0</td>\n",
              "      <td>0</td>\n",
              "      <td>0</td>\n",
              "      <td>0</td>\n",
              "      <td>0</td>\n",
              "    </tr>\n",
              "    <tr>\n",
              "      <th>1</th>\n",
              "      <td>929590</td>\n",
              "      <td>50000000</td>\n",
              "      <td>https://a24films.com/films/civil-war</td>\n",
              "      <td>tt17279496</td>\n",
              "      <td>1</td>\n",
              "      <td>Civil War</td>\n",
              "      <td>In the near future, a group of war journalists...</td>\n",
              "      <td>2730.901</td>\n",
              "      <td>/sh7Rg8Er3tFcN9BpKIPOMvALgZd.jpg</td>\n",
              "      <td>DNA Films, IPR.VC, A24</td>\n",
              "      <td>...</td>\n",
              "      <td>0</td>\n",
              "      <td>0</td>\n",
              "      <td>0</td>\n",
              "      <td>0</td>\n",
              "      <td>0</td>\n",
              "      <td>0</td>\n",
              "      <td>0</td>\n",
              "      <td>1</td>\n",
              "      <td>1</td>\n",
              "      <td>0</td>\n",
              "    </tr>\n",
              "  </tbody>\n",
              "</table>\n",
              "<p>2 rows × 169 columns</p>\n",
              "</div>\n",
              "    <div class=\"colab-df-buttons\">\n",
              "\n",
              "  <div class=\"colab-df-container\">\n",
              "    <button class=\"colab-df-convert\" onclick=\"convertToInteractive('df-bfadb396-b069-45e8-a37b-17c0aefd192d')\"\n",
              "            title=\"Convert this dataframe to an interactive table.\"\n",
              "            style=\"display:none;\">\n",
              "\n",
              "  <svg xmlns=\"http://www.w3.org/2000/svg\" height=\"24px\" viewBox=\"0 -960 960 960\">\n",
              "    <path d=\"M120-120v-720h720v720H120Zm60-500h600v-160H180v160Zm220 220h160v-160H400v160Zm0 220h160v-160H400v160ZM180-400h160v-160H180v160Zm440 0h160v-160H620v160ZM180-180h160v-160H180v160Zm440 0h160v-160H620v160Z\"/>\n",
              "  </svg>\n",
              "    </button>\n",
              "\n",
              "  <style>\n",
              "    .colab-df-container {\n",
              "      display:flex;\n",
              "      gap: 12px;\n",
              "    }\n",
              "\n",
              "    .colab-df-convert {\n",
              "      background-color: #E8F0FE;\n",
              "      border: none;\n",
              "      border-radius: 50%;\n",
              "      cursor: pointer;\n",
              "      display: none;\n",
              "      fill: #1967D2;\n",
              "      height: 32px;\n",
              "      padding: 0 0 0 0;\n",
              "      width: 32px;\n",
              "    }\n",
              "\n",
              "    .colab-df-convert:hover {\n",
              "      background-color: #E2EBFA;\n",
              "      box-shadow: 0px 1px 2px rgba(60, 64, 67, 0.3), 0px 1px 3px 1px rgba(60, 64, 67, 0.15);\n",
              "      fill: #174EA6;\n",
              "    }\n",
              "\n",
              "    .colab-df-buttons div {\n",
              "      margin-bottom: 4px;\n",
              "    }\n",
              "\n",
              "    [theme=dark] .colab-df-convert {\n",
              "      background-color: #3B4455;\n",
              "      fill: #D2E3FC;\n",
              "    }\n",
              "\n",
              "    [theme=dark] .colab-df-convert:hover {\n",
              "      background-color: #434B5C;\n",
              "      box-shadow: 0px 1px 3px 1px rgba(0, 0, 0, 0.15);\n",
              "      filter: drop-shadow(0px 1px 2px rgba(0, 0, 0, 0.3));\n",
              "      fill: #FFFFFF;\n",
              "    }\n",
              "  </style>\n",
              "\n",
              "    <script>\n",
              "      const buttonEl =\n",
              "        document.querySelector('#df-bfadb396-b069-45e8-a37b-17c0aefd192d button.colab-df-convert');\n",
              "      buttonEl.style.display =\n",
              "        google.colab.kernel.accessAllowed ? 'block' : 'none';\n",
              "\n",
              "      async function convertToInteractive(key) {\n",
              "        const element = document.querySelector('#df-bfadb396-b069-45e8-a37b-17c0aefd192d');\n",
              "        const dataTable =\n",
              "          await google.colab.kernel.invokeFunction('convertToInteractive',\n",
              "                                                    [key], {});\n",
              "        if (!dataTable) return;\n",
              "\n",
              "        const docLinkHtml = 'Like what you see? Visit the ' +\n",
              "          '<a target=\"_blank\" href=https://colab.research.google.com/notebooks/data_table.ipynb>data table notebook</a>'\n",
              "          + ' to learn more about interactive tables.';\n",
              "        element.innerHTML = '';\n",
              "        dataTable['output_type'] = 'display_data';\n",
              "        await google.colab.output.renderOutput(dataTable, element);\n",
              "        const docLink = document.createElement('div');\n",
              "        docLink.innerHTML = docLinkHtml;\n",
              "        element.appendChild(docLink);\n",
              "      }\n",
              "    </script>\n",
              "  </div>\n",
              "\n",
              "\n",
              "<div id=\"df-587af14d-9600-41d8-ac98-f306bb7863ec\">\n",
              "  <button class=\"colab-df-quickchart\" onclick=\"quickchart('df-587af14d-9600-41d8-ac98-f306bb7863ec')\"\n",
              "            title=\"Suggest charts\"\n",
              "            style=\"display:none;\">\n",
              "\n",
              "<svg xmlns=\"http://www.w3.org/2000/svg\" height=\"24px\"viewBox=\"0 0 24 24\"\n",
              "     width=\"24px\">\n",
              "    <g>\n",
              "        <path d=\"M19 3H5c-1.1 0-2 .9-2 2v14c0 1.1.9 2 2 2h14c1.1 0 2-.9 2-2V5c0-1.1-.9-2-2-2zM9 17H7v-7h2v7zm4 0h-2V7h2v10zm4 0h-2v-4h2v4z\"/>\n",
              "    </g>\n",
              "</svg>\n",
              "  </button>\n",
              "\n",
              "<style>\n",
              "  .colab-df-quickchart {\n",
              "      --bg-color: #E8F0FE;\n",
              "      --fill-color: #1967D2;\n",
              "      --hover-bg-color: #E2EBFA;\n",
              "      --hover-fill-color: #174EA6;\n",
              "      --disabled-fill-color: #AAA;\n",
              "      --disabled-bg-color: #DDD;\n",
              "  }\n",
              "\n",
              "  [theme=dark] .colab-df-quickchart {\n",
              "      --bg-color: #3B4455;\n",
              "      --fill-color: #D2E3FC;\n",
              "      --hover-bg-color: #434B5C;\n",
              "      --hover-fill-color: #FFFFFF;\n",
              "      --disabled-bg-color: #3B4455;\n",
              "      --disabled-fill-color: #666;\n",
              "  }\n",
              "\n",
              "  .colab-df-quickchart {\n",
              "    background-color: var(--bg-color);\n",
              "    border: none;\n",
              "    border-radius: 50%;\n",
              "    cursor: pointer;\n",
              "    display: none;\n",
              "    fill: var(--fill-color);\n",
              "    height: 32px;\n",
              "    padding: 0;\n",
              "    width: 32px;\n",
              "  }\n",
              "\n",
              "  .colab-df-quickchart:hover {\n",
              "    background-color: var(--hover-bg-color);\n",
              "    box-shadow: 0 1px 2px rgba(60, 64, 67, 0.3), 0 1px 3px 1px rgba(60, 64, 67, 0.15);\n",
              "    fill: var(--button-hover-fill-color);\n",
              "  }\n",
              "\n",
              "  .colab-df-quickchart-complete:disabled,\n",
              "  .colab-df-quickchart-complete:disabled:hover {\n",
              "    background-color: var(--disabled-bg-color);\n",
              "    fill: var(--disabled-fill-color);\n",
              "    box-shadow: none;\n",
              "  }\n",
              "\n",
              "  .colab-df-spinner {\n",
              "    border: 2px solid var(--fill-color);\n",
              "    border-color: transparent;\n",
              "    border-bottom-color: var(--fill-color);\n",
              "    animation:\n",
              "      spin 1s steps(1) infinite;\n",
              "  }\n",
              "\n",
              "  @keyframes spin {\n",
              "    0% {\n",
              "      border-color: transparent;\n",
              "      border-bottom-color: var(--fill-color);\n",
              "      border-left-color: var(--fill-color);\n",
              "    }\n",
              "    20% {\n",
              "      border-color: transparent;\n",
              "      border-left-color: var(--fill-color);\n",
              "      border-top-color: var(--fill-color);\n",
              "    }\n",
              "    30% {\n",
              "      border-color: transparent;\n",
              "      border-left-color: var(--fill-color);\n",
              "      border-top-color: var(--fill-color);\n",
              "      border-right-color: var(--fill-color);\n",
              "    }\n",
              "    40% {\n",
              "      border-color: transparent;\n",
              "      border-right-color: var(--fill-color);\n",
              "      border-top-color: var(--fill-color);\n",
              "    }\n",
              "    60% {\n",
              "      border-color: transparent;\n",
              "      border-right-color: var(--fill-color);\n",
              "    }\n",
              "    80% {\n",
              "      border-color: transparent;\n",
              "      border-right-color: var(--fill-color);\n",
              "      border-bottom-color: var(--fill-color);\n",
              "    }\n",
              "    90% {\n",
              "      border-color: transparent;\n",
              "      border-bottom-color: var(--fill-color);\n",
              "    }\n",
              "  }\n",
              "</style>\n",
              "\n",
              "  <script>\n",
              "    async function quickchart(key) {\n",
              "      const quickchartButtonEl =\n",
              "        document.querySelector('#' + key + ' button');\n",
              "      quickchartButtonEl.disabled = true;  // To prevent multiple clicks.\n",
              "      quickchartButtonEl.classList.add('colab-df-spinner');\n",
              "      try {\n",
              "        const charts = await google.colab.kernel.invokeFunction(\n",
              "            'suggestCharts', [key], {});\n",
              "      } catch (error) {\n",
              "        console.error('Error during call to suggestCharts:', error);\n",
              "      }\n",
              "      quickchartButtonEl.classList.remove('colab-df-spinner');\n",
              "      quickchartButtonEl.classList.add('colab-df-quickchart-complete');\n",
              "    }\n",
              "    (() => {\n",
              "      let quickchartButtonEl =\n",
              "        document.querySelector('#df-587af14d-9600-41d8-ac98-f306bb7863ec button');\n",
              "      quickchartButtonEl.style.display =\n",
              "        google.colab.kernel.accessAllowed ? 'block' : 'none';\n",
              "    })();\n",
              "  </script>\n",
              "</div>\n",
              "\n",
              "    </div>\n",
              "  </div>\n"
            ],
            "application/vnd.google.colaboratory.intrinsic+json": {
              "type": "dataframe",
              "variable_name": "df"
            }
          },
          "metadata": {},
          "execution_count": 177
        }
      ]
    },
    {
      "cell_type": "code",
      "source": [
        "first_row_dict_test = df_test.iloc[0].to_dict()\n",
        "first_row_dict_test"
      ],
      "metadata": {
        "id": "Ewih0r3OMlgR",
        "colab": {
          "base_uri": "https://localhost:8080/"
        },
        "outputId": "27320d15-cbe0-42a1-d049-912ec9a6cadb"
      },
      "execution_count": 178,
      "outputs": [
        {
          "output_type": "execute_result",
          "data": {
            "text/plain": [
              "{'movie_id': 41210,\n",
              " 'budget': 19000000,\n",
              " 'movie_url': 'https://www.themoviedb.org/movie/41210',\n",
              " 'imdb_id': 'tt0889573',\n",
              " 'original_language': 0,\n",
              " 'movie_title': 'The Switch',\n",
              " 'overview': 'Kassie is a smart, fun-loving single woman who, despite her neurotic best friend Wally’s objections, decides it’s time to have a baby – even if it means doing it herself… with a little help from a charming sperm donor. But, unbeknownst to her, Kassie’s plans go awry because of a last-minute switch that isn’t discovered until seven years later… when Wally gets acquainted with Kassie’s cute, though slightly neurotic, son.',\n",
              " 'popularity': 37.077,\n",
              " 'poster_path': '/lQZpZHLafAfYwogCF23lnfPQmIh.jpg',\n",
              " 'production_companies': 'Mandate Pictures, Echo Films, Miramax, Bona Fide Productions',\n",
              " 'runtime': 101,\n",
              " 'status': 1,\n",
              " 'tagline': 'The most unexpected comedy ever conceived.',\n",
              " 'title': 'The Switch',\n",
              " 'keywords': 'new york city, pregnancy, hypochondriac, little boy, single mother, based on short story, sperm donor, artificial insemination, precocious child, neurotic, wanting to have children, drunkenness, no memory, secret, best friends, moving back home',\n",
              " 'cast': 'Jennifer Aniston, Jason Bateman, Patrick Wilson, Thomas Robinson, Jeff Goldblum, Juliette Lewis, Victor Pagan, Todd Louiso, Scott Elrod, Kelli Barrett, Rebecca Naomi Jones, Jeremy Mohler, Will Swenson, Edward James Hyland, Caroline Dhavernas, Brian Podnos, Carmen M. Herlihy, Lily Pilblad, Jason Jones, Bryce Robinson, Brooke Hoover, Stephanie Domini, Amanda Barron',\n",
              " 'crew': \"Allan Loeb, Josh Gordon, Will Speck, Ron Yerxa, Nathan Kahane, Brian Bell, Allan Loeb, Larry M. Gruber, Jennifer Aniston, Albert Berger, Kelli Konop, Mary Lee, Steven Pearl, Kristin Hahn, Jess Hall, Alex Wurman, John Axelrad, Carol Silverman, Sherri Berman Laurence, Brian Bell, Timothy Bird, Jennifer Truelove, Douglas Crosby, Jared Burke, David Januzzi, Chris Cenatiempo, Isabella Cenatiempo, Chase Millea, Jon Trosky, Sophia Cenatiempo, Curtis Lyons, Blaise Corrigan, Keith Young, David Price, Jack Schuster, Nancy Kirhoffer, Craig Haagensen, Frank Rinato, David Flanigan, David M. Dunlap, Kathleen Corgan, Scott Lipkowitz, Kevin Walter, Jessica Lichtner, Thomas Varga, Sam Perry, Adam Sanchez, Susana Gilboe, Winsome G. McKoy, Careen Fowles, Trenee Clayton, Annie Laoparadonchai, Chris Mahnken, Jorjee Douglass, Amy Duskin, Jerry DeCarlo, Lona Vigi, Jacqueline Payne, Louie Zakarian, Tom Cross, Andrew Buckland, Sean Valla, Ryan Malanaphy, Scott H. Ramsey, Michael 'Flash' McDonald, Steven Edick, Clay Liversidge, Richard Guinness Jr., Wesley Battle, Jasper L. Johnson III, Brent Poleski, Duke Scoppa, Pete Dancy, Drew Jiritano, Jon Dowdy, Andrew Mortelliti, Drew Jiritano Jr., Meghan K. Wicker, Ryan McDonald, Jesse Lasky, Quincy Gow, Ken Furer, Brian McKinley, Brian Segna, Michelle Johnson, Carolyn McGuinness, Margaret Maloney, Angelica Reynoso, Alexis Auditore, Diane Sawyer, Daniel Battsek, Michael Bloomberg, Laurie Gershon, Steven Baker, Douglas Aibel, Kasia Walicka Maimone, Jeffrey Eugenides, Dylan Correll, Adam Stockhausen\",\n",
              " 'release_day': 11,\n",
              " 'release_month': 5,\n",
              " 'release_year': 2010,\n",
              " 'United States of America': 1,\n",
              " 'New Zealand': 0,\n",
              " 'Spain': 0,\n",
              " 'Australia': 0,\n",
              " 'Ireland': 0,\n",
              " 'Luxembourg': 0,\n",
              " 'Chile': 0,\n",
              " 'Thailand': 0,\n",
              " 'Morocco': 0,\n",
              " 'Brazil': 0,\n",
              " 'Malaysia': 0,\n",
              " 'Hong Kong': 0,\n",
              " 'India': 0,\n",
              " 'Israel': 0,\n",
              " 'China': 0,\n",
              " 'Denmark': 0,\n",
              " 'Portugal': 0,\n",
              " 'United Arab Emirates': 0,\n",
              " 'Canada': 0,\n",
              " 'Mexico': 0,\n",
              " 'Poland': 0,\n",
              " 'Hungary': 0,\n",
              " 'Greece': 0,\n",
              " 'Japan': 0,\n",
              " 'Sweden': 0,\n",
              " 'Russia': 0,\n",
              " 'Cyprus': 0,\n",
              " 'Ukraine': 0,\n",
              " 'Germany': 0,\n",
              " 'Finland': 0,\n",
              " 'Puerto Rico': 0,\n",
              " 'Belgium': 0,\n",
              " 'Serbia': 0,\n",
              " 'Switzerland': 0,\n",
              " 'Czech Republic': 0,\n",
              " 'Italy': 0,\n",
              " 'Romania': 0,\n",
              " 'Netherlands': 0,\n",
              " 'Singapore': 0,\n",
              " 'Colombia': 0,\n",
              " 'France': 0,\n",
              " 'Aruba': 0,\n",
              " 'United Kingdom': 0,\n",
              " 'South Africa': 0,\n",
              " 'Bulgaria': 0,\n",
              " 'हिन्दी': 0,\n",
              " 'پښتو': 0,\n",
              " 'اردو': 0,\n",
              " 'ภาษาไทย': 0,\n",
              " 'Dansk': 0,\n",
              " 'Polski': 0,\n",
              " 'Español': 0,\n",
              " 'No Language': 0,\n",
              " '广州话 / 廣州話': 0,\n",
              " 'Magyar': 0,\n",
              " '普通话': 0,\n",
              " 'Pусский': 0,\n",
              " 'Український': 0,\n",
              " 'עִבְרִית': 0,\n",
              " 'Română': 0,\n",
              " 'ελληνικά': 0,\n",
              " '한국어/조선말': 0,\n",
              " 'Deutsch': 0,\n",
              " 'svenska': 0,\n",
              " 'Türkçe': 0,\n",
              " 'Italiano': 0,\n",
              " 'Tiếng Việt': 0,\n",
              " 'فارسی': 0,\n",
              " 'Gaeilge': 0,\n",
              " 'Kiswahili': 0,\n",
              " 'Français': 0,\n",
              " 'Bahasa indonesia': 0,\n",
              " 'Português': 0,\n",
              " 'Norsk': 0,\n",
              " 'Afrikaans': 0,\n",
              " '日本語': 0,\n",
              " 'Latin': 0,\n",
              " 'English': 1,\n",
              " 'العربية': 0,\n",
              " 'Íslenska': 0,\n",
              " 'български език': 0,\n",
              " 'Romance': 1,\n",
              " 'Music': 0,\n",
              " 'Animation': 0,\n",
              " 'Horror': 0,\n",
              " 'Drama': 1,\n",
              " 'TV Movie': 0,\n",
              " 'History': 0,\n",
              " 'Adventure': 0,\n",
              " 'Science Fiction': 0,\n",
              " 'Comedy': 1,\n",
              " 'Crime': 0,\n",
              " 'Mystery': 0,\n",
              " 'Western': 0,\n",
              " 'Documentary': 0,\n",
              " 'War': 0,\n",
              " 'Action': 0,\n",
              " 'Thriller': 0,\n",
              " 'Fantasy': 0,\n",
              " 'Family': 0,\n",
              " 'Venezuela': None,\n",
              " 'Botswana': None,\n",
              " 'Kuwait': None,\n",
              " 'Malta': None,\n",
              " 'Slovakia': None,\n",
              " 'Lebanon': None,\n",
              " 'Bahamas': None,\n",
              " 'Peru': None,\n",
              " 'Saudi Arabia': None,\n",
              " 'South Korea': None,\n",
              " 'Norway': None,\n",
              " 'Taiwan': None,\n",
              " 'Libyan Arab Jamahiriya': None,\n",
              " 'Zimbabwe': None,\n",
              " 'Turkey': None,\n",
              " 'Slovenia': None,\n",
              " 'Soviet Union': None,\n",
              " 'Dominican Republic': None,\n",
              " 'Kenya': None,\n",
              " 'Jamaica': None,\n",
              " 'Indonesia': None,\n",
              " 'Iceland': None,\n",
              " 'Montenegro': None,\n",
              " 'Austria': None,\n",
              " 'Unnamed: 90': None,\n",
              " 'ქართული': None,\n",
              " 'Català': None,\n",
              " 'Cymraeg': None,\n",
              " 'ਪੰਜਾਬੀ': None,\n",
              " 'Bosanski': None,\n",
              " 'Nederlands': None,\n",
              " 'සිංහල': None,\n",
              " 'Esperanto': None,\n",
              " 'Hrvatski': None,\n",
              " 'Bahasa melayu': None,\n",
              " 'Fulfulde': None,\n",
              " 'isiZulu': None,\n",
              " 'shqip': None,\n",
              " 'euskera': None,\n",
              " 'Slovenčina': None,\n",
              " 'suomi': None,\n",
              " 'தமிழ்': None,\n",
              " 'Srpski': None,\n",
              " 'Lietuvių': None,\n",
              " 'Český': None,\n",
              " 'Eesti': None,\n",
              " 'বাংলা': None,\n",
              " 'Somali': None}"
            ]
          },
          "metadata": {},
          "execution_count": 178
        }
      ]
    },
    {
      "cell_type": "code",
      "source": [
        "col = ['movie_id', 'budget']\n",
        "df_test[col].head(1)"
      ],
      "metadata": {
        "colab": {
          "base_uri": "https://localhost:8080/",
          "height": 80
        },
        "id": "2RMPomQD3PbK",
        "outputId": "157eda96-74bd-4e43-c0c4-81f8d1884e64"
      },
      "execution_count": 179,
      "outputs": [
        {
          "output_type": "execute_result",
          "data": {
            "text/plain": [
              "   movie_id    budget\n",
              "0     41210  19000000"
            ],
            "text/html": [
              "\n",
              "  <div id=\"df-334f3eb6-135c-4ee1-88ec-95e615929db5\" class=\"colab-df-container\">\n",
              "    <div>\n",
              "<style scoped>\n",
              "    .dataframe tbody tr th:only-of-type {\n",
              "        vertical-align: middle;\n",
              "    }\n",
              "\n",
              "    .dataframe tbody tr th {\n",
              "        vertical-align: top;\n",
              "    }\n",
              "\n",
              "    .dataframe thead th {\n",
              "        text-align: right;\n",
              "    }\n",
              "</style>\n",
              "<table border=\"1\" class=\"dataframe\">\n",
              "  <thead>\n",
              "    <tr style=\"text-align: right;\">\n",
              "      <th></th>\n",
              "      <th>movie_id</th>\n",
              "      <th>budget</th>\n",
              "    </tr>\n",
              "  </thead>\n",
              "  <tbody>\n",
              "    <tr>\n",
              "      <th>0</th>\n",
              "      <td>41210</td>\n",
              "      <td>19000000</td>\n",
              "    </tr>\n",
              "  </tbody>\n",
              "</table>\n",
              "</div>\n",
              "    <div class=\"colab-df-buttons\">\n",
              "\n",
              "  <div class=\"colab-df-container\">\n",
              "    <button class=\"colab-df-convert\" onclick=\"convertToInteractive('df-334f3eb6-135c-4ee1-88ec-95e615929db5')\"\n",
              "            title=\"Convert this dataframe to an interactive table.\"\n",
              "            style=\"display:none;\">\n",
              "\n",
              "  <svg xmlns=\"http://www.w3.org/2000/svg\" height=\"24px\" viewBox=\"0 -960 960 960\">\n",
              "    <path d=\"M120-120v-720h720v720H120Zm60-500h600v-160H180v160Zm220 220h160v-160H400v160Zm0 220h160v-160H400v160ZM180-400h160v-160H180v160Zm440 0h160v-160H620v160ZM180-180h160v-160H180v160Zm440 0h160v-160H620v160Z\"/>\n",
              "  </svg>\n",
              "    </button>\n",
              "\n",
              "  <style>\n",
              "    .colab-df-container {\n",
              "      display:flex;\n",
              "      gap: 12px;\n",
              "    }\n",
              "\n",
              "    .colab-df-convert {\n",
              "      background-color: #E8F0FE;\n",
              "      border: none;\n",
              "      border-radius: 50%;\n",
              "      cursor: pointer;\n",
              "      display: none;\n",
              "      fill: #1967D2;\n",
              "      height: 32px;\n",
              "      padding: 0 0 0 0;\n",
              "      width: 32px;\n",
              "    }\n",
              "\n",
              "    .colab-df-convert:hover {\n",
              "      background-color: #E2EBFA;\n",
              "      box-shadow: 0px 1px 2px rgba(60, 64, 67, 0.3), 0px 1px 3px 1px rgba(60, 64, 67, 0.15);\n",
              "      fill: #174EA6;\n",
              "    }\n",
              "\n",
              "    .colab-df-buttons div {\n",
              "      margin-bottom: 4px;\n",
              "    }\n",
              "\n",
              "    [theme=dark] .colab-df-convert {\n",
              "      background-color: #3B4455;\n",
              "      fill: #D2E3FC;\n",
              "    }\n",
              "\n",
              "    [theme=dark] .colab-df-convert:hover {\n",
              "      background-color: #434B5C;\n",
              "      box-shadow: 0px 1px 3px 1px rgba(0, 0, 0, 0.15);\n",
              "      filter: drop-shadow(0px 1px 2px rgba(0, 0, 0, 0.3));\n",
              "      fill: #FFFFFF;\n",
              "    }\n",
              "  </style>\n",
              "\n",
              "    <script>\n",
              "      const buttonEl =\n",
              "        document.querySelector('#df-334f3eb6-135c-4ee1-88ec-95e615929db5 button.colab-df-convert');\n",
              "      buttonEl.style.display =\n",
              "        google.colab.kernel.accessAllowed ? 'block' : 'none';\n",
              "\n",
              "      async function convertToInteractive(key) {\n",
              "        const element = document.querySelector('#df-334f3eb6-135c-4ee1-88ec-95e615929db5');\n",
              "        const dataTable =\n",
              "          await google.colab.kernel.invokeFunction('convertToInteractive',\n",
              "                                                    [key], {});\n",
              "        if (!dataTable) return;\n",
              "\n",
              "        const docLinkHtml = 'Like what you see? Visit the ' +\n",
              "          '<a target=\"_blank\" href=https://colab.research.google.com/notebooks/data_table.ipynb>data table notebook</a>'\n",
              "          + ' to learn more about interactive tables.';\n",
              "        element.innerHTML = '';\n",
              "        dataTable['output_type'] = 'display_data';\n",
              "        await google.colab.output.renderOutput(dataTable, element);\n",
              "        const docLink = document.createElement('div');\n",
              "        docLink.innerHTML = docLinkHtml;\n",
              "        element.appendChild(docLink);\n",
              "      }\n",
              "    </script>\n",
              "  </div>\n",
              "\n",
              "\n",
              "    </div>\n",
              "  </div>\n"
            ],
            "application/vnd.google.colaboratory.intrinsic+json": {
              "type": "dataframe",
              "summary": "{\n  \"name\": \"df_test[col]\",\n  \"rows\": 1,\n  \"fields\": [\n    {\n      \"column\": \"movie_id\",\n      \"properties\": {\n        \"dtype\": \"number\",\n        \"std\": null,\n        \"min\": 41210,\n        \"max\": 41210,\n        \"num_unique_values\": 1,\n        \"samples\": [\n          41210\n        ],\n        \"semantic_type\": \"\",\n        \"description\": \"\"\n      }\n    },\n    {\n      \"column\": \"budget\",\n      \"properties\": {\n        \"dtype\": \"number\",\n        \"std\": null,\n        \"min\": 19000000,\n        \"max\": 19000000,\n        \"num_unique_values\": 1,\n        \"samples\": [\n          19000000\n        ],\n        \"semantic_type\": \"\",\n        \"description\": \"\"\n      }\n    }\n  ]\n}"
            }
          },
          "metadata": {},
          "execution_count": 179
        }
      ]
    },
    {
      "cell_type": "code",
      "source": [],
      "metadata": {
        "id": "sEHQno313Pj4"
      },
      "execution_count": 179,
      "outputs": []
    },
    {
      "cell_type": "code",
      "source": [
        "# Make predictions on the test set using the finalized model\n",
        "predictions_test = predict_model(final_model, data=df_test)"
      ],
      "metadata": {
        "colab": {
          "base_uri": "https://localhost:8080/",
          "height": 17
        },
        "id": "W5KhHDZ1c0Fg",
        "outputId": "e7f912d1-8abd-433c-d38f-55b56ea26577"
      },
      "execution_count": 180,
      "outputs": [
        {
          "output_type": "display_data",
          "data": {
            "text/plain": [
              "<IPython.core.display.HTML object>"
            ],
            "text/html": []
          },
          "metadata": {}
        }
      ]
    },
    {
      "cell_type": "code",
      "source": [
        "# Evaluating Model Performance:\n",
        "\n",
        "# We evaluate the model performance on the test data and print relevant metrics.\n",
        "# We plot actual vs. predicted revenue to visually assess the model's accuracy."
      ],
      "metadata": {
        "id": "C8gWIOayo5we"
      },
      "execution_count": 181,
      "outputs": []
    },
    {
      "cell_type": "code",
      "source": [
        "# Model Evaluation:\n",
        "\n",
        "# We plot residuals and error plots to visualize model performance.\n",
        "# We make predictions on the test set."
      ],
      "metadata": {
        "id": "dc2X67vU_cWU"
      },
      "execution_count": 182,
      "outputs": []
    },
    {
      "cell_type": "code",
      "source": [
        "# # Evaluate model performance on test data\n",
        "# test_predictions = predict_model(final_model, data=df)"
      ],
      "metadata": {
        "id": "-bfXKC1Eo5yo"
      },
      "execution_count": 183,
      "outputs": []
    },
    {
      "cell_type": "code",
      "source": [],
      "metadata": {
        "id": "V2I1iezyBALH"
      },
      "execution_count": 183,
      "outputs": []
    },
    {
      "cell_type": "code",
      "source": [
        "# Extract relevant columns and round the prediction labels for test set\n",
        "test_predictions = predictions_test[['movie_id', 'prediction_label']].copy()\n",
        "test_predictions['prediction_label'] = test_predictions['prediction_label'].round(1)\n",
        "\n",
        "# Print the filtered DataFrame for test predictions\n",
        "print(\"Test predictions:\")\n",
        "print(test_predictions)"
      ],
      "metadata": {
        "colab": {
          "base_uri": "https://localhost:8080/"
        },
        "id": "FaDrC2ZbAGqE",
        "outputId": "eea8bf62-7d6f-44b5-ff4c-86485744fbe6"
      },
      "execution_count": 184,
      "outputs": [
        {
          "output_type": "stream",
          "name": "stdout",
          "text": [
            "Test predictions:\n",
            "      movie_id  prediction_label\n",
            "0        41210       127462892.0\n",
            "1          281       139222880.9\n",
            "2        16290       132147266.4\n",
            "3        25239       120086045.0\n",
            "4         2294       131865688.0\n",
            "...        ...               ...\n",
            "998       3594       124227893.0\n",
            "999      19064       115228843.1\n",
            "1000    129670       136384840.0\n",
            "1001    256924       126014892.9\n",
            "1002      1665       125342552.4\n",
            "\n",
            "[1003 rows x 2 columns]\n"
          ]
        }
      ]
    },
    {
      "cell_type": "code",
      "source": [
        "# Print performance metrics\n",
        "print(\"Model Performance on Test Data:\")\n",
        "test_predictions"
      ],
      "metadata": {
        "colab": {
          "base_uri": "https://localhost:8080/",
          "height": 441
        },
        "id": "vwbPURpTo51G",
        "outputId": "e47e14d0-6da1-4245-9ea6-d0cf3f553749"
      },
      "execution_count": 185,
      "outputs": [
        {
          "output_type": "stream",
          "name": "stdout",
          "text": [
            "Model Performance on Test Data:\n"
          ]
        },
        {
          "output_type": "execute_result",
          "data": {
            "text/plain": [
              "      movie_id  prediction_label\n",
              "0        41210       127462892.0\n",
              "1          281       139222880.9\n",
              "2        16290       132147266.4\n",
              "3        25239       120086045.0\n",
              "4         2294       131865688.0\n",
              "...        ...               ...\n",
              "998       3594       124227893.0\n",
              "999      19064       115228843.1\n",
              "1000    129670       136384840.0\n",
              "1001    256924       126014892.9\n",
              "1002      1665       125342552.4\n",
              "\n",
              "[1003 rows x 2 columns]"
            ],
            "text/html": [
              "\n",
              "  <div id=\"df-a5e41b76-5a97-4669-97b4-466ded4b5db6\" class=\"colab-df-container\">\n",
              "    <div>\n",
              "<style scoped>\n",
              "    .dataframe tbody tr th:only-of-type {\n",
              "        vertical-align: middle;\n",
              "    }\n",
              "\n",
              "    .dataframe tbody tr th {\n",
              "        vertical-align: top;\n",
              "    }\n",
              "\n",
              "    .dataframe thead th {\n",
              "        text-align: right;\n",
              "    }\n",
              "</style>\n",
              "<table border=\"1\" class=\"dataframe\">\n",
              "  <thead>\n",
              "    <tr style=\"text-align: right;\">\n",
              "      <th></th>\n",
              "      <th>movie_id</th>\n",
              "      <th>prediction_label</th>\n",
              "    </tr>\n",
              "  </thead>\n",
              "  <tbody>\n",
              "    <tr>\n",
              "      <th>0</th>\n",
              "      <td>41210</td>\n",
              "      <td>127462892.0</td>\n",
              "    </tr>\n",
              "    <tr>\n",
              "      <th>1</th>\n",
              "      <td>281</td>\n",
              "      <td>139222880.9</td>\n",
              "    </tr>\n",
              "    <tr>\n",
              "      <th>2</th>\n",
              "      <td>16290</td>\n",
              "      <td>132147266.4</td>\n",
              "    </tr>\n",
              "    <tr>\n",
              "      <th>3</th>\n",
              "      <td>25239</td>\n",
              "      <td>120086045.0</td>\n",
              "    </tr>\n",
              "    <tr>\n",
              "      <th>4</th>\n",
              "      <td>2294</td>\n",
              "      <td>131865688.0</td>\n",
              "    </tr>\n",
              "    <tr>\n",
              "      <th>...</th>\n",
              "      <td>...</td>\n",
              "      <td>...</td>\n",
              "    </tr>\n",
              "    <tr>\n",
              "      <th>998</th>\n",
              "      <td>3594</td>\n",
              "      <td>124227893.0</td>\n",
              "    </tr>\n",
              "    <tr>\n",
              "      <th>999</th>\n",
              "      <td>19064</td>\n",
              "      <td>115228843.1</td>\n",
              "    </tr>\n",
              "    <tr>\n",
              "      <th>1000</th>\n",
              "      <td>129670</td>\n",
              "      <td>136384840.0</td>\n",
              "    </tr>\n",
              "    <tr>\n",
              "      <th>1001</th>\n",
              "      <td>256924</td>\n",
              "      <td>126014892.9</td>\n",
              "    </tr>\n",
              "    <tr>\n",
              "      <th>1002</th>\n",
              "      <td>1665</td>\n",
              "      <td>125342552.4</td>\n",
              "    </tr>\n",
              "  </tbody>\n",
              "</table>\n",
              "<p>1003 rows × 2 columns</p>\n",
              "</div>\n",
              "    <div class=\"colab-df-buttons\">\n",
              "\n",
              "  <div class=\"colab-df-container\">\n",
              "    <button class=\"colab-df-convert\" onclick=\"convertToInteractive('df-a5e41b76-5a97-4669-97b4-466ded4b5db6')\"\n",
              "            title=\"Convert this dataframe to an interactive table.\"\n",
              "            style=\"display:none;\">\n",
              "\n",
              "  <svg xmlns=\"http://www.w3.org/2000/svg\" height=\"24px\" viewBox=\"0 -960 960 960\">\n",
              "    <path d=\"M120-120v-720h720v720H120Zm60-500h600v-160H180v160Zm220 220h160v-160H400v160Zm0 220h160v-160H400v160ZM180-400h160v-160H180v160Zm440 0h160v-160H620v160ZM180-180h160v-160H180v160Zm440 0h160v-160H620v160Z\"/>\n",
              "  </svg>\n",
              "    </button>\n",
              "\n",
              "  <style>\n",
              "    .colab-df-container {\n",
              "      display:flex;\n",
              "      gap: 12px;\n",
              "    }\n",
              "\n",
              "    .colab-df-convert {\n",
              "      background-color: #E8F0FE;\n",
              "      border: none;\n",
              "      border-radius: 50%;\n",
              "      cursor: pointer;\n",
              "      display: none;\n",
              "      fill: #1967D2;\n",
              "      height: 32px;\n",
              "      padding: 0 0 0 0;\n",
              "      width: 32px;\n",
              "    }\n",
              "\n",
              "    .colab-df-convert:hover {\n",
              "      background-color: #E2EBFA;\n",
              "      box-shadow: 0px 1px 2px rgba(60, 64, 67, 0.3), 0px 1px 3px 1px rgba(60, 64, 67, 0.15);\n",
              "      fill: #174EA6;\n",
              "    }\n",
              "\n",
              "    .colab-df-buttons div {\n",
              "      margin-bottom: 4px;\n",
              "    }\n",
              "\n",
              "    [theme=dark] .colab-df-convert {\n",
              "      background-color: #3B4455;\n",
              "      fill: #D2E3FC;\n",
              "    }\n",
              "\n",
              "    [theme=dark] .colab-df-convert:hover {\n",
              "      background-color: #434B5C;\n",
              "      box-shadow: 0px 1px 3px 1px rgba(0, 0, 0, 0.15);\n",
              "      filter: drop-shadow(0px 1px 2px rgba(0, 0, 0, 0.3));\n",
              "      fill: #FFFFFF;\n",
              "    }\n",
              "  </style>\n",
              "\n",
              "    <script>\n",
              "      const buttonEl =\n",
              "        document.querySelector('#df-a5e41b76-5a97-4669-97b4-466ded4b5db6 button.colab-df-convert');\n",
              "      buttonEl.style.display =\n",
              "        google.colab.kernel.accessAllowed ? 'block' : 'none';\n",
              "\n",
              "      async function convertToInteractive(key) {\n",
              "        const element = document.querySelector('#df-a5e41b76-5a97-4669-97b4-466ded4b5db6');\n",
              "        const dataTable =\n",
              "          await google.colab.kernel.invokeFunction('convertToInteractive',\n",
              "                                                    [key], {});\n",
              "        if (!dataTable) return;\n",
              "\n",
              "        const docLinkHtml = 'Like what you see? Visit the ' +\n",
              "          '<a target=\"_blank\" href=https://colab.research.google.com/notebooks/data_table.ipynb>data table notebook</a>'\n",
              "          + ' to learn more about interactive tables.';\n",
              "        element.innerHTML = '';\n",
              "        dataTable['output_type'] = 'display_data';\n",
              "        await google.colab.output.renderOutput(dataTable, element);\n",
              "        const docLink = document.createElement('div');\n",
              "        docLink.innerHTML = docLinkHtml;\n",
              "        element.appendChild(docLink);\n",
              "      }\n",
              "    </script>\n",
              "  </div>\n",
              "\n",
              "\n",
              "<div id=\"df-3c5e6d72-918a-4fe5-9f4b-f345be68c52c\">\n",
              "  <button class=\"colab-df-quickchart\" onclick=\"quickchart('df-3c5e6d72-918a-4fe5-9f4b-f345be68c52c')\"\n",
              "            title=\"Suggest charts\"\n",
              "            style=\"display:none;\">\n",
              "\n",
              "<svg xmlns=\"http://www.w3.org/2000/svg\" height=\"24px\"viewBox=\"0 0 24 24\"\n",
              "     width=\"24px\">\n",
              "    <g>\n",
              "        <path d=\"M19 3H5c-1.1 0-2 .9-2 2v14c0 1.1.9 2 2 2h14c1.1 0 2-.9 2-2V5c0-1.1-.9-2-2-2zM9 17H7v-7h2v7zm4 0h-2V7h2v10zm4 0h-2v-4h2v4z\"/>\n",
              "    </g>\n",
              "</svg>\n",
              "  </button>\n",
              "\n",
              "<style>\n",
              "  .colab-df-quickchart {\n",
              "      --bg-color: #E8F0FE;\n",
              "      --fill-color: #1967D2;\n",
              "      --hover-bg-color: #E2EBFA;\n",
              "      --hover-fill-color: #174EA6;\n",
              "      --disabled-fill-color: #AAA;\n",
              "      --disabled-bg-color: #DDD;\n",
              "  }\n",
              "\n",
              "  [theme=dark] .colab-df-quickchart {\n",
              "      --bg-color: #3B4455;\n",
              "      --fill-color: #D2E3FC;\n",
              "      --hover-bg-color: #434B5C;\n",
              "      --hover-fill-color: #FFFFFF;\n",
              "      --disabled-bg-color: #3B4455;\n",
              "      --disabled-fill-color: #666;\n",
              "  }\n",
              "\n",
              "  .colab-df-quickchart {\n",
              "    background-color: var(--bg-color);\n",
              "    border: none;\n",
              "    border-radius: 50%;\n",
              "    cursor: pointer;\n",
              "    display: none;\n",
              "    fill: var(--fill-color);\n",
              "    height: 32px;\n",
              "    padding: 0;\n",
              "    width: 32px;\n",
              "  }\n",
              "\n",
              "  .colab-df-quickchart:hover {\n",
              "    background-color: var(--hover-bg-color);\n",
              "    box-shadow: 0 1px 2px rgba(60, 64, 67, 0.3), 0 1px 3px 1px rgba(60, 64, 67, 0.15);\n",
              "    fill: var(--button-hover-fill-color);\n",
              "  }\n",
              "\n",
              "  .colab-df-quickchart-complete:disabled,\n",
              "  .colab-df-quickchart-complete:disabled:hover {\n",
              "    background-color: var(--disabled-bg-color);\n",
              "    fill: var(--disabled-fill-color);\n",
              "    box-shadow: none;\n",
              "  }\n",
              "\n",
              "  .colab-df-spinner {\n",
              "    border: 2px solid var(--fill-color);\n",
              "    border-color: transparent;\n",
              "    border-bottom-color: var(--fill-color);\n",
              "    animation:\n",
              "      spin 1s steps(1) infinite;\n",
              "  }\n",
              "\n",
              "  @keyframes spin {\n",
              "    0% {\n",
              "      border-color: transparent;\n",
              "      border-bottom-color: var(--fill-color);\n",
              "      border-left-color: var(--fill-color);\n",
              "    }\n",
              "    20% {\n",
              "      border-color: transparent;\n",
              "      border-left-color: var(--fill-color);\n",
              "      border-top-color: var(--fill-color);\n",
              "    }\n",
              "    30% {\n",
              "      border-color: transparent;\n",
              "      border-left-color: var(--fill-color);\n",
              "      border-top-color: var(--fill-color);\n",
              "      border-right-color: var(--fill-color);\n",
              "    }\n",
              "    40% {\n",
              "      border-color: transparent;\n",
              "      border-right-color: var(--fill-color);\n",
              "      border-top-color: var(--fill-color);\n",
              "    }\n",
              "    60% {\n",
              "      border-color: transparent;\n",
              "      border-right-color: var(--fill-color);\n",
              "    }\n",
              "    80% {\n",
              "      border-color: transparent;\n",
              "      border-right-color: var(--fill-color);\n",
              "      border-bottom-color: var(--fill-color);\n",
              "    }\n",
              "    90% {\n",
              "      border-color: transparent;\n",
              "      border-bottom-color: var(--fill-color);\n",
              "    }\n",
              "  }\n",
              "</style>\n",
              "\n",
              "  <script>\n",
              "    async function quickchart(key) {\n",
              "      const quickchartButtonEl =\n",
              "        document.querySelector('#' + key + ' button');\n",
              "      quickchartButtonEl.disabled = true;  // To prevent multiple clicks.\n",
              "      quickchartButtonEl.classList.add('colab-df-spinner');\n",
              "      try {\n",
              "        const charts = await google.colab.kernel.invokeFunction(\n",
              "            'suggestCharts', [key], {});\n",
              "      } catch (error) {\n",
              "        console.error('Error during call to suggestCharts:', error);\n",
              "      }\n",
              "      quickchartButtonEl.classList.remove('colab-df-spinner');\n",
              "      quickchartButtonEl.classList.add('colab-df-quickchart-complete');\n",
              "    }\n",
              "    (() => {\n",
              "      let quickchartButtonEl =\n",
              "        document.querySelector('#df-3c5e6d72-918a-4fe5-9f4b-f345be68c52c button');\n",
              "      quickchartButtonEl.style.display =\n",
              "        google.colab.kernel.accessAllowed ? 'block' : 'none';\n",
              "    })();\n",
              "  </script>\n",
              "</div>\n",
              "\n",
              "  <div id=\"id_324e7666-9434-4cde-bba3-be031ec68bf0\">\n",
              "    <style>\n",
              "      .colab-df-generate {\n",
              "        background-color: #E8F0FE;\n",
              "        border: none;\n",
              "        border-radius: 50%;\n",
              "        cursor: pointer;\n",
              "        display: none;\n",
              "        fill: #1967D2;\n",
              "        height: 32px;\n",
              "        padding: 0 0 0 0;\n",
              "        width: 32px;\n",
              "      }\n",
              "\n",
              "      .colab-df-generate:hover {\n",
              "        background-color: #E2EBFA;\n",
              "        box-shadow: 0px 1px 2px rgba(60, 64, 67, 0.3), 0px 1px 3px 1px rgba(60, 64, 67, 0.15);\n",
              "        fill: #174EA6;\n",
              "      }\n",
              "\n",
              "      [theme=dark] .colab-df-generate {\n",
              "        background-color: #3B4455;\n",
              "        fill: #D2E3FC;\n",
              "      }\n",
              "\n",
              "      [theme=dark] .colab-df-generate:hover {\n",
              "        background-color: #434B5C;\n",
              "        box-shadow: 0px 1px 3px 1px rgba(0, 0, 0, 0.15);\n",
              "        filter: drop-shadow(0px 1px 2px rgba(0, 0, 0, 0.3));\n",
              "        fill: #FFFFFF;\n",
              "      }\n",
              "    </style>\n",
              "    <button class=\"colab-df-generate\" onclick=\"generateWithVariable('test_predictions')\"\n",
              "            title=\"Generate code using this dataframe.\"\n",
              "            style=\"display:none;\">\n",
              "\n",
              "  <svg xmlns=\"http://www.w3.org/2000/svg\" height=\"24px\"viewBox=\"0 0 24 24\"\n",
              "       width=\"24px\">\n",
              "    <path d=\"M7,19H8.4L18.45,9,17,7.55,7,17.6ZM5,21V16.75L18.45,3.32a2,2,0,0,1,2.83,0l1.4,1.43a1.91,1.91,0,0,1,.58,1.4,1.91,1.91,0,0,1-.58,1.4L9.25,21ZM18.45,9,17,7.55Zm-12,3A5.31,5.31,0,0,0,4.9,8.1,5.31,5.31,0,0,0,1,6.5,5.31,5.31,0,0,0,4.9,4.9,5.31,5.31,0,0,0,6.5,1,5.31,5.31,0,0,0,8.1,4.9,5.31,5.31,0,0,0,12,6.5,5.46,5.46,0,0,0,6.5,12Z\"/>\n",
              "  </svg>\n",
              "    </button>\n",
              "    <script>\n",
              "      (() => {\n",
              "      const buttonEl =\n",
              "        document.querySelector('#id_324e7666-9434-4cde-bba3-be031ec68bf0 button.colab-df-generate');\n",
              "      buttonEl.style.display =\n",
              "        google.colab.kernel.accessAllowed ? 'block' : 'none';\n",
              "\n",
              "      buttonEl.onclick = () => {\n",
              "        google.colab.notebook.generateWithVariable('test_predictions');\n",
              "      }\n",
              "      })();\n",
              "    </script>\n",
              "  </div>\n",
              "\n",
              "    </div>\n",
              "  </div>\n"
            ],
            "application/vnd.google.colaboratory.intrinsic+json": {
              "type": "dataframe",
              "variable_name": "test_predictions",
              "summary": "{\n  \"name\": \"test_predictions\",\n  \"rows\": 1003,\n  \"fields\": [\n    {\n      \"column\": \"movie_id\",\n      \"properties\": {\n        \"dtype\": \"int32\",\n        \"num_unique_values\": 1003,\n        \"samples\": [\n          70584,\n          301608,\n          696157\n        ],\n        \"semantic_type\": \"\",\n        \"description\": \"\"\n      }\n    },\n    {\n      \"column\": \"prediction_label\",\n      \"properties\": {\n        \"dtype\": \"number\",\n        \"std\": 12357864.924593361,\n        \"min\": 61124109.6,\n        \"max\": 205239018.1,\n        \"num_unique_values\": 1003,\n        \"samples\": [\n          120846246.2,\n          119790417.5,\n          135611479.2\n        ],\n        \"semantic_type\": \"\",\n        \"description\": \"\"\n      }\n    }\n  ]\n}"
            }
          },
          "metadata": {},
          "execution_count": 185
        }
      ]
    },
    {
      "cell_type": "code",
      "source": [
        "# # Plotting budget vs revenue with predictions to see how well the model is working\n",
        "# plt.figure(figsize=(10, 6))\n",
        "# sns.scatterplot(data=df, x='budget', y='revenue', label='Actual')\n",
        "# sns.scatterplot(data2=test_predictions, x='budget', y='prediction_label', label='Predicted')\n",
        "# plt.title('Budget vs Revenue (Actual vs Predicted)')\n",
        "# plt.xlabel('Budget')\n",
        "# plt.ylabel('Revenue')\n",
        "# plt.legend()\n",
        "# plt.show()"
      ],
      "metadata": {
        "id": "JJFAdG6jo54j"
      },
      "execution_count": 186,
      "outputs": []
    },
    {
      "source": [
        "# Plotting budget vs revenue with predictions to see how well the model is working\n",
        "plt.figure(figsize=(10, 6))\n",
        "sns.scatterplot(data=df, x='budget', y='revenue', label='Actual')\n",
        "sns.scatterplot(data=test_predictions, x=df['budget'], y='prediction_label', label='Predicted') # Change data2 to data\n",
        "plt.title('Budget vs Revenue (Actual vs Predicted)')\n",
        "plt.xlabel('Budget')\n",
        "plt.ylabel('Revenue')\n",
        "plt.legend()\n",
        "plt.show()"
      ],
      "cell_type": "code",
      "metadata": {
        "colab": {
          "base_uri": "https://localhost:8080/",
          "height": 562
        },
        "id": "KPTNJIF4EV9q",
        "outputId": "94e266aa-54c5-43e7-fdf2-caaa878046d9"
      },
      "execution_count": 187,
      "outputs": [
        {
          "output_type": "display_data",
          "data": {
            "text/plain": [
              "<Figure size 1000x600 with 1 Axes>"
            ],
            "image/png": "[encoded data removed]"
          },
          "metadata": {}
        }
      ]
    },
    {
      "cell_type": "code",
      "source": [
        "# download csv"
      ],
      "metadata": {
        "id": "hdUbeTTXo6Bo"
      },
      "execution_count": 188,
      "outputs": []
    },
    {
      "cell_type": "markdown",
      "source": [
        "# Q1* take  movie_id,revenue and prediction_label columns from the prediction you did for  training data and convert into csv file(if u have split the train data remove it)"
      ],
      "metadata": {
        "id": "IJBPH1F7a9zG"
      }
    },
    {
      "cell_type": "code",
      "source": [
        "# ANS OF Q1\n",
        "\n",
        "# TRAIN PREDICTION DF TO CSV\n",
        "\n",
        "# STEP 1 -\n",
        "# CONVERT DF TO CSV\n",
        "\n",
        "# Save the processed data to a CSV file\n",
        "train_predictions.to_csv('train_predictions_CSV.csv', index=False)\n",
        "\n",
        "\n",
        "# STEP 2 -\n",
        "# DOWNLOAD LIBRARY FOR FILES\n",
        "from google.colab import files\n",
        "\n",
        "# STEP 3 -\n",
        "#  DOWNLOAD CSV\n",
        "\n",
        "#  Download the CSV file\n",
        "files.download('train_predictions_CSV.csv')"
      ],
      "metadata": {
        "colab": {
          "base_uri": "https://localhost:8080/",
          "height": 17
        },
        "id": "yEOD-9HIpC9F",
        "outputId": "e628c72a-cb6c-49e9-82a7-49a17b3e5785"
      },
      "execution_count": 189,
      "outputs": [
        {
          "output_type": "display_data",
          "data": {
            "text/plain": [
              "<IPython.core.display.Javascript object>"
            ],
            "application/javascript": [
              "\n",
              "    async function download(id, filename, size) {\n",
              "      if (!google.colab.kernel.accessAllowed) {\n",
              "        return;\n",
              "      }\n",
              "      const div = document.createElement('div');\n",
              "      const label = document.createElement('label');\n",
              "      label.textContent = `Downloading \"${filename}\": `;\n",
              "      div.appendChild(label);\n",
              "      const progress = document.createElement('progress');\n",
              "      progress.max = size;\n",
              "      div.appendChild(progress);\n",
              "      document.body.appendChild(div);\n",
              "\n",
              "      const buffers = [];\n",
              "      let downloaded = 0;\n",
              "\n",
              "      const channel = await google.colab.kernel.comms.open(id);\n",
              "      // Send a message to notify the kernel that we're ready.\n",
              "      channel.send({})\n",
              "\n",
              "      for await (const message of channel.messages) {\n",
              "        // Send a message to notify the kernel that we're ready.\n",
              "        channel.send({})\n",
              "        if (message.buffers) {\n",
              "          for (const buffer of message.buffers) {\n",
              "            buffers.push(buffer);\n",
              "            downloaded += buffer.byteLength;\n",
              "            progress.value = downloaded;\n",
              "          }\n",
              "        }\n",
              "      }\n",
              "      const blob = new Blob(buffers, {type: 'application/binary'});\n",
              "      const a = document.createElement('a');\n",
              "      a.href = window.URL.createObjectURL(blob);\n",
              "      a.download = filename;\n",
              "      div.appendChild(a);\n",
              "      a.click();\n",
              "      div.remove();\n",
              "    }\n",
              "  "
            ]
          },
          "metadata": {}
        },
        {
          "output_type": "display_data",
          "data": {
            "text/plain": [
              "<IPython.core.display.Javascript object>"
            ],
            "application/javascript": [
              "download(\"download_8499a120-3cff-46af-9ed3-27686f73159b\", \"train_predictions_CSV.csv\", 32384)"
            ]
          },
          "metadata": {}
        }
      ]
    },
    {
      "cell_type": "code",
      "source": [],
      "metadata": {
        "id": "NYeKBrpqpDAK"
      },
      "execution_count": 189,
      "outputs": []
    },
    {
      "cell_type": "markdown",
      "source": [
        "\n"
      ],
      "metadata": {
        "id": "CocqVBumaJ-k"
      }
    },
    {
      "cell_type": "markdown",
      "source": [
        "# Q5* take  movie_id, prediction_label columns from the prediction you did for  test data and convert into csv file *"
      ],
      "metadata": {
        "id": "YtnuvWQta5yL"
      }
    },
    {
      "cell_type": "code",
      "source": [
        "# ANS OF Q5\n",
        "\n",
        "# TEST PREDICTION DF TO CSV\n",
        "\n",
        "# STEP 1 -\n",
        "# CONVERT DF TO CSV\n",
        "\n",
        "# Save the processed data to a CSV file\n",
        "test_predictions.to_csv('test_predictions_CSV.csv', index=False)\n",
        "\n",
        "\n",
        "# STEP 2 -\n",
        "# DOWNLOAD LIBRARY FOR FILES\n",
        "from google.colab import files\n",
        "\n",
        "# STEP 3 -\n",
        "#  DOWNLOAD CSV\n",
        "\n",
        "#  Download the CSV file\n",
        "files.download('test_predictions_CSV.csv')"
      ],
      "metadata": {
        "colab": {
          "base_uri": "https://localhost:8080/",
          "height": 17
        },
        "id": "Pb7ea4X3pDC5",
        "outputId": "a3340349-6a2e-4493-f9d6-c768080afeac"
      },
      "execution_count": 190,
      "outputs": [
        {
          "output_type": "display_data",
          "data": {
            "text/plain": [
              "<IPython.core.display.Javascript object>"
            ],
            "application/javascript": [
              "\n",
              "    async function download(id, filename, size) {\n",
              "      if (!google.colab.kernel.accessAllowed) {\n",
              "        return;\n",
              "      }\n",
              "      const div = document.createElement('div');\n",
              "      const label = document.createElement('label');\n",
              "      label.textContent = `Downloading \"${filename}\": `;\n",
              "      div.appendChild(label);\n",
              "      const progress = document.createElement('progress');\n",
              "      progress.max = size;\n",
              "      div.appendChild(progress);\n",
              "      document.body.appendChild(div);\n",
              "\n",
              "      const buffers = [];\n",
              "      let downloaded = 0;\n",
              "\n",
              "      const channel = await google.colab.kernel.comms.open(id);\n",
              "      // Send a message to notify the kernel that we're ready.\n",
              "      channel.send({})\n",
              "\n",
              "      for await (const message of channel.messages) {\n",
              "        // Send a message to notify the kernel that we're ready.\n",
              "        channel.send({})\n",
              "        if (message.buffers) {\n",
              "          for (const buffer of message.buffers) {\n",
              "            buffers.push(buffer);\n",
              "            downloaded += buffer.byteLength;\n",
              "            progress.value = downloaded;\n",
              "          }\n",
              "        }\n",
              "      }\n",
              "      const blob = new Blob(buffers, {type: 'application/binary'});\n",
              "      const a = document.createElement('a');\n",
              "      a.href = window.URL.createObjectURL(blob);\n",
              "      a.download = filename;\n",
              "      div.appendChild(a);\n",
              "      a.click();\n",
              "      div.remove();\n",
              "    }\n",
              "  "
            ]
          },
          "metadata": {}
        },
        {
          "output_type": "display_data",
          "data": {
            "text/plain": [
              "<IPython.core.display.Javascript object>"
            ],
            "application/javascript": [
              "download(\"download_f19e0479-98f2-4400-a964-62b7e9d63245\", \"test_predictions_CSV.csv\", 17984)"
            ]
          },
          "metadata": {}
        }
      ]
    },
    {
      "cell_type": "code",
      "source": [
        "# SAVE MODEL"
      ],
      "metadata": {
        "id": "BMOv7BWEpDFg"
      },
      "execution_count": 191,
      "outputs": []
    },
    {
      "cell_type": "code",
      "source": [
        "# Import necessary library from PyCaret and google.colab\n",
        "from pycaret.regression import save_model\n",
        "from google.colab import files\n",
        "\n",
        "# Save the final model\n",
        "save_model(final_model, 'final_model')\n",
        "\n",
        "# Download the saved model file\n",
        "files.download('final_model.pkl')"
      ],
      "metadata": {
        "colab": {
          "base_uri": "https://localhost:8080/",
          "height": 34
        },
        "id": "6LvA2YJvpDIZ",
        "outputId": "6970ee58-e276-41ff-bdf3-9c7e8bd4d430"
      },
      "execution_count": 192,
      "outputs": [
        {
          "output_type": "stream",
          "name": "stdout",
          "text": [
            "Transformation Pipeline and Model Successfully Saved\n"
          ]
        },
        {
          "output_type": "display_data",
          "data": {
            "text/plain": [
              "<IPython.core.display.Javascript object>"
            ],
            "application/javascript": [
              "\n",
              "    async function download(id, filename, size) {\n",
              "      if (!google.colab.kernel.accessAllowed) {\n",
              "        return;\n",
              "      }\n",
              "      const div = document.createElement('div');\n",
              "      const label = document.createElement('label');\n",
              "      label.textContent = `Downloading \"${filename}\": `;\n",
              "      div.appendChild(label);\n",
              "      const progress = document.createElement('progress');\n",
              "      progress.max = size;\n",
              "      div.appendChild(progress);\n",
              "      document.body.appendChild(div);\n",
              "\n",
              "      const buffers = [];\n",
              "      let downloaded = 0;\n",
              "\n",
              "      const channel = await google.colab.kernel.comms.open(id);\n",
              "      // Send a message to notify the kernel that we're ready.\n",
              "      channel.send({})\n",
              "\n",
              "      for await (const message of channel.messages) {\n",
              "        // Send a message to notify the kernel that we're ready.\n",
              "        channel.send({})\n",
              "        if (message.buffers) {\n",
              "          for (const buffer of message.buffers) {\n",
              "            buffers.push(buffer);\n",
              "            downloaded += buffer.byteLength;\n",
              "            progress.value = downloaded;\n",
              "          }\n",
              "        }\n",
              "      }\n",
              "      const blob = new Blob(buffers, {type: 'application/binary'});\n",
              "      const a = document.createElement('a');\n",
              "      a.href = window.URL.createObjectURL(blob);\n",
              "      a.download = filename;\n",
              "      div.appendChild(a);\n",
              "      a.click();\n",
              "      div.remove();\n",
              "    }\n",
              "  "
            ]
          },
          "metadata": {}
        },
        {
          "output_type": "display_data",
          "data": {
            "text/plain": [
              "<IPython.core.display.Javascript object>"
            ],
            "application/javascript": [
              "download(\"download_a187a369-55d9-4a6e-a1ef-868756d2bea4\", \"final_model.pkl\", 24823795)"
            ]
          },
          "metadata": {}
        }
      ]
    },
    {
      "cell_type": "code",
      "source": [
        "# Q6* upload these two csv files to google drive before monday evening and to github - ipynb file\n",
        "# ans = done = uploaded"
      ],
      "metadata": {
        "id": "s2OMmDY4WiJo"
      },
      "execution_count": 193,
      "outputs": []
    },
    {
      "cell_type": "code",
      "source": [],
      "metadata": {
        "id": "Qvi8kjwf9aq-"
      },
      "execution_count": 193,
      "outputs": []
    },
    {
      "cell_type": "code",
      "source": [
        "df_test.head(1)"
      ],
      "metadata": {
        "colab": {
          "base_uri": "https://localhost:8080/",
          "height": 217
        },
        "id": "cw30wU00-ZOj",
        "outputId": "91f46d50-ae03-4c05-9d94-f20f242cd206"
      },
      "execution_count": 194,
      "outputs": [
        {
          "output_type": "execute_result",
          "data": {
            "text/plain": [
              "   movie_id    budget                               movie_url    imdb_id  \\\n",
              "0     41210  19000000  https://www.themoviedb.org/movie/41210  tt0889573   \n",
              "\n",
              "   original_language movie_title  \\\n",
              "0                  0  The Switch   \n",
              "\n",
              "                                            overview  popularity  \\\n",
              "0  Kassie is a smart, fun-loving single woman who...      37.077   \n",
              "\n",
              "                        poster_path  \\\n",
              "0  /lQZpZHLafAfYwogCF23lnfPQmIh.jpg   \n",
              "\n",
              "                                production_companies  ...  euskera  \\\n",
              "0  Mandate Pictures, Echo Films, Miramax, Bona Fi...  ...     None   \n",
              "\n",
              "   Slovenčina suomi தமிழ் Srpski Lietuvių Český  Eesti  বাংলা  Somali  \n",
              "0        None  None  None   None     None  None   None   None    None  \n",
              "\n",
              "[1 rows x 168 columns]"
            ],
            "text/html": [
              "\n",
              "  <div id=\"df-4b5be564-b565-43cc-8ad8-09d9c9ab0aaa\" class=\"colab-df-container\">\n",
              "    <div>\n",
              "<style scoped>\n",
              "    .dataframe tbody tr th:only-of-type {\n",
              "        vertical-align: middle;\n",
              "    }\n",
              "\n",
              "    .dataframe tbody tr th {\n",
              "        vertical-align: top;\n",
              "    }\n",
              "\n",
              "    .dataframe thead th {\n",
              "        text-align: right;\n",
              "    }\n",
              "</style>\n",
              "<table border=\"1\" class=\"dataframe\">\n",
              "  <thead>\n",
              "    <tr style=\"text-align: right;\">\n",
              "      <th></th>\n",
              "      <th>movie_id</th>\n",
              "      <th>budget</th>\n",
              "      <th>movie_url</th>\n",
              "      <th>imdb_id</th>\n",
              "      <th>original_language</th>\n",
              "      <th>movie_title</th>\n",
              "      <th>overview</th>\n",
              "      <th>popularity</th>\n",
              "      <th>poster_path</th>\n",
              "      <th>production_companies</th>\n",
              "      <th>...</th>\n",
              "      <th>euskera</th>\n",
              "      <th>Slovenčina</th>\n",
              "      <th>suomi</th>\n",
              "      <th>தமிழ்</th>\n",
              "      <th>Srpski</th>\n",
              "      <th>Lietuvių</th>\n",
              "      <th>Český</th>\n",
              "      <th>Eesti</th>\n",
              "      <th>বাংলা</th>\n",
              "      <th>Somali</th>\n",
              "    </tr>\n",
              "  </thead>\n",
              "  <tbody>\n",
              "    <tr>\n",
              "      <th>0</th>\n",
              "      <td>41210</td>\n",
              "      <td>19000000</td>\n",
              "      <td>https://www.themoviedb.org/movie/41210</td>\n",
              "      <td>tt0889573</td>\n",
              "      <td>0</td>\n",
              "      <td>The Switch</td>\n",
              "      <td>Kassie is a smart, fun-loving single woman who...</td>\n",
              "      <td>37.077</td>\n",
              "      <td>/lQZpZHLafAfYwogCF23lnfPQmIh.jpg</td>\n",
              "      <td>Mandate Pictures, Echo Films, Miramax, Bona Fi...</td>\n",
              "      <td>...</td>\n",
              "      <td>None</td>\n",
              "      <td>None</td>\n",
              "      <td>None</td>\n",
              "      <td>None</td>\n",
              "      <td>None</td>\n",
              "      <td>None</td>\n",
              "      <td>None</td>\n",
              "      <td>None</td>\n",
              "      <td>None</td>\n",
              "      <td>None</td>\n",
              "    </tr>\n",
              "  </tbody>\n",
              "</table>\n",
              "<p>1 rows × 168 columns</p>\n",
              "</div>\n",
              "    <div class=\"colab-df-buttons\">\n",
              "\n",
              "  <div class=\"colab-df-container\">\n",
              "    <button class=\"colab-df-convert\" onclick=\"convertToInteractive('df-4b5be564-b565-43cc-8ad8-09d9c9ab0aaa')\"\n",
              "            title=\"Convert this dataframe to an interactive table.\"\n",
              "            style=\"display:none;\">\n",
              "\n",
              "  <svg xmlns=\"http://www.w3.org/2000/svg\" height=\"24px\" viewBox=\"0 -960 960 960\">\n",
              "    <path d=\"M120-120v-720h720v720H120Zm60-500h600v-160H180v160Zm220 220h160v-160H400v160Zm0 220h160v-160H400v160ZM180-400h160v-160H180v160Zm440 0h160v-160H620v160ZM180-180h160v-160H180v160Zm440 0h160v-160H620v160Z\"/>\n",
              "  </svg>\n",
              "    </button>\n",
              "\n",
              "  <style>\n",
              "    .colab-df-container {\n",
              "      display:flex;\n",
              "      gap: 12px;\n",
              "    }\n",
              "\n",
              "    .colab-df-convert {\n",
              "      background-color: #E8F0FE;\n",
              "      border: none;\n",
              "      border-radius: 50%;\n",
              "      cursor: pointer;\n",
              "      display: none;\n",
              "      fill: #1967D2;\n",
              "      height: 32px;\n",
              "      padding: 0 0 0 0;\n",
              "      width: 32px;\n",
              "    }\n",
              "\n",
              "    .colab-df-convert:hover {\n",
              "      background-color: #E2EBFA;\n",
              "      box-shadow: 0px 1px 2px rgba(60, 64, 67, 0.3), 0px 1px 3px 1px rgba(60, 64, 67, 0.15);\n",
              "      fill: #174EA6;\n",
              "    }\n",
              "\n",
              "    .colab-df-buttons div {\n",
              "      margin-bottom: 4px;\n",
              "    }\n",
              "\n",
              "    [theme=dark] .colab-df-convert {\n",
              "      background-color: #3B4455;\n",
              "      fill: #D2E3FC;\n",
              "    }\n",
              "\n",
              "    [theme=dark] .colab-df-convert:hover {\n",
              "      background-color: #434B5C;\n",
              "      box-shadow: 0px 1px 3px 1px rgba(0, 0, 0, 0.15);\n",
              "      filter: drop-shadow(0px 1px 2px rgba(0, 0, 0, 0.3));\n",
              "      fill: #FFFFFF;\n",
              "    }\n",
              "  </style>\n",
              "\n",
              "    <script>\n",
              "      const buttonEl =\n",
              "        document.querySelector('#df-4b5be564-b565-43cc-8ad8-09d9c9ab0aaa button.colab-df-convert');\n",
              "      buttonEl.style.display =\n",
              "        google.colab.kernel.accessAllowed ? 'block' : 'none';\n",
              "\n",
              "      async function convertToInteractive(key) {\n",
              "        const element = document.querySelector('#df-4b5be564-b565-43cc-8ad8-09d9c9ab0aaa');\n",
              "        const dataTable =\n",
              "          await google.colab.kernel.invokeFunction('convertToInteractive',\n",
              "                                                    [key], {});\n",
              "        if (!dataTable) return;\n",
              "\n",
              "        const docLinkHtml = 'Like what you see? Visit the ' +\n",
              "          '<a target=\"_blank\" href=https://colab.research.google.com/notebooks/data_table.ipynb>data table notebook</a>'\n",
              "          + ' to learn more about interactive tables.';\n",
              "        element.innerHTML = '';\n",
              "        dataTable['output_type'] = 'display_data';\n",
              "        await google.colab.output.renderOutput(dataTable, element);\n",
              "        const docLink = document.createElement('div');\n",
              "        docLink.innerHTML = docLinkHtml;\n",
              "        element.appendChild(docLink);\n",
              "      }\n",
              "    </script>\n",
              "  </div>\n",
              "\n",
              "\n",
              "    </div>\n",
              "  </div>\n"
            ],
            "application/vnd.google.colaboratory.intrinsic+json": {
              "type": "dataframe",
              "variable_name": "df_test"
            }
          },
          "metadata": {},
          "execution_count": 194
        }
      ]
    },
    {
      "cell_type": "code",
      "source": [],
      "metadata": {
        "id": "95bbLLcz9bAh"
      },
      "execution_count": 194,
      "outputs": []
    },
    {
      "cell_type": "code",
      "source": [],
      "metadata": {
        "id": "r6__vYcCWiQA"
      },
      "execution_count": 194,
      "outputs": []
    },
    {
      "cell_type": "code",
      "source": [],
      "metadata": {
        "id": "QoMRvcDB9Kkl"
      },
      "execution_count": 194,
      "outputs": []
    },
    {
      "cell_type": "code",
      "source": [],
      "metadata": {
        "id": "v1Coj2Hu9KnW"
      },
      "execution_count": 194,
      "outputs": []
    },
    {
      "cell_type": "code",
      "source": [],
      "metadata": {
        "id": "rFO_zA-h9KqS"
      },
      "execution_count": 194,
      "outputs": []
    },
    {
      "cell_type": "code",
      "source": [],
      "metadata": {
        "id": "VD2eX7-6Rsvg"
      },
      "execution_count": 194,
      "outputs": []
    },
    {
      "cell_type": "code",
      "source": [
        "# # If a class has only one instance, consider removing it or collecting more data\n",
        "# # For demonstration, let's remove rows where 'revenue' is a value that occurs only once\n",
        "# rare_values = df['revenue'].value_counts()[df['revenue'].value_counts() == 1].index\n",
        "# df = df[~df['revenue'].isin(rare_values)]"
      ],
      "metadata": {
        "id": "foXge_PNSTD3"
      },
      "execution_count": 195,
      "outputs": []
    },
    {
      "cell_type": "code",
      "source": [
        "# # Check the distribution of your target variable\n",
        "# print(df['revenue'].value_counts())"
      ],
      "metadata": {
        "id": "z8AfagKaM9Fh"
      },
      "execution_count": 196,
      "outputs": []
    },
    {
      "cell_type": "code",
      "source": [
        "\n",
        "# # Setup the PyCaret environment\n",
        "# reg = setup(\n",
        "#     data=df,\n",
        "#     target= 'revenue',\n",
        "#     train_size=0.8,\n",
        "#     normalize=True,\n",
        "#     numeric_imputation='mean',\n",
        "#     ignore_features=['id', 'homepage', 'imdb_id', 'movie_title', 'overview', 'poster_path', 'tagline', 'title', 'keywords', 'cast', 'crew'],\n",
        "#     session_id= 111\n",
        "# )\n",
        "\n",
        "# print(reg)"
      ],
      "metadata": {
        "id": "Ki23agV9Ml-z"
      },
      "execution_count": 197,
      "outputs": []
    },
    {
      "cell_type": "code",
      "source": [
        "# # Setup the PyCaret environment with various parameters for preprocessing and feature engineering\n",
        "# reg = setup(\n",
        "#     data=df,  # The dataset you are working with\n",
        "#     target= 'revenue',  # The target column name (the column you want to predict)\n",
        "#     train_size=0.8,  # Proportion of the dataset to be used for training (80% here)\n",
        "#     normalize=True,  # Normalize the data (scale features to have mean 0 and variance 1)\n",
        "#     # transformation=True,  # Apply power transformations to make data more Gaussian-like\n",
        "#     # feature_selection=True,  # Enable feature selection\n",
        "#     # remove_multicollinearity=True,  # Remove features that are highly correlated with each other\n",
        "#     # outliers_threshold=0.05,  # Threshold for defining outliers (5% here)\n",
        "#     numeric_imputation='mean',  # Impute missing values in numeric features with the mean\n",
        "#     # categorical_imputation='mode',  # Impute missing values in categorical features with the mode\n",
        "#     ignore_features=['id', 'homepage', 'imdb_id', 'movie_title', 'overview', 'poster_path', 'tagline', 'title', 'keywords', 'cast', 'crew'],  # Ignore these features during modeling\n",
        "#     session_id= 111  # Seed for reproducibility\n",
        "# )\n",
        "\n",
        "# # Print the setup configuration to check if everything is set correctly\n",
        "# print(reg)\n"
      ],
      "metadata": {
        "id": "0KtQreCINeFB"
      },
      "execution_count": 198,
      "outputs": []
    },
    {
      "cell_type": "code",
      "source": [
        "# # Compare different models based on specified criteria\n",
        "# best_model = compare_models(\n",
        "#     sort='Accuracy',  # Sort models by accuracy\n",
        "#     n_select=3,  # Select the top 3 models\n",
        "#     fold=5,  # Use 5-fold cross-validation\n",
        "#     round=2,  # Round the metrics to 2 decimal places\n",
        "#     cross_validation=True  # Enable cross-validation\n",
        "# )\n"
      ],
      "metadata": {
        "id": "pOYItK98NcoC"
      },
      "execution_count": 199,
      "outputs": []
    },
    {
      "cell_type": "code",
      "source": [
        "# # Create a specific model (Random Forest in this case) with specified hyperparameters\n",
        "# model = create_model(\n",
        "#     'rf',  # Random Forest model\n",
        "#     n_estimators=100,  # Number of trees in the forest\n",
        "#     max_depth=10,  # Maximum depth of each tree\n",
        "#     min_samples_split=5,  # Minimum number of samples required to split an internal node\n",
        "#     min_samples_leaf=2  # Minimum number of samples required to be at a leaf node\n",
        "# )\n",
        "\n",
        "# # Tune the created model to find the best hyperparameters\n",
        "# tuned_model = tune_model(\n",
        "#     model,  # The model to be tuned\n",
        "#     n_iter=50,  # Number of iterations for tuning\n",
        "#     optimize='Accuracy',  # Metric to optimize (accuracy)\n",
        "#     choose_better=True,  # Choose the better performing model\n",
        "#     search_library='scikit-learn',  # Library to use for hyperparameter search\n",
        "#     search_algorithm='random',  # Algorithm to use for hyperparameter search (random search)\n",
        "#     early_stopping=True,  # Enable early stopping to prevent overfitting\n",
        "#     fold=5,  # Use 5-fold cross-validation\n",
        "#     round=2  # Round the metrics to 2 decimal places\n",
        "# )\n"
      ],
      "metadata": {
        "id": "MAzEVGS6NbBK"
      },
      "execution_count": 200,
      "outputs": []
    },
    {
      "cell_type": "code",
      "source": [
        "# # Finalize the model for deployment (train on the entire dataset)\n",
        "# final_model = finalize_model(tuned_model)\n",
        "\n",
        "# # Make predictions on new data using the finalized model\n",
        "# predictions = predict_model(\n",
        "#     final_model,  # The finalized model\n",
        "#     data=new_data,  # New data on which predictions are to be made\n",
        "#     round=2,  # Round the predictions to 2 decimal places\n",
        "#     verbose=True  # Print detailed information about the predictions\n",
        "# )"
      ],
      "metadata": {
        "id": "9PWZUbWHNYXp"
      },
      "execution_count": 201,
      "outputs": []
    },
    {
      "cell_type": "code",
      "source": [
        "\n"
      ],
      "metadata": {
        "id": "J2f8sn-z2LEW"
      },
      "execution_count": 201,
      "outputs": []
    },
    {
      "cell_type": "code",
      "source": [],
      "metadata": {
        "id": "m9BZ73KL2LWU"
      },
      "execution_count": 201,
      "outputs": []
    },
    {
      "cell_type": "code",
      "source": [],
      "metadata": {
        "id": "ZIdcBcTZ2MG1"
      },
      "execution_count": 201,
      "outputs": []
    },
    {
      "cell_type": "code",
      "source": [],
      "metadata": {
        "id": "7eh44UKd2MJT"
      },
      "execution_count": 201,
      "outputs": []
    },
    {
      "cell_type": "code",
      "source": [],
      "metadata": {
        "id": "nnqFr3S_2MLm"
      },
      "execution_count": 201,
      "outputs": []
    },
    {
      "cell_type": "code",
      "source": [],
      "metadata": {
        "id": "uCgrVd-H2MOG"
      },
      "execution_count": 201,
      "outputs": []
    },
    {
      "cell_type": "code",
      "source": [],
      "metadata": {
        "id": "2PPKqJGk2MQL"
      },
      "execution_count": 201,
      "outputs": []
    },
    {
      "cell_type": "code",
      "source": [],
      "metadata": {
        "id": "AcvI6Z242MSr"
      },
      "execution_count": 201,
      "outputs": []
    }
  ]
}